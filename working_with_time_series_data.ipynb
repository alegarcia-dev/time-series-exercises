{
 "cells": [
  {
   "cell_type": "code",
   "execution_count": 1,
   "id": "acdc4477-802b-456d-ab22-ca48fb0bde29",
   "metadata": {},
   "outputs": [],
   "source": [
    "import pandas as pd\n",
    "import matplotlib.pyplot as plt\n",
    "import seaborn as sns"
   ]
  },
  {
   "cell_type": "markdown",
   "id": "22d20bea-5254-48be-aed6-e9a541db1d70",
   "metadata": {},
   "source": [
    "# Working With Time Series Data Exercises\n",
    "\n",
    "## SF Temps"
   ]
  },
  {
   "cell_type": "code",
   "execution_count": 2,
   "id": "68ac4d61-de70-4cdf-a979-bc99b195c7cc",
   "metadata": {},
   "outputs": [],
   "source": [
    "from vega_datasets import data\n",
    "sf_temps = data.sf_temps()"
   ]
  },
  {
   "cell_type": "code",
   "execution_count": 3,
   "id": "e8b75b50-5feb-40c9-988c-f9308cb01580",
   "metadata": {},
   "outputs": [
    {
     "name": "stdout",
     "output_type": "stream",
     "text": [
      "<class 'pandas.core.frame.DataFrame'>\n",
      "RangeIndex: 8759 entries, 0 to 8758\n",
      "Data columns (total 2 columns):\n",
      " #   Column  Non-Null Count  Dtype         \n",
      "---  ------  --------------  -----         \n",
      " 0   temp    8759 non-null   float64       \n",
      " 1   date    8759 non-null   datetime64[ns]\n",
      "dtypes: datetime64[ns](1), float64(1)\n",
      "memory usage: 137.0 KB\n"
     ]
    }
   ],
   "source": [
    "sf_temps.info()"
   ]
  },
  {
   "cell_type": "code",
   "execution_count": 4,
   "id": "bd079f4a-0abb-4aeb-9c0f-66337d1f1c4f",
   "metadata": {},
   "outputs": [
    {
     "data": {
      "text/html": [
       "<div>\n",
       "<style scoped>\n",
       "    .dataframe tbody tr th:only-of-type {\n",
       "        vertical-align: middle;\n",
       "    }\n",
       "\n",
       "    .dataframe tbody tr th {\n",
       "        vertical-align: top;\n",
       "    }\n",
       "\n",
       "    .dataframe thead th {\n",
       "        text-align: right;\n",
       "    }\n",
       "</style>\n",
       "<table border=\"1\" class=\"dataframe\">\n",
       "  <thead>\n",
       "    <tr style=\"text-align: right;\">\n",
       "      <th></th>\n",
       "      <th>temp</th>\n",
       "      <th>date</th>\n",
       "    </tr>\n",
       "  </thead>\n",
       "  <tbody>\n",
       "    <tr>\n",
       "      <th>0</th>\n",
       "      <td>47.8</td>\n",
       "      <td>2010-01-01 00:00:00</td>\n",
       "    </tr>\n",
       "    <tr>\n",
       "      <th>1</th>\n",
       "      <td>47.4</td>\n",
       "      <td>2010-01-01 01:00:00</td>\n",
       "    </tr>\n",
       "    <tr>\n",
       "      <th>2</th>\n",
       "      <td>46.9</td>\n",
       "      <td>2010-01-01 02:00:00</td>\n",
       "    </tr>\n",
       "    <tr>\n",
       "      <th>3</th>\n",
       "      <td>46.5</td>\n",
       "      <td>2010-01-01 03:00:00</td>\n",
       "    </tr>\n",
       "    <tr>\n",
       "      <th>4</th>\n",
       "      <td>46.0</td>\n",
       "      <td>2010-01-01 04:00:00</td>\n",
       "    </tr>\n",
       "  </tbody>\n",
       "</table>\n",
       "</div>"
      ],
      "text/plain": [
       "   temp                date\n",
       "0  47.8 2010-01-01 00:00:00\n",
       "1  47.4 2010-01-01 01:00:00\n",
       "2  46.9 2010-01-01 02:00:00\n",
       "3  46.5 2010-01-01 03:00:00\n",
       "4  46.0 2010-01-01 04:00:00"
      ]
     },
     "execution_count": 4,
     "metadata": {},
     "output_type": "execute_result"
    }
   ],
   "source": [
    "sf_temps.head()"
   ]
  },
  {
   "cell_type": "code",
   "execution_count": 5,
   "id": "e273c54f-f361-4b07-a3e9-329828de7b41",
   "metadata": {},
   "outputs": [],
   "source": [
    "sf_temps = sf_temps.set_index('date').sort_index()"
   ]
  },
  {
   "cell_type": "code",
   "execution_count": 6,
   "id": "f5649b65-7619-458e-b1a8-e293b5a6fbb1",
   "metadata": {},
   "outputs": [
    {
     "name": "stdout",
     "output_type": "stream",
     "text": [
      "<class 'pandas.core.frame.DataFrame'>\n",
      "DatetimeIndex: 8759 entries, 2010-01-01 00:00:00 to 2010-12-31 23:00:00\n",
      "Data columns (total 1 columns):\n",
      " #   Column  Non-Null Count  Dtype  \n",
      "---  ------  --------------  -----  \n",
      " 0   temp    8759 non-null   float64\n",
      "dtypes: float64(1)\n",
      "memory usage: 136.9 KB\n"
     ]
    }
   ],
   "source": [
    "sf_temps.info()"
   ]
  },
  {
   "cell_type": "markdown",
   "id": "f59cd88f-1d6a-4b46-b26e-f88069104c5e",
   "metadata": {},
   "source": [
    "### 1\n",
    "\n",
    "Resample by the day and take the average temperature. Visualize the average temperature over time."
   ]
  },
  {
   "cell_type": "code",
   "execution_count": 7,
   "id": "1f5a6a1c-bf4c-4e00-a14e-3b4a4b43ed3c",
   "metadata": {},
   "outputs": [
    {
     "data": {
      "image/png": "[encoded data removed]",
      "text/plain": [
       "<Figure size 432x288 with 1 Axes>"
      ]
     },
     "metadata": {
      "needs_background": "light"
     },
     "output_type": "display_data"
    }
   ],
   "source": [
    "sf_temps.resample('D').mean().plot();"
   ]
  },
  {
   "cell_type": "markdown",
   "id": "4fa96333-8557-455a-b26b-30b555ff6ef4",
   "metadata": {},
   "source": [
    "### 2\n",
    "\n",
    "Write the code necessary to visualize the minimum temperature over time."
   ]
  },
  {
   "cell_type": "code",
   "execution_count": 8,
   "id": "93d88480-b5ab-49ea-b234-d4f345ce374d",
   "metadata": {},
   "outputs": [
    {
     "data": {
      "image/png": "[encoded data removed]",
      "text/plain": [
       "<Figure size 432x288 with 1 Axes>"
      ]
     },
     "metadata": {
      "needs_background": "light"
     },
     "output_type": "display_data"
    }
   ],
   "source": [
    "sf_temps.resample('D').min().plot();"
   ]
  },
  {
   "cell_type": "markdown",
   "id": "17a25296-dd83-4202-b162-696544de03fd",
   "metadata": {},
   "source": [
    "### 3\n",
    "\n",
    "Write the code necessary to visualize the maximum temperature over time."
   ]
  },
  {
   "cell_type": "code",
   "execution_count": 9,
   "id": "54fc6847-b5ba-4c58-94a2-f778d9c8b756",
   "metadata": {},
   "outputs": [
    {
     "data": {
      "image/png": "[encoded data removed]",
      "text/plain": [
       "<Figure size 432x288 with 1 Axes>"
      ]
     },
     "metadata": {
      "needs_background": "light"
     },
     "output_type": "display_data"
    }
   ],
   "source": [
    "sf_temps.resample('D').max().plot();"
   ]
  },
  {
   "cell_type": "markdown",
   "id": "93cadbe5-55a5-4993-8ab6-0332e1f7b8e2",
   "metadata": {},
   "source": [
    "### 4\n",
    "\n",
    "Which month is the coldest, on average?"
   ]
  },
  {
   "cell_type": "code",
   "execution_count": 10,
   "id": "44181ee8-e2db-470a-b99a-9885d7e0a0e8",
   "metadata": {},
   "outputs": [
    {
     "data": {
      "text/plain": [
       "'January'"
      ]
     },
     "execution_count": 10,
     "metadata": {},
     "output_type": "execute_result"
    }
   ],
   "source": [
    "sf_temps.resample('M').mean().sort_values(by = 'temp').head(1).index.month_name()[0]"
   ]
  },
  {
   "cell_type": "markdown",
   "id": "d9e2a79f-a3a2-4149-b9ad-269883260a46",
   "metadata": {},
   "source": [
    "### 5\n",
    "\n",
    "Which month has the highest average temperature?"
   ]
  },
  {
   "cell_type": "code",
   "execution_count": 11,
   "id": "8e9bec9c-4777-4d40-91a9-fb53a6f84bb1",
   "metadata": {},
   "outputs": [
    {
     "data": {
      "text/plain": [
       "'September'"
      ]
     },
     "execution_count": 11,
     "metadata": {},
     "output_type": "execute_result"
    }
   ],
   "source": [
    "sf_temps.resample('M').mean().sort_values(by = 'temp', ascending = False).head(1).index.month_name()[0]"
   ]
  },
  {
   "cell_type": "markdown",
   "id": "70de4757-3b17-4b08-86af-f0665d27f0aa",
   "metadata": {},
   "source": [
    "### 6\n",
    "\n",
    "Resample by the day and calculate the min and max temp for the day (Hint: .agg(['min', 'max'])). Use this resampled dataframe to calculate the change in temperature for the day. Which month has the highest daily temperature variability?"
   ]
  },
  {
   "cell_type": "code",
   "execution_count": 12,
   "id": "08e71605-033f-4e7d-a92f-c28cf9488479",
   "metadata": {},
   "outputs": [
    {
     "data": {
      "text/plain": [
       "'August'"
      ]
     },
     "execution_count": 12,
     "metadata": {},
     "output_type": "execute_result"
    }
   ],
   "source": [
    "min_max_df = sf_temps.resample('D').agg(['min', 'max'])\n",
    "min_max_df['diff'] = min_max_df['temp']['max'] - min_max_df['temp']['min']\n",
    "min_max_df.resample('M').max().sort_values(by = 'diff', ascending = False).head(1).index.month_name()[0]"
   ]
  },
  {
   "cell_type": "markdown",
   "id": "5ba24fd3-00f5-4fe9-85bb-7158fbd2abef",
   "metadata": {},
   "source": [
    "### 7, Bonus\n",
    "\n",
    "Visualize the daily min, average, and max temperature over time on a single line plot, i.e. the min, average, and maximum temperature should be 3 seperate lines."
   ]
  },
  {
   "cell_type": "code",
   "execution_count": 13,
   "id": "2483b8e0-8b02-4960-a823-fa093f553f2c",
   "metadata": {},
   "outputs": [
    {
     "data": {
      "image/png": "[encoded data removed]",
      "text/plain": [
       "<Figure size 432x288 with 1 Axes>"
      ]
     },
     "metadata": {
      "needs_background": "light"
     },
     "output_type": "display_data"
    }
   ],
   "source": [
    "sf_temps.resample('D').min().temp.plot(label = 'min')\n",
    "sf_temps.resample('D').mean().temp.plot(label = 'average')\n",
    "sf_temps.resample('D').max().temp.plot(label = 'max')\n",
    "plt.legend();"
   ]
  },
  {
   "cell_type": "markdown",
   "id": "920ae300-6a02-4019-bd3a-3f11619be107",
   "metadata": {},
   "source": [
    "## Seattle Weather"
   ]
  },
  {
   "cell_type": "code",
   "execution_count": 14,
   "id": "9669e964-07b9-4e7e-92d8-7475888b7061",
   "metadata": {},
   "outputs": [],
   "source": [
    "seattle_weather = data.seattle_weather()"
   ]
  },
  {
   "cell_type": "code",
   "execution_count": 15,
   "id": "599727d2-2c72-4751-a3aa-7523ff6cb5a3",
   "metadata": {},
   "outputs": [
    {
     "name": "stdout",
     "output_type": "stream",
     "text": [
      "<class 'pandas.core.frame.DataFrame'>\n",
      "RangeIndex: 1461 entries, 0 to 1460\n",
      "Data columns (total 6 columns):\n",
      " #   Column         Non-Null Count  Dtype         \n",
      "---  ------         --------------  -----         \n",
      " 0   date           1461 non-null   datetime64[ns]\n",
      " 1   precipitation  1461 non-null   float64       \n",
      " 2   temp_max       1461 non-null   float64       \n",
      " 3   temp_min       1461 non-null   float64       \n",
      " 4   wind           1461 non-null   float64       \n",
      " 5   weather        1461 non-null   object        \n",
      "dtypes: datetime64[ns](1), float64(4), object(1)\n",
      "memory usage: 68.6+ KB\n"
     ]
    }
   ],
   "source": [
    "seattle_weather.info()"
   ]
  },
  {
   "cell_type": "code",
   "execution_count": 16,
   "id": "bd3e4e09-c1e2-4428-8bee-32f5266aa199",
   "metadata": {},
   "outputs": [],
   "source": [
    "seattle_weather = seattle_weather.set_index('date')"
   ]
  },
  {
   "cell_type": "code",
   "execution_count": 17,
   "id": "b75a56f3-afec-402c-86ef-930f9c0a9065",
   "metadata": {},
   "outputs": [
    {
     "name": "stdout",
     "output_type": "stream",
     "text": [
      "<class 'pandas.core.frame.DataFrame'>\n",
      "DatetimeIndex: 1461 entries, 2012-01-01 to 2015-12-31\n",
      "Data columns (total 5 columns):\n",
      " #   Column         Non-Null Count  Dtype  \n",
      "---  ------         --------------  -----  \n",
      " 0   precipitation  1461 non-null   float64\n",
      " 1   temp_max       1461 non-null   float64\n",
      " 2   temp_min       1461 non-null   float64\n",
      " 3   wind           1461 non-null   float64\n",
      " 4   weather        1461 non-null   object \n",
      "dtypes: float64(4), object(1)\n",
      "memory usage: 68.5+ KB\n"
     ]
    }
   ],
   "source": [
    "seattle_weather.info()"
   ]
  },
  {
   "cell_type": "markdown",
   "id": "f45d771b-964b-49f6-8986-a414eb91e59e",
   "metadata": {},
   "source": [
    "### 1\n",
    "\n",
    "Which year and month combination has the highest amount of precipitation?"
   ]
  },
  {
   "cell_type": "code",
   "execution_count": 18,
   "id": "95c791c8-0df3-46b6-8f35-304c121180fd",
   "metadata": {},
   "outputs": [
    {
     "data": {
      "text/plain": [
       "'2015-December'"
      ]
     },
     "execution_count": 18,
     "metadata": {},
     "output_type": "execute_result"
    }
   ],
   "source": [
    "seattle_weather.resample('M').sum().sort_values(by = 'precipitation', ascending = False).head(1).index.strftime('%Y-%B')[0]"
   ]
  },
  {
   "cell_type": "markdown",
   "id": "46fbb9d1-7a3a-496a-8853-44cfda0bc5aa",
   "metadata": {},
   "source": [
    "### 2\n",
    "\n",
    "Visualize the amount of monthly precipitation over time."
   ]
  },
  {
   "cell_type": "code",
   "execution_count": 19,
   "id": "db2b6287-a673-4097-b90a-d8953867b099",
   "metadata": {},
   "outputs": [
    {
     "data": {
      "image/png": "[encoded data removed]",
      "text/plain": [
       "<Figure size 432x288 with 1 Axes>"
      ]
     },
     "metadata": {
      "needs_background": "light"
     },
     "output_type": "display_data"
    }
   ],
   "source": [
    "seattle_weather.resample('M').sum().precipitation.plot();"
   ]
  },
  {
   "cell_type": "markdown",
   "id": "820ea50e-eae4-4ffa-acfb-eb2676b59711",
   "metadata": {},
   "source": [
    "### 3\n",
    "\n",
    "Visualize the amount of wind over time. Choose a time interval you think is appropriate."
   ]
  },
  {
   "cell_type": "code",
   "execution_count": 20,
   "id": "6ebc70fd-fc84-408a-9124-75321b42bb4b",
   "metadata": {},
   "outputs": [
    {
     "data": {
      "image/png": "[encoded data removed]",
      "text/plain": [
       "<Figure size 432x288 with 1 Axes>"
      ]
     },
     "metadata": {
      "needs_background": "light"
     },
     "output_type": "display_data"
    }
   ],
   "source": [
    "seattle_weather.resample('M').sum().wind.plot();"
   ]
  },
  {
   "cell_type": "markdown",
   "id": "47a99cbf-45e2-42e1-8c2c-a8a6d8c227c8",
   "metadata": {},
   "source": [
    "### 4\n",
    "\n",
    "Which year-month combination is the windiest?"
   ]
  },
  {
   "cell_type": "code",
   "execution_count": 21,
   "id": "da334777-8400-413f-84e8-3e9fb9c3d4f6",
   "metadata": {},
   "outputs": [
    {
     "data": {
      "text/plain": [
       "'2015-December'"
      ]
     },
     "execution_count": 21,
     "metadata": {},
     "output_type": "execute_result"
    }
   ],
   "source": [
    "seattle_weather.resample('M').sum().sort_values(by = 'wind', ascending = False).head(1).index.strftime('%Y-%B')[0]"
   ]
  },
  {
   "cell_type": "markdown",
   "id": "7d711f61-cc77-4ae7-9b08-38f0d71d239c",
   "metadata": {},
   "source": [
    "### 5\n",
    "\n",
    "What's the sunniest year? (Hint: which day has the highest number of days where weather == sun?)"
   ]
  },
  {
   "cell_type": "code",
   "execution_count": 22,
   "id": "205ba336-1243-485f-84d9-41204a23f5bd",
   "metadata": {},
   "outputs": [
    {
     "data": {
      "text/plain": [
       "2014"
      ]
     },
     "execution_count": 22,
     "metadata": {},
     "output_type": "execute_result"
    }
   ],
   "source": [
    "sunny_day = seattle_weather.weather == 'sun'\n",
    "seattle_weather[sunny_day].resample('Y').count().sort_values(by = 'weather', ascending = False).head(1).index.year[0]"
   ]
  },
  {
   "cell_type": "markdown",
   "id": "7d0409ca-06e6-4d95-a38f-7be16e86234d",
   "metadata": {},
   "source": [
    "### 6\n",
    "\n",
    "In which month does it rain the most?"
   ]
  },
  {
   "cell_type": "code",
   "execution_count": 23,
   "id": "5a0cc716-f6ab-4fb3-9b30-882655df4f8c",
   "metadata": {},
   "outputs": [
    {
     "data": {
      "text/html": [
       "<div>\n",
       "<style scoped>\n",
       "    .dataframe tbody tr th:only-of-type {\n",
       "        vertical-align: middle;\n",
       "    }\n",
       "\n",
       "    .dataframe tbody tr th {\n",
       "        vertical-align: top;\n",
       "    }\n",
       "\n",
       "    .dataframe thead th {\n",
       "        text-align: right;\n",
       "    }\n",
       "</style>\n",
       "<table border=\"1\" class=\"dataframe\">\n",
       "  <thead>\n",
       "    <tr style=\"text-align: right;\">\n",
       "      <th></th>\n",
       "      <th>precipitation</th>\n",
       "      <th>temp_max</th>\n",
       "      <th>temp_min</th>\n",
       "      <th>wind</th>\n",
       "      <th>weather</th>\n",
       "      <th>month</th>\n",
       "    </tr>\n",
       "    <tr>\n",
       "      <th>date</th>\n",
       "      <th></th>\n",
       "      <th></th>\n",
       "      <th></th>\n",
       "      <th></th>\n",
       "      <th></th>\n",
       "      <th></th>\n",
       "    </tr>\n",
       "  </thead>\n",
       "  <tbody>\n",
       "    <tr>\n",
       "      <th>2012-01-01</th>\n",
       "      <td>0.0</td>\n",
       "      <td>12.8</td>\n",
       "      <td>5.0</td>\n",
       "      <td>4.7</td>\n",
       "      <td>drizzle</td>\n",
       "      <td>January</td>\n",
       "    </tr>\n",
       "    <tr>\n",
       "      <th>2012-01-02</th>\n",
       "      <td>10.9</td>\n",
       "      <td>10.6</td>\n",
       "      <td>2.8</td>\n",
       "      <td>4.5</td>\n",
       "      <td>rain</td>\n",
       "      <td>January</td>\n",
       "    </tr>\n",
       "    <tr>\n",
       "      <th>2012-01-03</th>\n",
       "      <td>0.8</td>\n",
       "      <td>11.7</td>\n",
       "      <td>7.2</td>\n",
       "      <td>2.3</td>\n",
       "      <td>rain</td>\n",
       "      <td>January</td>\n",
       "    </tr>\n",
       "    <tr>\n",
       "      <th>2012-01-04</th>\n",
       "      <td>20.3</td>\n",
       "      <td>12.2</td>\n",
       "      <td>5.6</td>\n",
       "      <td>4.7</td>\n",
       "      <td>rain</td>\n",
       "      <td>January</td>\n",
       "    </tr>\n",
       "    <tr>\n",
       "      <th>2012-01-05</th>\n",
       "      <td>1.3</td>\n",
       "      <td>8.9</td>\n",
       "      <td>2.8</td>\n",
       "      <td>6.1</td>\n",
       "      <td>rain</td>\n",
       "      <td>January</td>\n",
       "    </tr>\n",
       "  </tbody>\n",
       "</table>\n",
       "</div>"
      ],
      "text/plain": [
       "            precipitation  temp_max  temp_min  wind  weather    month\n",
       "date                                                                 \n",
       "2012-01-01            0.0      12.8       5.0   4.7  drizzle  January\n",
       "2012-01-02           10.9      10.6       2.8   4.5     rain  January\n",
       "2012-01-03            0.8      11.7       7.2   2.3     rain  January\n",
       "2012-01-04           20.3      12.2       5.6   4.7     rain  January\n",
       "2012-01-05            1.3       8.9       2.8   6.1     rain  January"
      ]
     },
     "execution_count": 23,
     "metadata": {},
     "output_type": "execute_result"
    }
   ],
   "source": [
    "seattle_weather['month'] = seattle_weather.index.month_name()\n",
    "seattle_weather.head()"
   ]
  },
  {
   "cell_type": "code",
   "execution_count": 24,
   "id": "e8020453-13c5-42c7-b203-b156b5d298b9",
   "metadata": {},
   "outputs": [
    {
     "data": {
      "text/plain": [
       "'February'"
      ]
     },
     "execution_count": 24,
     "metadata": {},
     "output_type": "execute_result"
    }
   ],
   "source": [
    "rainy_day = seattle_weather.weather == 'rain'\n",
    "seattle_weather[rainy_day].groupby('month').count().sort_values(by = 'weather', ascending = False).head(1).index[0]"
   ]
  },
  {
   "cell_type": "markdown",
   "id": "706e56d1-3d25-4e05-8482-2a421ac64632",
   "metadata": {},
   "source": [
    "### 7\n",
    "\n",
    "Which month has the most number of days with a non-zero amount of precipitation?"
   ]
  },
  {
   "cell_type": "code",
   "execution_count": 25,
   "id": "2e6197fb-ac6c-44d3-bfa0-0f844c776fcd",
   "metadata": {},
   "outputs": [
    {
     "data": {
      "text/plain": [
       "'January'"
      ]
     },
     "execution_count": 25,
     "metadata": {},
     "output_type": "execute_result"
    }
   ],
   "source": [
    "precipitating_day = seattle_weather.weather.isin({'rain', 'drizzle', 'snow'})\n",
    "seattle_weather[precipitating_day].groupby('month').count().sort_values(by = 'weather', ascending = False).head(1).index[0]"
   ]
  },
  {
   "cell_type": "markdown",
   "id": "7b55a4b2-0539-4a54-bb76-f7bf005e720e",
   "metadata": {},
   "source": [
    "## Flights 2k"
   ]
  },
  {
   "cell_type": "code",
   "execution_count": 39,
   "id": "2986bf20-2bb3-4028-a861-857fe153289d",
   "metadata": {},
   "outputs": [],
   "source": [
    "flights = data.flights_20k()"
   ]
  },
  {
   "cell_type": "code",
   "execution_count": 40,
   "id": "5cfa4591-8e90-4dcf-aacc-ae488c4596ad",
   "metadata": {},
   "outputs": [
    {
     "name": "stdout",
     "output_type": "stream",
     "text": [
      "<class 'pandas.core.frame.DataFrame'>\n",
      "RangeIndex: 20000 entries, 0 to 19999\n",
      "Data columns (total 5 columns):\n",
      " #   Column       Non-Null Count  Dtype         \n",
      "---  ------       --------------  -----         \n",
      " 0   date         20000 non-null  datetime64[ns]\n",
      " 1   delay        20000 non-null  int64         \n",
      " 2   distance     20000 non-null  int64         \n",
      " 3   origin       20000 non-null  object        \n",
      " 4   destination  20000 non-null  object        \n",
      "dtypes: datetime64[ns](1), int64(2), object(2)\n",
      "memory usage: 781.4+ KB\n"
     ]
    }
   ],
   "source": [
    "flights.info()"
   ]
  },
  {
   "cell_type": "code",
   "execution_count": 41,
   "id": "4cd5ca85-5890-4543-9060-70b638227d08",
   "metadata": {},
   "outputs": [],
   "source": [
    "flights = flights.set_index('date').sort_index()"
   ]
  },
  {
   "cell_type": "code",
   "execution_count": 42,
   "id": "35b1802b-c128-417c-98ea-4a1a4f0ab9b3",
   "metadata": {},
   "outputs": [
    {
     "name": "stdout",
     "output_type": "stream",
     "text": [
      "<class 'pandas.core.frame.DataFrame'>\n",
      "DatetimeIndex: 20000 entries, 2001-01-01 00:01:00 to 2001-03-31 21:30:00\n",
      "Data columns (total 4 columns):\n",
      " #   Column       Non-Null Count  Dtype \n",
      "---  ------       --------------  ----- \n",
      " 0   delay        20000 non-null  int64 \n",
      " 1   distance     20000 non-null  int64 \n",
      " 2   origin       20000 non-null  object\n",
      " 3   destination  20000 non-null  object\n",
      "dtypes: int64(2), object(2)\n",
      "memory usage: 781.2+ KB\n"
     ]
    }
   ],
   "source": [
    "flights.info()"
   ]
  },
  {
   "cell_type": "markdown",
   "id": "14ee6e9f-7e4b-4219-bff6-de90121661ca",
   "metadata": {},
   "source": [
    "### 1\n",
    "\n",
    "Convert any negative delays to 0."
   ]
  },
  {
   "cell_type": "code",
   "execution_count": 43,
   "id": "9b3a3094-ff27-4fa7-a200-81d1b1037a9e",
   "metadata": {},
   "outputs": [
    {
     "data": {
      "text/plain": [
       "10516"
      ]
     },
     "execution_count": 43,
     "metadata": {},
     "output_type": "execute_result"
    }
   ],
   "source": [
    "(flights.delay <= 0).sum()"
   ]
  },
  {
   "cell_type": "code",
   "execution_count": 44,
   "id": "e5b76caf-ec4e-4d04-8de3-33e30544d8b2",
   "metadata": {},
   "outputs": [],
   "source": [
    "flights.delay = flights.apply(lambda row: row.delay if row.delay > 0 else 0, axis = 1)"
   ]
  },
  {
   "cell_type": "code",
   "execution_count": 45,
   "id": "e90c5824-a5b7-4912-9277-60e01b818bbd",
   "metadata": {},
   "outputs": [
    {
     "data": {
      "text/plain": [
       "0      10516\n",
       "5        776\n",
       "3        577\n",
       "2        507\n",
       "10       476\n",
       "       ...  \n",
       "509        1\n",
       "178        1\n",
       "245        1\n",
       "222        1\n",
       "196        1\n",
       "Name: delay, Length: 194, dtype: int64"
      ]
     },
     "execution_count": 45,
     "metadata": {},
     "output_type": "execute_result"
    }
   ],
   "source": [
    "flights.delay.value_counts()"
   ]
  },
  {
   "cell_type": "markdown",
   "id": "5c6295c8-14d5-4128-bf80-f60a4a87d67b",
   "metadata": {},
   "source": [
    "### 2\n",
    "\n",
    "Which hour of the day has the highest average delay?"
   ]
  },
  {
   "cell_type": "code",
   "execution_count": 58,
   "id": "41428f44-e7e0-4bd1-a928-a0fffee1a492",
   "metadata": {},
   "outputs": [
    {
     "data": {
      "text/html": [
       "<div>\n",
       "<style scoped>\n",
       "    .dataframe tbody tr th:only-of-type {\n",
       "        vertical-align: middle;\n",
       "    }\n",
       "\n",
       "    .dataframe tbody tr th {\n",
       "        vertical-align: top;\n",
       "    }\n",
       "\n",
       "    .dataframe thead th {\n",
       "        text-align: right;\n",
       "    }\n",
       "</style>\n",
       "<table border=\"1\" class=\"dataframe\">\n",
       "  <thead>\n",
       "    <tr style=\"text-align: right;\">\n",
       "      <th></th>\n",
       "      <th>delay</th>\n",
       "    </tr>\n",
       "    <tr>\n",
       "      <th>date</th>\n",
       "      <th></th>\n",
       "    </tr>\n",
       "  </thead>\n",
       "  <tbody>\n",
       "    <tr>\n",
       "      <th>3</th>\n",
       "      <td>302.5</td>\n",
       "    </tr>\n",
       "  </tbody>\n",
       "</table>\n",
       "</div>"
      ],
      "text/plain": [
       "      delay\n",
       "date       \n",
       "3     302.5"
      ]
     },
     "execution_count": 58,
     "metadata": {},
     "output_type": "execute_result"
    }
   ],
   "source": [
    "flights.groupby(by = flights.index.hour).mean().sort_values(by = 'delay', ascending = False).head(1)[['delay']]"
   ]
  },
  {
   "cell_type": "markdown",
   "id": "411fb630-f7a8-4ec4-ab1d-81b33413813a",
   "metadata": {},
   "source": [
    "### 3\n",
    "\n",
    "Does the day of the week make a difference in the delay amount?"
   ]
  },
  {
   "cell_type": "code",
   "execution_count": 62,
   "id": "80605c46-91b9-457c-bca3-a6769d178a8a",
   "metadata": {},
   "outputs": [
    {
     "data": {
      "text/html": [
       "<div>\n",
       "<style scoped>\n",
       "    .dataframe tbody tr th:only-of-type {\n",
       "        vertical-align: middle;\n",
       "    }\n",
       "\n",
       "    .dataframe tbody tr th {\n",
       "        vertical-align: top;\n",
       "    }\n",
       "\n",
       "    .dataframe thead th {\n",
       "        text-align: right;\n",
       "    }\n",
       "</style>\n",
       "<table border=\"1\" class=\"dataframe\">\n",
       "  <thead>\n",
       "    <tr style=\"text-align: right;\">\n",
       "      <th></th>\n",
       "      <th>delay</th>\n",
       "      <th>distance</th>\n",
       "    </tr>\n",
       "    <tr>\n",
       "      <th>date</th>\n",
       "      <th></th>\n",
       "      <th></th>\n",
       "    </tr>\n",
       "  </thead>\n",
       "  <tbody>\n",
       "    <tr>\n",
       "      <th>Monday</th>\n",
       "      <td>7.165772</td>\n",
       "      <td>505.032215</td>\n",
       "    </tr>\n",
       "    <tr>\n",
       "      <th>Saturday</th>\n",
       "      <td>8.431498</td>\n",
       "      <td>550.889031</td>\n",
       "    </tr>\n",
       "    <tr>\n",
       "      <th>Tuesday</th>\n",
       "      <td>9.410866</td>\n",
       "      <td>496.021732</td>\n",
       "    </tr>\n",
       "    <tr>\n",
       "      <th>Sunday</th>\n",
       "      <td>10.413542</td>\n",
       "      <td>507.987758</td>\n",
       "    </tr>\n",
       "    <tr>\n",
       "      <th>Wednesday</th>\n",
       "      <td>11.032478</td>\n",
       "      <td>501.009094</td>\n",
       "    </tr>\n",
       "    <tr>\n",
       "      <th>Thursday</th>\n",
       "      <td>12.821322</td>\n",
       "      <td>485.175025</td>\n",
       "    </tr>\n",
       "    <tr>\n",
       "      <th>Friday</th>\n",
       "      <td>17.757596</td>\n",
       "      <td>501.118230</td>\n",
       "    </tr>\n",
       "  </tbody>\n",
       "</table>\n",
       "</div>"
      ],
      "text/plain": [
       "               delay    distance\n",
       "date                            \n",
       "Monday      7.165772  505.032215\n",
       "Saturday    8.431498  550.889031\n",
       "Tuesday     9.410866  496.021732\n",
       "Sunday     10.413542  507.987758\n",
       "Wednesday  11.032478  501.009094\n",
       "Thursday   12.821322  485.175025\n",
       "Friday     17.757596  501.118230"
      ]
     },
     "execution_count": 62,
     "metadata": {},
     "output_type": "execute_result"
    }
   ],
   "source": [
    "flights.groupby(by = flights.index.day_name()).mean().sort_values(by = 'delay')"
   ]
  },
  {
   "cell_type": "markdown",
   "id": "fddf9efa-532f-438b-8d0f-1f3ccd507cf8",
   "metadata": {},
   "source": [
    "It does make a difference. On average Friday tends to have longer delay times and Monday has shorter delay times."
   ]
  },
  {
   "cell_type": "markdown",
   "id": "1b700c31-05a0-4d99-97b4-514e835f39f7",
   "metadata": {},
   "source": [
    "### 4\n",
    "\n",
    "Does the month make a difference in the delay amount?"
   ]
  },
  {
   "cell_type": "code",
   "execution_count": 63,
   "id": "302ec826-3966-4750-9f35-85e9a78a796a",
   "metadata": {},
   "outputs": [
    {
     "data": {
      "text/html": [
       "<div>\n",
       "<style scoped>\n",
       "    .dataframe tbody tr th:only-of-type {\n",
       "        vertical-align: middle;\n",
       "    }\n",
       "\n",
       "    .dataframe tbody tr th {\n",
       "        vertical-align: top;\n",
       "    }\n",
       "\n",
       "    .dataframe thead th {\n",
       "        text-align: right;\n",
       "    }\n",
       "</style>\n",
       "<table border=\"1\" class=\"dataframe\">\n",
       "  <thead>\n",
       "    <tr style=\"text-align: right;\">\n",
       "      <th></th>\n",
       "      <th>delay</th>\n",
       "      <th>distance</th>\n",
       "    </tr>\n",
       "    <tr>\n",
       "      <th>date</th>\n",
       "      <th></th>\n",
       "      <th></th>\n",
       "    </tr>\n",
       "  </thead>\n",
       "  <tbody>\n",
       "    <tr>\n",
       "      <th>March</th>\n",
       "      <td>9.875287</td>\n",
       "      <td>504.712069</td>\n",
       "    </tr>\n",
       "    <tr>\n",
       "      <th>January</th>\n",
       "      <td>11.301592</td>\n",
       "      <td>500.391952</td>\n",
       "    </tr>\n",
       "    <tr>\n",
       "      <th>February</th>\n",
       "      <td>12.306106</td>\n",
       "      <td>511.156170</td>\n",
       "    </tr>\n",
       "  </tbody>\n",
       "</table>\n",
       "</div>"
      ],
      "text/plain": [
       "              delay    distance\n",
       "date                           \n",
       "March      9.875287  504.712069\n",
       "January   11.301592  500.391952\n",
       "February  12.306106  511.156170"
      ]
     },
     "execution_count": 63,
     "metadata": {},
     "output_type": "execute_result"
    }
   ],
   "source": [
    "flights.groupby(by = flights.index.month_name()).mean().sort_values(by = 'delay')"
   ]
  },
  {
   "cell_type": "markdown",
   "id": "9595bb8e-ca08-4db8-9433-c4b6bee1b4f3",
   "metadata": {},
   "source": [
    "February has the longest delay times on average and March the shortest."
   ]
  },
  {
   "cell_type": "markdown",
   "id": "2d7b5b1f-8777-4dd0-b259-ee08685d1ebd",
   "metadata": {},
   "source": [
    "## Bonus, Iowa Electricity"
   ]
  },
  {
   "cell_type": "code",
   "execution_count": 65,
   "id": "b4e30f20-c7cc-4277-886d-d96c79a31ceb",
   "metadata": {},
   "outputs": [],
   "source": [
    "iowa_electricity = data.iowa_electricity()"
   ]
  },
  {
   "cell_type": "code",
   "execution_count": 66,
   "id": "4f2982cf-bdb5-4279-969c-2315b58c78ab",
   "metadata": {},
   "outputs": [
    {
     "name": "stdout",
     "output_type": "stream",
     "text": [
      "<class 'pandas.core.frame.DataFrame'>\n",
      "RangeIndex: 51 entries, 0 to 50\n",
      "Data columns (total 3 columns):\n",
      " #   Column          Non-Null Count  Dtype         \n",
      "---  ------          --------------  -----         \n",
      " 0   year            51 non-null     datetime64[ns]\n",
      " 1   source          51 non-null     object        \n",
      " 2   net_generation  51 non-null     int64         \n",
      "dtypes: datetime64[ns](1), int64(1), object(1)\n",
      "memory usage: 1.3+ KB\n"
     ]
    }
   ],
   "source": [
    "iowa_electricity.info()"
   ]
  },
  {
   "cell_type": "code",
   "execution_count": 68,
   "id": "abb5e92c-ebc3-4a96-a771-e3c9dc0e9a91",
   "metadata": {},
   "outputs": [],
   "source": [
    "iowa_electricity = iowa_electricity.set_index('year')"
   ]
  },
  {
   "cell_type": "code",
   "execution_count": 69,
   "id": "1a31f56a-97ac-4cd3-a703-6f6300387c27",
   "metadata": {},
   "outputs": [
    {
     "name": "stdout",
     "output_type": "stream",
     "text": [
      "<class 'pandas.core.frame.DataFrame'>\n",
      "DatetimeIndex: 51 entries, 2001-01-01 to 2017-01-01\n",
      "Data columns (total 2 columns):\n",
      " #   Column          Non-Null Count  Dtype \n",
      "---  ------          --------------  ----- \n",
      " 0   source          51 non-null     object\n",
      " 1   net_generation  51 non-null     int64 \n",
      "dtypes: int64(1), object(1)\n",
      "memory usage: 1.2+ KB\n"
     ]
    }
   ],
   "source": [
    "iowa_electricity.info()"
   ]
  },
  {
   "cell_type": "markdown",
   "id": "7acca863-3a30-4718-b448-24974c51045e",
   "metadata": {},
   "source": [
    "### 1\n",
    "\n",
    "For each row, calculate the percentage of the year's total that energy source provided."
   ]
  },
  {
   "cell_type": "code",
   "execution_count": 90,
   "id": "54db04fc-37e0-4874-8e9f-6c10552aced0",
   "metadata": {},
   "outputs": [],
   "source": [
    "yearly_totals = iowa_electricity.resample('Y', label = 'left').sum()\n",
    "yearly_totals.index = yearly_totals.index + pd.DateOffset(1)\n",
    "yearly_totals = yearly_totals.rename(columns = {'net_generation' : 'yearly_total'})"
   ]
  },
  {
   "cell_type": "code",
   "execution_count": 92,
   "id": "191b23fb-883e-47ae-8601-1c52d952e1ca",
   "metadata": {},
   "outputs": [
    {
     "data": {
      "text/html": [
       "<div>\n",
       "<style scoped>\n",
       "    .dataframe tbody tr th:only-of-type {\n",
       "        vertical-align: middle;\n",
       "    }\n",
       "\n",
       "    .dataframe tbody tr th {\n",
       "        vertical-align: top;\n",
       "    }\n",
       "\n",
       "    .dataframe thead th {\n",
       "        text-align: right;\n",
       "    }\n",
       "</style>\n",
       "<table border=\"1\" class=\"dataframe\">\n",
       "  <thead>\n",
       "    <tr style=\"text-align: right;\">\n",
       "      <th></th>\n",
       "      <th>source</th>\n",
       "      <th>net_generation</th>\n",
       "      <th>yearly_total</th>\n",
       "      <th>percentage_yearly_total</th>\n",
       "    </tr>\n",
       "    <tr>\n",
       "      <th>year</th>\n",
       "      <th></th>\n",
       "      <th></th>\n",
       "      <th></th>\n",
       "      <th></th>\n",
       "    </tr>\n",
       "  </thead>\n",
       "  <tbody>\n",
       "    <tr>\n",
       "      <th>2001-01-01</th>\n",
       "      <td>Fossil Fuels</td>\n",
       "      <td>35361</td>\n",
       "      <td>40651</td>\n",
       "      <td>0.87</td>\n",
       "    </tr>\n",
       "    <tr>\n",
       "      <th>2001-01-01</th>\n",
       "      <td>Nuclear Energy</td>\n",
       "      <td>3853</td>\n",
       "      <td>40651</td>\n",
       "      <td>0.09</td>\n",
       "    </tr>\n",
       "    <tr>\n",
       "      <th>2001-01-01</th>\n",
       "      <td>Renewables</td>\n",
       "      <td>1437</td>\n",
       "      <td>40651</td>\n",
       "      <td>0.04</td>\n",
       "    </tr>\n",
       "    <tr>\n",
       "      <th>2002-01-01</th>\n",
       "      <td>Fossil Fuels</td>\n",
       "      <td>35991</td>\n",
       "      <td>42528</td>\n",
       "      <td>0.85</td>\n",
       "    </tr>\n",
       "    <tr>\n",
       "      <th>2002-01-01</th>\n",
       "      <td>Nuclear Energy</td>\n",
       "      <td>4574</td>\n",
       "      <td>42528</td>\n",
       "      <td>0.11</td>\n",
       "    </tr>\n",
       "    <tr>\n",
       "      <th>2002-01-01</th>\n",
       "      <td>Renewables</td>\n",
       "      <td>1963</td>\n",
       "      <td>42528</td>\n",
       "      <td>0.05</td>\n",
       "    </tr>\n",
       "    <tr>\n",
       "      <th>2003-01-01</th>\n",
       "      <td>Fossil Fuels</td>\n",
       "      <td>36234</td>\n",
       "      <td>42107</td>\n",
       "      <td>0.86</td>\n",
       "    </tr>\n",
       "    <tr>\n",
       "      <th>2003-01-01</th>\n",
       "      <td>Nuclear Energy</td>\n",
       "      <td>3988</td>\n",
       "      <td>42107</td>\n",
       "      <td>0.09</td>\n",
       "    </tr>\n",
       "    <tr>\n",
       "      <th>2003-01-01</th>\n",
       "      <td>Renewables</td>\n",
       "      <td>1885</td>\n",
       "      <td>42107</td>\n",
       "      <td>0.04</td>\n",
       "    </tr>\n",
       "    <tr>\n",
       "      <th>2004-01-01</th>\n",
       "      <td>Fossil Fuels</td>\n",
       "      <td>36205</td>\n",
       "      <td>43236</td>\n",
       "      <td>0.84</td>\n",
       "    </tr>\n",
       "    <tr>\n",
       "      <th>2004-01-01</th>\n",
       "      <td>Nuclear Energy</td>\n",
       "      <td>4929</td>\n",
       "      <td>43236</td>\n",
       "      <td>0.11</td>\n",
       "    </tr>\n",
       "    <tr>\n",
       "      <th>2004-01-01</th>\n",
       "      <td>Renewables</td>\n",
       "      <td>2102</td>\n",
       "      <td>43236</td>\n",
       "      <td>0.05</td>\n",
       "    </tr>\n",
       "    <tr>\n",
       "      <th>2005-01-01</th>\n",
       "      <td>Fossil Fuels</td>\n",
       "      <td>36883</td>\n",
       "      <td>44145</td>\n",
       "      <td>0.84</td>\n",
       "    </tr>\n",
       "    <tr>\n",
       "      <th>2005-01-01</th>\n",
       "      <td>Nuclear Energy</td>\n",
       "      <td>4538</td>\n",
       "      <td>44145</td>\n",
       "      <td>0.10</td>\n",
       "    </tr>\n",
       "    <tr>\n",
       "      <th>2005-01-01</th>\n",
       "      <td>Renewables</td>\n",
       "      <td>2724</td>\n",
       "      <td>44145</td>\n",
       "      <td>0.06</td>\n",
       "    </tr>\n",
       "    <tr>\n",
       "      <th>2006-01-01</th>\n",
       "      <td>Fossil Fuels</td>\n",
       "      <td>37014</td>\n",
       "      <td>45473</td>\n",
       "      <td>0.81</td>\n",
       "    </tr>\n",
       "    <tr>\n",
       "      <th>2006-01-01</th>\n",
       "      <td>Nuclear Energy</td>\n",
       "      <td>5095</td>\n",
       "      <td>45473</td>\n",
       "      <td>0.11</td>\n",
       "    </tr>\n",
       "    <tr>\n",
       "      <th>2006-01-01</th>\n",
       "      <td>Renewables</td>\n",
       "      <td>3364</td>\n",
       "      <td>45473</td>\n",
       "      <td>0.07</td>\n",
       "    </tr>\n",
       "    <tr>\n",
       "      <th>2007-01-01</th>\n",
       "      <td>Fossil Fuels</td>\n",
       "      <td>41389</td>\n",
       "      <td>49778</td>\n",
       "      <td>0.83</td>\n",
       "    </tr>\n",
       "    <tr>\n",
       "      <th>2007-01-01</th>\n",
       "      <td>Nuclear Energy</td>\n",
       "      <td>4519</td>\n",
       "      <td>49778</td>\n",
       "      <td>0.09</td>\n",
       "    </tr>\n",
       "    <tr>\n",
       "      <th>2007-01-01</th>\n",
       "      <td>Renewables</td>\n",
       "      <td>3870</td>\n",
       "      <td>49778</td>\n",
       "      <td>0.08</td>\n",
       "    </tr>\n",
       "    <tr>\n",
       "      <th>2008-01-01</th>\n",
       "      <td>Fossil Fuels</td>\n",
       "      <td>42734</td>\n",
       "      <td>53086</td>\n",
       "      <td>0.80</td>\n",
       "    </tr>\n",
       "    <tr>\n",
       "      <th>2008-01-01</th>\n",
       "      <td>Nuclear Energy</td>\n",
       "      <td>5282</td>\n",
       "      <td>53086</td>\n",
       "      <td>0.10</td>\n",
       "    </tr>\n",
       "    <tr>\n",
       "      <th>2008-01-01</th>\n",
       "      <td>Renewables</td>\n",
       "      <td>5070</td>\n",
       "      <td>53086</td>\n",
       "      <td>0.10</td>\n",
       "    </tr>\n",
       "    <tr>\n",
       "      <th>2009-01-01</th>\n",
       "      <td>Fossil Fuels</td>\n",
       "      <td>38620</td>\n",
       "      <td>51859</td>\n",
       "      <td>0.74</td>\n",
       "    </tr>\n",
       "    <tr>\n",
       "      <th>2009-01-01</th>\n",
       "      <td>Nuclear Energy</td>\n",
       "      <td>4679</td>\n",
       "      <td>51859</td>\n",
       "      <td>0.09</td>\n",
       "    </tr>\n",
       "    <tr>\n",
       "      <th>2009-01-01</th>\n",
       "      <td>Renewables</td>\n",
       "      <td>8560</td>\n",
       "      <td>51859</td>\n",
       "      <td>0.17</td>\n",
       "    </tr>\n",
       "    <tr>\n",
       "      <th>2010-01-01</th>\n",
       "      <td>Fossil Fuels</td>\n",
       "      <td>42750</td>\n",
       "      <td>57509</td>\n",
       "      <td>0.74</td>\n",
       "    </tr>\n",
       "    <tr>\n",
       "      <th>2010-01-01</th>\n",
       "      <td>Nuclear Energy</td>\n",
       "      <td>4451</td>\n",
       "      <td>57509</td>\n",
       "      <td>0.08</td>\n",
       "    </tr>\n",
       "    <tr>\n",
       "      <th>2010-01-01</th>\n",
       "      <td>Renewables</td>\n",
       "      <td>10308</td>\n",
       "      <td>57509</td>\n",
       "      <td>0.18</td>\n",
       "    </tr>\n",
       "    <tr>\n",
       "      <th>2011-01-01</th>\n",
       "      <td>Fossil Fuels</td>\n",
       "      <td>39361</td>\n",
       "      <td>56371</td>\n",
       "      <td>0.70</td>\n",
       "    </tr>\n",
       "    <tr>\n",
       "      <th>2011-01-01</th>\n",
       "      <td>Nuclear Energy</td>\n",
       "      <td>5215</td>\n",
       "      <td>56371</td>\n",
       "      <td>0.09</td>\n",
       "    </tr>\n",
       "    <tr>\n",
       "      <th>2011-01-01</th>\n",
       "      <td>Renewables</td>\n",
       "      <td>11795</td>\n",
       "      <td>56371</td>\n",
       "      <td>0.21</td>\n",
       "    </tr>\n",
       "    <tr>\n",
       "      <th>2012-01-01</th>\n",
       "      <td>Fossil Fuels</td>\n",
       "      <td>37379</td>\n",
       "      <td>56675</td>\n",
       "      <td>0.66</td>\n",
       "    </tr>\n",
       "    <tr>\n",
       "      <th>2012-01-01</th>\n",
       "      <td>Nuclear Energy</td>\n",
       "      <td>4347</td>\n",
       "      <td>56675</td>\n",
       "      <td>0.08</td>\n",
       "    </tr>\n",
       "    <tr>\n",
       "      <th>2012-01-01</th>\n",
       "      <td>Renewables</td>\n",
       "      <td>14949</td>\n",
       "      <td>56675</td>\n",
       "      <td>0.26</td>\n",
       "    </tr>\n",
       "    <tr>\n",
       "      <th>2013-01-01</th>\n",
       "      <td>Fossil Fuels</td>\n",
       "      <td>34873</td>\n",
       "      <td>56670</td>\n",
       "      <td>0.62</td>\n",
       "    </tr>\n",
       "    <tr>\n",
       "      <th>2013-01-01</th>\n",
       "      <td>Nuclear Energy</td>\n",
       "      <td>5321</td>\n",
       "      <td>56670</td>\n",
       "      <td>0.09</td>\n",
       "    </tr>\n",
       "    <tr>\n",
       "      <th>2013-01-01</th>\n",
       "      <td>Renewables</td>\n",
       "      <td>16476</td>\n",
       "      <td>56670</td>\n",
       "      <td>0.29</td>\n",
       "    </tr>\n",
       "    <tr>\n",
       "      <th>2014-01-01</th>\n",
       "      <td>Fossil Fuels</td>\n",
       "      <td>35250</td>\n",
       "      <td>56854</td>\n",
       "      <td>0.62</td>\n",
       "    </tr>\n",
       "    <tr>\n",
       "      <th>2014-01-01</th>\n",
       "      <td>Nuclear Energy</td>\n",
       "      <td>4152</td>\n",
       "      <td>56854</td>\n",
       "      <td>0.07</td>\n",
       "    </tr>\n",
       "    <tr>\n",
       "      <th>2014-01-01</th>\n",
       "      <td>Renewables</td>\n",
       "      <td>17452</td>\n",
       "      <td>56854</td>\n",
       "      <td>0.31</td>\n",
       "    </tr>\n",
       "    <tr>\n",
       "      <th>2015-01-01</th>\n",
       "      <td>Fossil Fuels</td>\n",
       "      <td>32319</td>\n",
       "      <td>56653</td>\n",
       "      <td>0.57</td>\n",
       "    </tr>\n",
       "    <tr>\n",
       "      <th>2015-01-01</th>\n",
       "      <td>Nuclear Energy</td>\n",
       "      <td>5243</td>\n",
       "      <td>56653</td>\n",
       "      <td>0.09</td>\n",
       "    </tr>\n",
       "    <tr>\n",
       "      <th>2015-01-01</th>\n",
       "      <td>Renewables</td>\n",
       "      <td>19091</td>\n",
       "      <td>56653</td>\n",
       "      <td>0.34</td>\n",
       "    </tr>\n",
       "    <tr>\n",
       "      <th>2016-01-01</th>\n",
       "      <td>Fossil Fuels</td>\n",
       "      <td>28437</td>\n",
       "      <td>54381</td>\n",
       "      <td>0.52</td>\n",
       "    </tr>\n",
       "    <tr>\n",
       "      <th>2016-01-01</th>\n",
       "      <td>Nuclear Energy</td>\n",
       "      <td>4703</td>\n",
       "      <td>54381</td>\n",
       "      <td>0.09</td>\n",
       "    </tr>\n",
       "    <tr>\n",
       "      <th>2016-01-01</th>\n",
       "      <td>Renewables</td>\n",
       "      <td>21241</td>\n",
       "      <td>54381</td>\n",
       "      <td>0.39</td>\n",
       "    </tr>\n",
       "    <tr>\n",
       "      <th>2017-01-01</th>\n",
       "      <td>Fossil Fuels</td>\n",
       "      <td>29329</td>\n",
       "      <td>56476</td>\n",
       "      <td>0.52</td>\n",
       "    </tr>\n",
       "    <tr>\n",
       "      <th>2017-01-01</th>\n",
       "      <td>Nuclear Energy</td>\n",
       "      <td>5214</td>\n",
       "      <td>56476</td>\n",
       "      <td>0.09</td>\n",
       "    </tr>\n",
       "    <tr>\n",
       "      <th>2017-01-01</th>\n",
       "      <td>Renewables</td>\n",
       "      <td>21933</td>\n",
       "      <td>56476</td>\n",
       "      <td>0.39</td>\n",
       "    </tr>\n",
       "  </tbody>\n",
       "</table>\n",
       "</div>"
      ],
      "text/plain": [
       "                    source  net_generation  yearly_total  \\\n",
       "year                                                       \n",
       "2001-01-01    Fossil Fuels           35361         40651   \n",
       "2001-01-01  Nuclear Energy            3853         40651   \n",
       "2001-01-01      Renewables            1437         40651   \n",
       "2002-01-01    Fossil Fuels           35991         42528   \n",
       "2002-01-01  Nuclear Energy            4574         42528   \n",
       "2002-01-01      Renewables            1963         42528   \n",
       "2003-01-01    Fossil Fuels           36234         42107   \n",
       "2003-01-01  Nuclear Energy            3988         42107   \n",
       "2003-01-01      Renewables            1885         42107   \n",
       "2004-01-01    Fossil Fuels           36205         43236   \n",
       "2004-01-01  Nuclear Energy            4929         43236   \n",
       "2004-01-01      Renewables            2102         43236   \n",
       "2005-01-01    Fossil Fuels           36883         44145   \n",
       "2005-01-01  Nuclear Energy            4538         44145   \n",
       "2005-01-01      Renewables            2724         44145   \n",
       "2006-01-01    Fossil Fuels           37014         45473   \n",
       "2006-01-01  Nuclear Energy            5095         45473   \n",
       "2006-01-01      Renewables            3364         45473   \n",
       "2007-01-01    Fossil Fuels           41389         49778   \n",
       "2007-01-01  Nuclear Energy            4519         49778   \n",
       "2007-01-01      Renewables            3870         49778   \n",
       "2008-01-01    Fossil Fuels           42734         53086   \n",
       "2008-01-01  Nuclear Energy            5282         53086   \n",
       "2008-01-01      Renewables            5070         53086   \n",
       "2009-01-01    Fossil Fuels           38620         51859   \n",
       "2009-01-01  Nuclear Energy            4679         51859   \n",
       "2009-01-01      Renewables            8560         51859   \n",
       "2010-01-01    Fossil Fuels           42750         57509   \n",
       "2010-01-01  Nuclear Energy            4451         57509   \n",
       "2010-01-01      Renewables           10308         57509   \n",
       "2011-01-01    Fossil Fuels           39361         56371   \n",
       "2011-01-01  Nuclear Energy            5215         56371   \n",
       "2011-01-01      Renewables           11795         56371   \n",
       "2012-01-01    Fossil Fuels           37379         56675   \n",
       "2012-01-01  Nuclear Energy            4347         56675   \n",
       "2012-01-01      Renewables           14949         56675   \n",
       "2013-01-01    Fossil Fuels           34873         56670   \n",
       "2013-01-01  Nuclear Energy            5321         56670   \n",
       "2013-01-01      Renewables           16476         56670   \n",
       "2014-01-01    Fossil Fuels           35250         56854   \n",
       "2014-01-01  Nuclear Energy            4152         56854   \n",
       "2014-01-01      Renewables           17452         56854   \n",
       "2015-01-01    Fossil Fuels           32319         56653   \n",
       "2015-01-01  Nuclear Energy            5243         56653   \n",
       "2015-01-01      Renewables           19091         56653   \n",
       "2016-01-01    Fossil Fuels           28437         54381   \n",
       "2016-01-01  Nuclear Energy            4703         54381   \n",
       "2016-01-01      Renewables           21241         54381   \n",
       "2017-01-01    Fossil Fuels           29329         56476   \n",
       "2017-01-01  Nuclear Energy            5214         56476   \n",
       "2017-01-01      Renewables           21933         56476   \n",
       "\n",
       "            percentage_yearly_total  \n",
       "year                                 \n",
       "2001-01-01                     0.87  \n",
       "2001-01-01                     0.09  \n",
       "2001-01-01                     0.04  \n",
       "2002-01-01                     0.85  \n",
       "2002-01-01                     0.11  \n",
       "2002-01-01                     0.05  \n",
       "2003-01-01                     0.86  \n",
       "2003-01-01                     0.09  \n",
       "2003-01-01                     0.04  \n",
       "2004-01-01                     0.84  \n",
       "2004-01-01                     0.11  \n",
       "2004-01-01                     0.05  \n",
       "2005-01-01                     0.84  \n",
       "2005-01-01                     0.10  \n",
       "2005-01-01                     0.06  \n",
       "2006-01-01                     0.81  \n",
       "2006-01-01                     0.11  \n",
       "2006-01-01                     0.07  \n",
       "2007-01-01                     0.83  \n",
       "2007-01-01                     0.09  \n",
       "2007-01-01                     0.08  \n",
       "2008-01-01                     0.80  \n",
       "2008-01-01                     0.10  \n",
       "2008-01-01                     0.10  \n",
       "2009-01-01                     0.74  \n",
       "2009-01-01                     0.09  \n",
       "2009-01-01                     0.17  \n",
       "2010-01-01                     0.74  \n",
       "2010-01-01                     0.08  \n",
       "2010-01-01                     0.18  \n",
       "2011-01-01                     0.70  \n",
       "2011-01-01                     0.09  \n",
       "2011-01-01                     0.21  \n",
       "2012-01-01                     0.66  \n",
       "2012-01-01                     0.08  \n",
       "2012-01-01                     0.26  \n",
       "2013-01-01                     0.62  \n",
       "2013-01-01                     0.09  \n",
       "2013-01-01                     0.29  \n",
       "2014-01-01                     0.62  \n",
       "2014-01-01                     0.07  \n",
       "2014-01-01                     0.31  \n",
       "2015-01-01                     0.57  \n",
       "2015-01-01                     0.09  \n",
       "2015-01-01                     0.34  \n",
       "2016-01-01                     0.52  \n",
       "2016-01-01                     0.09  \n",
       "2016-01-01                     0.39  \n",
       "2017-01-01                     0.52  \n",
       "2017-01-01                     0.09  \n",
       "2017-01-01                     0.39  "
      ]
     },
     "execution_count": 92,
     "metadata": {},
     "output_type": "execute_result"
    }
   ],
   "source": [
    "iowa_electricity = iowa_electricity.merge(yearly_totals, on = 'year')\n",
    "iowa_electricity['percentage_yearly_total'] = round(iowa_electricity.net_generation / iowa_electricity.yearly_total, 2)\n",
    "iowa_electricity"
   ]
  },
  {
   "cell_type": "markdown",
   "id": "a22b4932-cd2a-4380-bfa4-20ffb2b5ae66",
   "metadata": {},
   "source": [
    "### 2\n",
    "\n",
    "Lineplot of generation over time, color by source"
   ]
  },
  {
   "cell_type": "code",
   "execution_count": 95,
   "id": "98a4a515-069e-4889-bffc-7fa069ac31ef",
   "metadata": {},
   "outputs": [
    {
     "data": {
      "image/png": "[encoded data removed]",
      "text/plain": [
       "<Figure size 432x288 with 1 Axes>"
      ]
     },
     "metadata": {
      "needs_background": "light"
     },
     "output_type": "display_data"
    }
   ],
   "source": [
    "iowa_electricity[iowa_electricity.source == 'Fossil Fuels'].net_generation.plot(label = 'Fossil Fuels')\n",
    "iowa_electricity[iowa_electricity.source == 'Nuclear Energy'].net_generation.plot(label = 'Nuclear Energy')\n",
    "iowa_electricity[iowa_electricity.source == 'Renewables'].net_generation.plot(label = 'Renewables')\n",
    "plt.legend();"
   ]
  },
  {
   "cell_type": "markdown",
   "id": "b7cf5db4-714c-4cd3-bacb-8008d6f949ef",
   "metadata": {},
   "source": [
    "### 3\n",
    "\n",
    "Display the data as table where years are columns, and energy source is rows (Hint: df.pivot_table)"
   ]
  },
  {
   "cell_type": "code",
   "execution_count": 102,
   "id": "573cf476-edac-4844-a757-b0dc0481cfeb",
   "metadata": {},
   "outputs": [
    {
     "data": {
      "text/html": [
       "<div>\n",
       "<style scoped>\n",
       "    .dataframe tbody tr th:only-of-type {\n",
       "        vertical-align: middle;\n",
       "    }\n",
       "\n",
       "    .dataframe tbody tr th {\n",
       "        vertical-align: top;\n",
       "    }\n",
       "\n",
       "    .dataframe thead th {\n",
       "        text-align: right;\n",
       "    }\n",
       "</style>\n",
       "<table border=\"1\" class=\"dataframe\">\n",
       "  <thead>\n",
       "    <tr style=\"text-align: right;\">\n",
       "      <th>year</th>\n",
       "      <th>2001</th>\n",
       "      <th>2002</th>\n",
       "      <th>2003</th>\n",
       "      <th>2004</th>\n",
       "      <th>2005</th>\n",
       "      <th>2006</th>\n",
       "      <th>2007</th>\n",
       "      <th>2008</th>\n",
       "      <th>2009</th>\n",
       "      <th>2010</th>\n",
       "      <th>2011</th>\n",
       "      <th>2012</th>\n",
       "      <th>2013</th>\n",
       "      <th>2014</th>\n",
       "      <th>2015</th>\n",
       "      <th>2016</th>\n",
       "      <th>2017</th>\n",
       "    </tr>\n",
       "    <tr>\n",
       "      <th>source</th>\n",
       "      <th></th>\n",
       "      <th></th>\n",
       "      <th></th>\n",
       "      <th></th>\n",
       "      <th></th>\n",
       "      <th></th>\n",
       "      <th></th>\n",
       "      <th></th>\n",
       "      <th></th>\n",
       "      <th></th>\n",
       "      <th></th>\n",
       "      <th></th>\n",
       "      <th></th>\n",
       "      <th></th>\n",
       "      <th></th>\n",
       "      <th></th>\n",
       "      <th></th>\n",
       "    </tr>\n",
       "  </thead>\n",
       "  <tbody>\n",
       "    <tr>\n",
       "      <th>Fossil Fuels</th>\n",
       "      <td>35361</td>\n",
       "      <td>35991</td>\n",
       "      <td>36234</td>\n",
       "      <td>36205</td>\n",
       "      <td>36883</td>\n",
       "      <td>37014</td>\n",
       "      <td>41389</td>\n",
       "      <td>42734</td>\n",
       "      <td>38620</td>\n",
       "      <td>42750</td>\n",
       "      <td>39361</td>\n",
       "      <td>37379</td>\n",
       "      <td>34873</td>\n",
       "      <td>35250</td>\n",
       "      <td>32319</td>\n",
       "      <td>28437</td>\n",
       "      <td>29329</td>\n",
       "    </tr>\n",
       "    <tr>\n",
       "      <th>Nuclear Energy</th>\n",
       "      <td>3853</td>\n",
       "      <td>4574</td>\n",
       "      <td>3988</td>\n",
       "      <td>4929</td>\n",
       "      <td>4538</td>\n",
       "      <td>5095</td>\n",
       "      <td>4519</td>\n",
       "      <td>5282</td>\n",
       "      <td>4679</td>\n",
       "      <td>4451</td>\n",
       "      <td>5215</td>\n",
       "      <td>4347</td>\n",
       "      <td>5321</td>\n",
       "      <td>4152</td>\n",
       "      <td>5243</td>\n",
       "      <td>4703</td>\n",
       "      <td>5214</td>\n",
       "    </tr>\n",
       "    <tr>\n",
       "      <th>Renewables</th>\n",
       "      <td>1437</td>\n",
       "      <td>1963</td>\n",
       "      <td>1885</td>\n",
       "      <td>2102</td>\n",
       "      <td>2724</td>\n",
       "      <td>3364</td>\n",
       "      <td>3870</td>\n",
       "      <td>5070</td>\n",
       "      <td>8560</td>\n",
       "      <td>10308</td>\n",
       "      <td>11795</td>\n",
       "      <td>14949</td>\n",
       "      <td>16476</td>\n",
       "      <td>17452</td>\n",
       "      <td>19091</td>\n",
       "      <td>21241</td>\n",
       "      <td>21933</td>\n",
       "    </tr>\n",
       "  </tbody>\n",
       "</table>\n",
       "</div>"
      ],
      "text/plain": [
       "year             2001   2002   2003   2004   2005   2006   2007   2008   2009  \\\n",
       "source                                                                          \n",
       "Fossil Fuels    35361  35991  36234  36205  36883  37014  41389  42734  38620   \n",
       "Nuclear Energy   3853   4574   3988   4929   4538   5095   4519   5282   4679   \n",
       "Renewables       1437   1963   1885   2102   2724   3364   3870   5070   8560   \n",
       "\n",
       "year             2010   2011   2012   2013   2014   2015   2016   2017  \n",
       "source                                                                  \n",
       "Fossil Fuels    42750  39361  37379  34873  35250  32319  28437  29329  \n",
       "Nuclear Energy   4451   5215   4347   5321   4152   5243   4703   5214  \n",
       "Renewables      10308  11795  14949  16476  17452  19091  21241  21933  "
      ]
     },
     "execution_count": 102,
     "metadata": {},
     "output_type": "execute_result"
    }
   ],
   "source": [
    "iowa_electricity.pivot_table(index = 'source', columns = iowa_electricity.index.year, values = 'net_generation')"
   ]
  },
  {
   "cell_type": "markdown",
   "id": "7589429d-1807-4f58-b683-eabeb2efee93",
   "metadata": {},
   "source": [
    "### 4\n",
    "\n",
    "Make a line plot that shows the amount of energy generated over time. Each source should be a separate line?\n",
    "\n",
    "Same as number 2."
   ]
  },
  {
   "cell_type": "markdown",
   "id": "330522df-39f4-4f11-aa61-5a4586401cbf",
   "metadata": {},
   "source": [
    "### 5\n",
    "\n",
    "Is the total generation increasing over time?\n",
    "- How would you control for increasing consumption over time when considering how much energy is coming from each source?\n",
    "- express each number as a % of the year's total"
   ]
  },
  {
   "cell_type": "code",
   "execution_count": 104,
   "id": "aca5da31-aa8e-4b52-9739-5773ee8142f1",
   "metadata": {},
   "outputs": [
    {
     "data": {
      "image/png": "[encoded data removed]",
      "text/plain": [
       "<Figure size 432x288 with 1 Axes>"
      ]
     },
     "metadata": {
      "needs_background": "light"
     },
     "output_type": "display_data"
    }
   ],
   "source": [
    "yearly_totals.yearly_total.plot()\n",
    "plt.title('Total energy generation is increasing over time.');"
   ]
  },
  {
   "cell_type": "code",
   "execution_count": 106,
   "id": "c96da041-712c-4a92-b297-488bd97c3cd3",
   "metadata": {},
   "outputs": [
    {
     "data": {
      "image/png": "[encoded data removed]",
      "text/plain": [
       "<Figure size 432x288 with 1 Axes>"
      ]
     },
     "metadata": {
      "needs_background": "light"
     },
     "output_type": "display_data"
    }
   ],
   "source": [
    "# We can see how each source contributes to the total generation by plotting each source in a separate line.\n",
    "# Here we see the percentage of the total each source has contributed.\n",
    "\n",
    "iowa_electricity[iowa_electricity.source == 'Fossil Fuels'].percentage_yearly_total.plot(label = 'Fossil Fuels')\n",
    "iowa_electricity[iowa_electricity.source == 'Nuclear Energy'].percentage_yearly_total.plot(label = 'Nuclear Energy')\n",
    "iowa_electricity[iowa_electricity.source == 'Renewables'].percentage_yearly_total.plot(label = 'Renewables')\n",
    "plt.legend()\n",
    "plt.title('Renewables generation is increasing while fossil fuels generation is decreasing.');"
   ]
  }
 ],
 "metadata": {
  "kernelspec": {
   "display_name": "Python 3 (ipykernel)",
   "language": "python",
   "name": "python3"
  },
  "language_info": {
   "codemirror_mode": {
    "name": "ipython",
    "version": 3
   },
   "file_extension": ".py",
   "mimetype": "text/x-python",
   "name": "python",
   "nbconvert_exporter": "python",
   "pygments_lexer": "ipython3",
   "version": "3.9.7"
  }
 },
 "nbformat": 4,
 "nbformat_minor": 5
}
