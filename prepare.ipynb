{
 "cells": [
  {
   "cell_type": "markdown",
   "id": "119e283f-eb1e-4880-909b-5adae51e7af4",
   "metadata": {},
   "source": [
    "# Data Preparation Exercises"
   ]
  },
  {
   "cell_type": "code",
   "execution_count": null,
   "id": "13ad55d4-fd81-4c23-88c3-a798cedd72ae",
   "metadata": {},
   "outputs": [],
   "source": [
    "import numpy as np\n",
    "import pandas as pd\n",
    "import matplotlib.pyplot as plt\n",
    "import seaborn as sns\n",
    "\n",
    "from acquire import *"
   ]
  },
  {
   "cell_type": "markdown",
   "id": "917b7380-8c63-438c-a8b7-567125c6ab12",
   "metadata": {},
   "source": [
    "## Store Items Data"
   ]
  },
  {
   "cell_type": "code",
   "execution_count": null,
   "id": "de71f725-33d8-4e92-89b8-b5456e58da57",
   "metadata": {},
   "outputs": [],
   "source": [
    "store_sales = get_store_sales_data()\n",
    "store_sales.info()"
   ]
  },
  {
   "cell_type": "markdown",
   "id": "524860a3-8785-452c-8376-af8ddf577c98",
   "metadata": {},
   "source": [
    "### 1\n",
    "\n",
    "Convert date column to datetime format."
   ]
  },
  {
   "cell_type": "code",
   "execution_count": null,
   "id": "72bef14b-9093-4615-a909-24bcfe0b6e3b",
   "metadata": {},
   "outputs": [],
   "source": [
    "# Looks like the trailing 00:00:00 GMT is in all the dates. We'll be sure to leave that out when converting the date.\n",
    "store_sales.sale_date.head(20)"
   ]
  },
  {
   "cell_type": "code",
   "execution_count": null,
   "id": "cfa54bd5-91ea-4e1f-bd83-a9f3a415b2ee",
   "metadata": {},
   "outputs": [],
   "source": [
    "store_sales.sale_date.apply(lambda date: date[ : -13]).head(2)"
   ]
  },
  {
   "cell_type": "code",
   "execution_count": null,
   "id": "c9baf0dd-8521-4a39-8780-26c5da5ab101",
   "metadata": {},
   "outputs": [],
   "source": [
    "store_sales.sale_date = store_sales.sale_date.apply(lambda date: date[ : -13])\n",
    "store_sales.sale_date.head(2)"
   ]
  },
  {
   "cell_type": "code",
   "execution_count": null,
   "id": "d1f96d6f-2cbb-4d08-baa6-d7a13d2b1b9b",
   "metadata": {},
   "outputs": [],
   "source": [
    "store_sales.sale_date = pd.to_datetime(store_sales.sale_date, format='%a, %d %b %Y')"
   ]
  },
  {
   "cell_type": "code",
   "execution_count": null,
   "id": "b7ef9175-0081-4568-8c83-b59f1c4dee61",
   "metadata": {},
   "outputs": [],
   "source": [
    "store_sales.sale_date.head()"
   ]
  },
  {
   "cell_type": "markdown",
   "id": "3f95e46d-1c02-411f-b1c0-c4926465f927",
   "metadata": {},
   "source": [
    "### 2\n",
    "\n",
    "Plot the distribution of sale_amount and item_price."
   ]
  },
  {
   "cell_type": "code",
   "execution_count": null,
   "id": "538027dc-3327-4ea0-b265-722369f300af",
   "metadata": {},
   "outputs": [],
   "source": [
    "sns.histplot(store_sales.sale_amount, bins = 20)\n",
    "plt.title('We can treat this as approximately normal.');"
   ]
  },
  {
   "cell_type": "code",
   "execution_count": null,
   "id": "7b613a37-491f-495a-a6e2-3fbd8952a75c",
   "metadata": {},
   "outputs": [],
   "source": [
    "sns.histplot(store_sales.item_price, bins = 20)\n",
    "plt.title('Item price is roughly uniform.');"
   ]
  },
  {
   "cell_type": "markdown",
   "id": "2da4a8f1-661d-4119-a407-c6b67f19614a",
   "metadata": {},
   "source": [
    "### 3\n",
    "\n",
    "Set the index to be the datetime variable."
   ]
  },
  {
   "cell_type": "code",
   "execution_count": null,
   "id": "c6980f63-5d66-421d-8675-eb4d8cba3752",
   "metadata": {},
   "outputs": [],
   "source": [
    "store_sales.info()"
   ]
  },
  {
   "cell_type": "code",
   "execution_count": null,
   "id": "c83f876b-9ae0-4139-b770-462a47f78bdd",
   "metadata": {},
   "outputs": [],
   "source": [
    "store_sales = store_sales.set_index('sale_date').sort_index()\n",
    "store_sales.info()"
   ]
  },
  {
   "cell_type": "markdown",
   "id": "a4164fd6-1372-4b42-88cd-25b8d60943fc",
   "metadata": {},
   "source": [
    "### 4\n",
    "\n",
    "Add a 'month' and 'day of week' column to your dataframe."
   ]
  },
  {
   "cell_type": "code",
   "execution_count": null,
   "id": "df68d80e-f5a3-4d7d-84b0-915550562bed",
   "metadata": {},
   "outputs": [],
   "source": [
    "store_sales['month'] = store_sales.index.strftime('%m-%b')"
   ]
  },
  {
   "cell_type": "code",
   "execution_count": null,
   "id": "3aeedb1f-7654-4b8b-888a-cd67e2b5a8d9",
   "metadata": {},
   "outputs": [],
   "source": [
    "store_sales['weekday'] = store_sales.index.strftime('%w-%a')"
   ]
  },
  {
   "cell_type": "code",
   "execution_count": null,
   "id": "b4457850-dfe5-4ae7-95a5-cb103e99a3eb",
   "metadata": {},
   "outputs": [],
   "source": [
    "store_sales.head()"
   ]
  },
  {
   "cell_type": "markdown",
   "id": "2a07bba0-63b4-43db-8e7c-9f4c839561dc",
   "metadata": {},
   "source": [
    "### 5\n",
    "\n",
    "Add a column to your dataframe, sales_total, which is a derived from sale_amount (total items) and item_price."
   ]
  },
  {
   "cell_type": "code",
   "execution_count": null,
   "id": "5b146869-6cf4-41ee-8420-8f1e580f7156",
   "metadata": {},
   "outputs": [],
   "source": [
    "store_sales['sales_total'] = store_sales.sale_amount * store_sales.item_price\n",
    "store_sales.sales_total.head()"
   ]
  },
  {
   "cell_type": "markdown",
   "id": "8d8f2536-a7f9-4dd9-89db-53c301d355ab",
   "metadata": {},
   "source": [
    "### 6\n",
    "\n",
    "Make sure all the work that you have done above is reproducible. That is, you should put the code above into separate functions and be able to re-run the functions and get the same results."
   ]
  },
  {
   "cell_type": "code",
   "execution_count": null,
   "id": "250a2235-58ca-4a90-984b-d5a5054db13d",
   "metadata": {},
   "outputs": [],
   "source": [
    "from prepare import *"
   ]
  },
  {
   "cell_type": "code",
   "execution_count": null,
   "id": "fbe3ca66-e120-4835-93f2-4f9e601d6cf9",
   "metadata": {},
   "outputs": [],
   "source": [
    "prepare_data(get_store_sales_data()).info()"
   ]
  },
  {
   "cell_type": "code",
   "execution_count": null,
   "id": "67fe93ad-4c54-4491-bf03-01f60457cf36",
   "metadata": {},
   "outputs": [],
   "source": [
    "plot_distributions(store_sales[['sale_amount', 'item_price']])"
   ]
  },
  {
   "cell_type": "markdown",
   "id": "dde4f5ba-30d5-4834-99cc-c558a64056bc",
   "metadata": {},
   "source": [
    "## OPS Data"
   ]
  },
  {
   "cell_type": "code",
   "execution_count": null,
   "id": "99030a23-0559-4d1a-a054-40e50dc569da",
   "metadata": {},
   "outputs": [],
   "source": [
    "ops_data = get_open_power_systems_data()\n",
    "ops_data.info()"
   ]
  },
  {
   "cell_type": "code",
   "execution_count": null,
   "id": "6306e7ba-fdd0-438e-a698-b732f9484d0a",
   "metadata": {},
   "outputs": [],
   "source": [
    "ops_data.columns = [col.replace('+', '_').lower() for col in ops_data.columns]\n",
    "ops_data.info()"
   ]
  },
  {
   "cell_type": "markdown",
   "id": "93c3af83-f0bc-4424-8705-f0da67ddf425",
   "metadata": {},
   "source": [
    "### 1\n",
    "\n",
    "Convert date column to datetime format."
   ]
  },
  {
   "cell_type": "code",
   "execution_count": null,
   "id": "79b386e7-b161-47ea-9fb1-b7cc8de54079",
   "metadata": {},
   "outputs": [],
   "source": [
    "ops_data.date.head()"
   ]
  },
  {
   "cell_type": "code",
   "execution_count": null,
   "id": "1b1ff5d7-5ffc-4a12-b92b-67b302d5610b",
   "metadata": {},
   "outputs": [],
   "source": [
    "ops_data.date = pd.to_datetime(ops_data.date)\n",
    "ops_data.date.head(2)"
   ]
  },
  {
   "cell_type": "markdown",
   "id": "1f743611-7f82-4800-b1b1-864c35e2bda2",
   "metadata": {},
   "source": [
    "### 2\n",
    "\n",
    "Plot the distribution of each of your variables."
   ]
  },
  {
   "cell_type": "code",
   "execution_count": null,
   "id": "c74b6397-a231-4821-9ad8-0d410106fda0",
   "metadata": {},
   "outputs": [],
   "source": [
    "plt.figure(figsize = (18, 10))\n",
    "ops_data.hist()\n",
    "plt.tight_layout();"
   ]
  },
  {
   "cell_type": "markdown",
   "id": "116841c5-5edd-4f43-a520-b05ed2dffdbe",
   "metadata": {},
   "source": [
    "### 3\n",
    "\n",
    "Set the index to be the datetime variable."
   ]
  },
  {
   "cell_type": "code",
   "execution_count": null,
   "id": "697e2de3-e751-478c-a8f5-df08aa8d3a51",
   "metadata": {},
   "outputs": [],
   "source": [
    "ops_data = ops_data.set_index('date').sort_index()\n",
    "ops_data.info()"
   ]
  },
  {
   "cell_type": "markdown",
   "id": "7142093b-11f8-4a2f-a548-3815636432cc",
   "metadata": {},
   "source": [
    "### 4\n",
    "\n",
    "Add a month and a year column to your dataframe."
   ]
  },
  {
   "cell_type": "code",
   "execution_count": null,
   "id": "860838ca-255d-4f21-bb68-86b8f2e2ff60",
   "metadata": {},
   "outputs": [],
   "source": [
    "ops_data['month'] = ops_data.index.strftime('%m-%b')"
   ]
  },
  {
   "cell_type": "code",
   "execution_count": null,
   "id": "07dd798c-7f11-4c3e-bfdd-030571310487",
   "metadata": {},
   "outputs": [],
   "source": [
    "ops_data['year'] = ops_data.index.year"
   ]
  },
  {
   "cell_type": "code",
   "execution_count": null,
   "id": "d4c50ded-376b-4bf7-a5c9-928b35f91280",
   "metadata": {},
   "outputs": [],
   "source": [
    "ops_data.info()"
   ]
  },
  {
   "cell_type": "markdown",
   "id": "31088d15-ad33-4757-92cf-a0a653e14dc6",
   "metadata": {},
   "source": [
    "### 5\n",
    "\n",
    "Fill any missing values."
   ]
  },
  {
   "cell_type": "code",
   "execution_count": null,
   "id": "1beeed7d-aa33-4c87-916f-77c879688bb6",
   "metadata": {},
   "outputs": [],
   "source": [
    "ops_data.describe()"
   ]
  },
  {
   "cell_type": "code",
   "execution_count": null,
   "id": "16905332-3de2-4fbc-8e2a-af27a74440b6",
   "metadata": {},
   "outputs": [],
   "source": [
    "ops_data.tail()"
   ]
  },
  {
   "cell_type": "code",
   "execution_count": null,
   "id": "707ec61c-cda9-4c30-a077-701e249ecfd4",
   "metadata": {},
   "outputs": [],
   "source": [
    "# wind_solar seems to be the sum of wind and solar\n",
    "\n",
    "ops_data[ops_data.wind_solar.isna()]"
   ]
  },
  {
   "cell_type": "code",
   "execution_count": null,
   "id": "13e9e57c-9f4a-496f-a5f3-081575995a22",
   "metadata": {},
   "outputs": [],
   "source": [
    "# Let's re-engineer the wind_solar column\n",
    "# We'll first set all NaNs to 0\n",
    "ops_data = ops_data.fillna(0)\n",
    "ops_data.info()"
   ]
  },
  {
   "cell_type": "code",
   "execution_count": null,
   "id": "ba21294f-91f0-4f20-8a5f-b169c671db57",
   "metadata": {},
   "outputs": [],
   "source": [
    "# Now all the NaNs are 0. We can re-engineer the wind_solar column\n",
    "ops_data.wind_solar = ops_data.wind + ops_data.solar"
   ]
  },
  {
   "cell_type": "code",
   "execution_count": null,
   "id": "1f9b3761-d32e-487e-86b5-edc489a12f08",
   "metadata": {},
   "outputs": [],
   "source": [
    "# Let's verify it worked\n",
    "ops_data[ops_data.solar == 0]"
   ]
  },
  {
   "cell_type": "code",
   "execution_count": null,
   "id": "03907bdb-822b-4a15-96c1-fdd16e8ee6b8",
   "metadata": {},
   "outputs": [],
   "source": [
    "ops_data[ops_data.wind == 0]"
   ]
  },
  {
   "cell_type": "code",
   "execution_count": null,
   "id": "c8a1ff8c-56a8-42d8-8d5d-53499530e96c",
   "metadata": {},
   "outputs": [],
   "source": [
    "ops_data[ops_data.wind_solar == 0]"
   ]
  },
  {
   "cell_type": "markdown",
   "id": "c0b61b4f-52ef-4c2b-91e6-c8b0d42829b5",
   "metadata": {},
   "source": [
    "Looks good. I believe it is safe to assume that wherever 0s remain that is truly a 0 value and not such that all these values should provide the total in consumption."
   ]
  },
  {
   "cell_type": "markdown",
   "id": "63b3ee5f-67f8-4123-961f-4e87ca09ab37",
   "metadata": {},
   "source": [
    "### 6\n",
    "\n",
    "Make sure all the work that you have done above is reproducible. That is, you should put the code above into separate functions and be able to re-run the functions and get the same results."
   ]
  },
  {
   "cell_type": "code",
   "execution_count": null,
   "id": "365ad19c-70a6-4126-8a1b-0cb9dce6dedd",
   "metadata": {},
   "outputs": [],
   "source": [
    "prepare_ops_data(get_open_power_systems_data()).info()"
   ]
  }
 ],
 "metadata": {
  "kernelspec": {
   "display_name": "Python 3 (ipykernel)",
   "language": "python",
   "name": "python3"
  },
  "language_info": {
   "codemirror_mode": {
    "name": "ipython",
    "version": 3
   },
   "file_extension": ".py",
   "mimetype": "text/x-python",
   "name": "python",
   "nbconvert_exporter": "python",
   "pygments_lexer": "ipython3",
   "version": "3.9.7"
  }
 },
 "nbformat": 4,
 "nbformat_minor": 5
}
