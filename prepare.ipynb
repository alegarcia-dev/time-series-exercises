{
 "cells": [
  {
   "cell_type": "markdown",
   "id": "119e283f-eb1e-4880-909b-5adae51e7af4",
   "metadata": {},
   "source": [
    "# Data Preparation Exercises"
   ]
  },
  {
   "cell_type": "code",
   "execution_count": 37,
   "id": "13ad55d4-fd81-4c23-88c3-a798cedd72ae",
   "metadata": {},
   "outputs": [],
   "source": [
    "import numpy as np\n",
    "import pandas as pd\n",
    "import matplotlib.pyplot as plt\n",
    "import seaborn as sns\n",
    "\n",
    "from acquire import *"
   ]
  },
  {
   "cell_type": "markdown",
   "id": "917b7380-8c63-438c-a8b7-567125c6ab12",
   "metadata": {},
   "source": [
    "## Store Items Data"
   ]
  },
  {
   "cell_type": "code",
   "execution_count": 38,
   "id": "de71f725-33d8-4e92-89b8-b5456e58da57",
   "metadata": {},
   "outputs": [
    {
     "name": "stdout",
     "output_type": "stream",
     "text": [
      "Reading from .csv file.\n",
      "Reading from .csv file.\n",
      "Reading from .csv file.\n",
      "<class 'pandas.core.frame.DataFrame'>\n",
      "Int64Index: 913000 entries, 0 to 912999\n",
      "Data columns (total 14 columns):\n",
      " #   Column         Non-Null Count   Dtype  \n",
      "---  ------         --------------   -----  \n",
      " 0   item           913000 non-null  int64  \n",
      " 1   sale_amount    913000 non-null  float64\n",
      " 2   sale_date      913000 non-null  object \n",
      " 3   sale_id        913000 non-null  int64  \n",
      " 4   store          913000 non-null  int64  \n",
      " 5   item_brand     913000 non-null  object \n",
      " 6   item_name      913000 non-null  object \n",
      " 7   item_price     913000 non-null  float64\n",
      " 8   item_upc12     913000 non-null  int64  \n",
      " 9   item_upc14     913000 non-null  int64  \n",
      " 10  store_address  913000 non-null  object \n",
      " 11  store_city     913000 non-null  object \n",
      " 12  store_state    913000 non-null  object \n",
      " 13  store_zipcode  913000 non-null  int64  \n",
      "dtypes: float64(2), int64(6), object(6)\n",
      "memory usage: 104.5+ MB\n"
     ]
    }
   ],
   "source": [
    "store_sales = get_store_sales_data()\n",
    "store_sales.info()"
   ]
  },
  {
   "cell_type": "markdown",
   "id": "524860a3-8785-452c-8376-af8ddf577c98",
   "metadata": {},
   "source": [
    "### 1\n",
    "\n",
    "Convert date column to datetime format."
   ]
  },
  {
   "cell_type": "code",
   "execution_count": 39,
   "id": "72bef14b-9093-4615-a909-24bcfe0b6e3b",
   "metadata": {},
   "outputs": [
    {
     "data": {
      "text/plain": [
       "0     Tue, 01 Jan 2013 00:00:00 GMT\n",
       "1     Wed, 02 Jan 2013 00:00:00 GMT\n",
       "2     Thu, 03 Jan 2013 00:00:00 GMT\n",
       "3     Fri, 04 Jan 2013 00:00:00 GMT\n",
       "4     Sat, 05 Jan 2013 00:00:00 GMT\n",
       "5     Sun, 06 Jan 2013 00:00:00 GMT\n",
       "6     Mon, 07 Jan 2013 00:00:00 GMT\n",
       "7     Tue, 08 Jan 2013 00:00:00 GMT\n",
       "8     Wed, 09 Jan 2013 00:00:00 GMT\n",
       "9     Thu, 10 Jan 2013 00:00:00 GMT\n",
       "10    Fri, 11 Jan 2013 00:00:00 GMT\n",
       "11    Sat, 12 Jan 2013 00:00:00 GMT\n",
       "12    Sun, 13 Jan 2013 00:00:00 GMT\n",
       "13    Mon, 14 Jan 2013 00:00:00 GMT\n",
       "14    Tue, 15 Jan 2013 00:00:00 GMT\n",
       "15    Wed, 16 Jan 2013 00:00:00 GMT\n",
       "16    Thu, 17 Jan 2013 00:00:00 GMT\n",
       "17    Fri, 18 Jan 2013 00:00:00 GMT\n",
       "18    Sat, 19 Jan 2013 00:00:00 GMT\n",
       "19    Sun, 20 Jan 2013 00:00:00 GMT\n",
       "Name: sale_date, dtype: object"
      ]
     },
     "execution_count": 39,
     "metadata": {},
     "output_type": "execute_result"
    }
   ],
   "source": [
    "# Looks like the trailing 00:00:00 GMT is in all the dates. We'll be sure to leave that out when converting the date.\n",
    "store_sales.sale_date.head(20)"
   ]
  },
  {
   "cell_type": "code",
   "execution_count": 40,
   "id": "cfa54bd5-91ea-4e1f-bd83-a9f3a415b2ee",
   "metadata": {},
   "outputs": [
    {
     "data": {
      "text/plain": [
       "0    Tue, 01 Jan 2013\n",
       "1    Wed, 02 Jan 2013\n",
       "Name: sale_date, dtype: object"
      ]
     },
     "execution_count": 40,
     "metadata": {},
     "output_type": "execute_result"
    }
   ],
   "source": [
    "store_sales.sale_date.apply(lambda date: date[ : -13]).head(2)"
   ]
  },
  {
   "cell_type": "code",
   "execution_count": 41,
   "id": "c9baf0dd-8521-4a39-8780-26c5da5ab101",
   "metadata": {},
   "outputs": [
    {
     "data": {
      "text/plain": [
       "0    Tue, 01 Jan 2013\n",
       "1    Wed, 02 Jan 2013\n",
       "Name: sale_date, dtype: object"
      ]
     },
     "execution_count": 41,
     "metadata": {},
     "output_type": "execute_result"
    }
   ],
   "source": [
    "store_sales.sale_date = store_sales.sale_date.apply(lambda date: date[ : -13])\n",
    "store_sales.sale_date.head(2)"
   ]
  },
  {
   "cell_type": "code",
   "execution_count": 42,
   "id": "d1f96d6f-2cbb-4d08-baa6-d7a13d2b1b9b",
   "metadata": {},
   "outputs": [],
   "source": [
    "store_sales.sale_date = pd.to_datetime(store_sales.sale_date, format='%a, %d %b %Y')"
   ]
  },
  {
   "cell_type": "code",
   "execution_count": 43,
   "id": "b7ef9175-0081-4568-8c83-b59f1c4dee61",
   "metadata": {},
   "outputs": [
    {
     "data": {
      "text/plain": [
       "0   2013-01-01\n",
       "1   2013-01-02\n",
       "2   2013-01-03\n",
       "3   2013-01-04\n",
       "4   2013-01-05\n",
       "Name: sale_date, dtype: datetime64[ns]"
      ]
     },
     "execution_count": 43,
     "metadata": {},
     "output_type": "execute_result"
    }
   ],
   "source": [
    "store_sales.sale_date.head()"
   ]
  },
  {
   "cell_type": "markdown",
   "id": "3f95e46d-1c02-411f-b1c0-c4926465f927",
   "metadata": {},
   "source": [
    "### 2\n",
    "\n",
    "Plot the distribution of sale_amount and item_price."
   ]
  },
  {
   "cell_type": "code",
   "execution_count": 44,
   "id": "538027dc-3327-4ea0-b265-722369f300af",
   "metadata": {},
   "outputs": [
    {
     "data": {
      "image/png": "[encoded data removed]",
      "text/plain": [
       "<Figure size 432x288 with 1 Axes>"
      ]
     },
     "metadata": {
      "needs_background": "light"
     },
     "output_type": "display_data"
    }
   ],
   "source": [
    "sns.histplot(store_sales.sale_amount, bins = 20)\n",
    "plt.title('We can treat this as approximately normal.');"
   ]
  },
  {
   "cell_type": "code",
   "execution_count": 45,
   "id": "7b613a37-491f-495a-a6e2-3fbd8952a75c",
   "metadata": {},
   "outputs": [
    {
     "data": {
      "image/png": "[encoded data removed]",
      "text/plain": [
       "<Figure size 432x288 with 1 Axes>"
      ]
     },
     "metadata": {
      "needs_background": "light"
     },
     "output_type": "display_data"
    }
   ],
   "source": [
    "sns.histplot(store_sales.item_price, bins = 20)\n",
    "plt.title('Item price is roughly uniform.');"
   ]
  },
  {
   "cell_type": "markdown",
   "id": "2da4a8f1-661d-4119-a407-c6b67f19614a",
   "metadata": {},
   "source": [
    "### 3\n",
    "\n",
    "Set the index to be the datetime variable."
   ]
  },
  {
   "cell_type": "code",
   "execution_count": 46,
   "id": "c6980f63-5d66-421d-8675-eb4d8cba3752",
   "metadata": {},
   "outputs": [
    {
     "name": "stdout",
     "output_type": "stream",
     "text": [
      "<class 'pandas.core.frame.DataFrame'>\n",
      "Int64Index: 913000 entries, 0 to 912999\n",
      "Data columns (total 14 columns):\n",
      " #   Column         Non-Null Count   Dtype         \n",
      "---  ------         --------------   -----         \n",
      " 0   item           913000 non-null  int64         \n",
      " 1   sale_amount    913000 non-null  float64       \n",
      " 2   sale_date      913000 non-null  datetime64[ns]\n",
      " 3   sale_id        913000 non-null  int64         \n",
      " 4   store          913000 non-null  int64         \n",
      " 5   item_brand     913000 non-null  object        \n",
      " 6   item_name      913000 non-null  object        \n",
      " 7   item_price     913000 non-null  float64       \n",
      " 8   item_upc12     913000 non-null  int64         \n",
      " 9   item_upc14     913000 non-null  int64         \n",
      " 10  store_address  913000 non-null  object        \n",
      " 11  store_city     913000 non-null  object        \n",
      " 12  store_state    913000 non-null  object        \n",
      " 13  store_zipcode  913000 non-null  int64         \n",
      "dtypes: datetime64[ns](1), float64(2), int64(6), object(5)\n",
      "memory usage: 104.5+ MB\n"
     ]
    }
   ],
   "source": [
    "store_sales.info()"
   ]
  },
  {
   "cell_type": "code",
   "execution_count": 47,
   "id": "c83f876b-9ae0-4139-b770-462a47f78bdd",
   "metadata": {},
   "outputs": [
    {
     "name": "stdout",
     "output_type": "stream",
     "text": [
      "<class 'pandas.core.frame.DataFrame'>\n",
      "DatetimeIndex: 913000 entries, 2013-01-01 to 2017-12-31\n",
      "Data columns (total 13 columns):\n",
      " #   Column         Non-Null Count   Dtype  \n",
      "---  ------         --------------   -----  \n",
      " 0   item           913000 non-null  int64  \n",
      " 1   sale_amount    913000 non-null  float64\n",
      " 2   sale_id        913000 non-null  int64  \n",
      " 3   store          913000 non-null  int64  \n",
      " 4   item_brand     913000 non-null  object \n",
      " 5   item_name      913000 non-null  object \n",
      " 6   item_price     913000 non-null  float64\n",
      " 7   item_upc12     913000 non-null  int64  \n",
      " 8   item_upc14     913000 non-null  int64  \n",
      " 9   store_address  913000 non-null  object \n",
      " 10  store_city     913000 non-null  object \n",
      " 11  store_state    913000 non-null  object \n",
      " 12  store_zipcode  913000 non-null  int64  \n",
      "dtypes: float64(2), int64(6), object(5)\n",
      "memory usage: 97.5+ MB\n"
     ]
    }
   ],
   "source": [
    "store_sales = store_sales.set_index('sale_date').sort_index()\n",
    "store_sales.info()"
   ]
  },
  {
   "cell_type": "markdown",
   "id": "a4164fd6-1372-4b42-88cd-25b8d60943fc",
   "metadata": {},
   "source": [
    "### 4\n",
    "\n",
    "Add a 'month' and 'day of week' column to your dataframe."
   ]
  },
  {
   "cell_type": "code",
   "execution_count": 48,
   "id": "df68d80e-f5a3-4d7d-84b0-915550562bed",
   "metadata": {},
   "outputs": [],
   "source": [
    "store_sales['month'] = store_sales.index.strftime('%m-%b')"
   ]
  },
  {
   "cell_type": "code",
   "execution_count": 49,
   "id": "3aeedb1f-7654-4b8b-888a-cd67e2b5a8d9",
   "metadata": {},
   "outputs": [],
   "source": [
    "store_sales['weekday'] = store_sales.index.strftime('%w-%a')"
   ]
  },
  {
   "cell_type": "code",
   "execution_count": 50,
   "id": "b4457850-dfe5-4ae7-95a5-cb103e99a3eb",
   "metadata": {},
   "outputs": [
    {
     "data": {
      "text/html": [
       "<div>\n",
       "<style scoped>\n",
       "    .dataframe tbody tr th:only-of-type {\n",
       "        vertical-align: middle;\n",
       "    }\n",
       "\n",
       "    .dataframe tbody tr th {\n",
       "        vertical-align: top;\n",
       "    }\n",
       "\n",
       "    .dataframe thead th {\n",
       "        text-align: right;\n",
       "    }\n",
       "</style>\n",
       "<table border=\"1\" class=\"dataframe\">\n",
       "  <thead>\n",
       "    <tr style=\"text-align: right;\">\n",
       "      <th></th>\n",
       "      <th>item</th>\n",
       "      <th>sale_amount</th>\n",
       "      <th>sale_id</th>\n",
       "      <th>store</th>\n",
       "      <th>item_brand</th>\n",
       "      <th>item_name</th>\n",
       "      <th>item_price</th>\n",
       "      <th>item_upc12</th>\n",
       "      <th>item_upc14</th>\n",
       "      <th>store_address</th>\n",
       "      <th>store_city</th>\n",
       "      <th>store_state</th>\n",
       "      <th>store_zipcode</th>\n",
       "      <th>month</th>\n",
       "      <th>weekday</th>\n",
       "    </tr>\n",
       "    <tr>\n",
       "      <th>sale_date</th>\n",
       "      <th></th>\n",
       "      <th></th>\n",
       "      <th></th>\n",
       "      <th></th>\n",
       "      <th></th>\n",
       "      <th></th>\n",
       "      <th></th>\n",
       "      <th></th>\n",
       "      <th></th>\n",
       "      <th></th>\n",
       "      <th></th>\n",
       "      <th></th>\n",
       "      <th></th>\n",
       "      <th></th>\n",
       "      <th></th>\n",
       "    </tr>\n",
       "  </thead>\n",
       "  <tbody>\n",
       "    <tr>\n",
       "      <th>2013-01-01</th>\n",
       "      <td>1</td>\n",
       "      <td>13.0</td>\n",
       "      <td>1</td>\n",
       "      <td>1</td>\n",
       "      <td>Riceland</td>\n",
       "      <td>Riceland American Jazmine Rice</td>\n",
       "      <td>0.84</td>\n",
       "      <td>35200264013</td>\n",
       "      <td>35200264013</td>\n",
       "      <td>12125 Alamo Ranch Pkwy</td>\n",
       "      <td>San Antonio</td>\n",
       "      <td>TX</td>\n",
       "      <td>78253</td>\n",
       "      <td>01-Jan</td>\n",
       "      <td>2-Tue</td>\n",
       "    </tr>\n",
       "    <tr>\n",
       "      <th>2013-01-01</th>\n",
       "      <td>17</td>\n",
       "      <td>26.0</td>\n",
       "      <td>295813</td>\n",
       "      <td>3</td>\n",
       "      <td>Ducal</td>\n",
       "      <td>Ducal Refried Red Beans</td>\n",
       "      <td>1.16</td>\n",
       "      <td>88313590791</td>\n",
       "      <td>88313590791</td>\n",
       "      <td>2118 Fredericksburg Rdj</td>\n",
       "      <td>San Antonio</td>\n",
       "      <td>TX</td>\n",
       "      <td>78201</td>\n",
       "      <td>01-Jan</td>\n",
       "      <td>2-Tue</td>\n",
       "    </tr>\n",
       "    <tr>\n",
       "      <th>2013-01-01</th>\n",
       "      <td>7</td>\n",
       "      <td>32.0</td>\n",
       "      <td>125995</td>\n",
       "      <td>10</td>\n",
       "      <td>Twinings Of London</td>\n",
       "      <td>Twinings Of London Classics Lady Grey Tea - 20 Ct</td>\n",
       "      <td>9.64</td>\n",
       "      <td>70177154004</td>\n",
       "      <td>70177154004</td>\n",
       "      <td>8503 NW Military Hwy</td>\n",
       "      <td>San Antonio</td>\n",
       "      <td>TX</td>\n",
       "      <td>78231</td>\n",
       "      <td>01-Jan</td>\n",
       "      <td>2-Tue</td>\n",
       "    </tr>\n",
       "    <tr>\n",
       "      <th>2013-01-01</th>\n",
       "      <td>18</td>\n",
       "      <td>45.0</td>\n",
       "      <td>314073</td>\n",
       "      <td>3</td>\n",
       "      <td>Scotch</td>\n",
       "      <td>Scotch Removable Clear Mounting Squares - 35 Ct</td>\n",
       "      <td>4.39</td>\n",
       "      <td>21200725340</td>\n",
       "      <td>21200725340</td>\n",
       "      <td>2118 Fredericksburg Rdj</td>\n",
       "      <td>San Antonio</td>\n",
       "      <td>TX</td>\n",
       "      <td>78201</td>\n",
       "      <td>01-Jan</td>\n",
       "      <td>2-Tue</td>\n",
       "    </tr>\n",
       "    <tr>\n",
       "      <th>2013-01-01</th>\n",
       "      <td>19</td>\n",
       "      <td>34.0</td>\n",
       "      <td>332333</td>\n",
       "      <td>3</td>\n",
       "      <td>Careone</td>\n",
       "      <td>Careone Family Comb Set - 8 Ct</td>\n",
       "      <td>0.74</td>\n",
       "      <td>41520035646</td>\n",
       "      <td>41520035646</td>\n",
       "      <td>2118 Fredericksburg Rdj</td>\n",
       "      <td>San Antonio</td>\n",
       "      <td>TX</td>\n",
       "      <td>78201</td>\n",
       "      <td>01-Jan</td>\n",
       "      <td>2-Tue</td>\n",
       "    </tr>\n",
       "  </tbody>\n",
       "</table>\n",
       "</div>"
      ],
      "text/plain": [
       "            item  sale_amount  sale_id  store          item_brand  \\\n",
       "sale_date                                                           \n",
       "2013-01-01     1         13.0        1      1            Riceland   \n",
       "2013-01-01    17         26.0   295813      3               Ducal   \n",
       "2013-01-01     7         32.0   125995     10  Twinings Of London   \n",
       "2013-01-01    18         45.0   314073      3              Scotch   \n",
       "2013-01-01    19         34.0   332333      3             Careone   \n",
       "\n",
       "                                                    item_name  item_price  \\\n",
       "sale_date                                                                   \n",
       "2013-01-01                     Riceland American Jazmine Rice        0.84   \n",
       "2013-01-01                            Ducal Refried Red Beans        1.16   \n",
       "2013-01-01  Twinings Of London Classics Lady Grey Tea - 20 Ct        9.64   \n",
       "2013-01-01    Scotch Removable Clear Mounting Squares - 35 Ct        4.39   \n",
       "2013-01-01                     Careone Family Comb Set - 8 Ct        0.74   \n",
       "\n",
       "             item_upc12   item_upc14            store_address   store_city  \\\n",
       "sale_date                                                                    \n",
       "2013-01-01  35200264013  35200264013   12125 Alamo Ranch Pkwy  San Antonio   \n",
       "2013-01-01  88313590791  88313590791  2118 Fredericksburg Rdj  San Antonio   \n",
       "2013-01-01  70177154004  70177154004     8503 NW Military Hwy  San Antonio   \n",
       "2013-01-01  21200725340  21200725340  2118 Fredericksburg Rdj  San Antonio   \n",
       "2013-01-01  41520035646  41520035646  2118 Fredericksburg Rdj  San Antonio   \n",
       "\n",
       "           store_state  store_zipcode   month weekday  \n",
       "sale_date                                              \n",
       "2013-01-01          TX          78253  01-Jan   2-Tue  \n",
       "2013-01-01          TX          78201  01-Jan   2-Tue  \n",
       "2013-01-01          TX          78231  01-Jan   2-Tue  \n",
       "2013-01-01          TX          78201  01-Jan   2-Tue  \n",
       "2013-01-01          TX          78201  01-Jan   2-Tue  "
      ]
     },
     "execution_count": 50,
     "metadata": {},
     "output_type": "execute_result"
    }
   ],
   "source": [
    "store_sales.head()"
   ]
  },
  {
   "cell_type": "markdown",
   "id": "2a07bba0-63b4-43db-8e7c-9f4c839561dc",
   "metadata": {},
   "source": [
    "### 5\n",
    "\n",
    "Add a column to your dataframe, sales_total, which is a derived from sale_amount (total items) and item_price."
   ]
  },
  {
   "cell_type": "code",
   "execution_count": 51,
   "id": "5b146869-6cf4-41ee-8420-8f1e580f7156",
   "metadata": {},
   "outputs": [
    {
     "data": {
      "text/plain": [
       "sale_date\n",
       "2013-01-01     10.92\n",
       "2013-01-01     30.16\n",
       "2013-01-01    308.48\n",
       "2013-01-01    197.55\n",
       "2013-01-01     25.16\n",
       "Name: sales_total, dtype: float64"
      ]
     },
     "execution_count": 51,
     "metadata": {},
     "output_type": "execute_result"
    }
   ],
   "source": [
    "store_sales['sales_total'] = store_sales.sale_amount * store_sales.item_price\n",
    "store_sales.sales_total.head()"
   ]
  },
  {
   "cell_type": "markdown",
   "id": "8d8f2536-a7f9-4dd9-89db-53c301d355ab",
   "metadata": {},
   "source": [
    "### 6\n",
    "\n",
    "Make sure all the work that you have done above is reproducible. That is, you should put the code above into separate functions and be able to re-run the functions and get the same results."
   ]
  },
  {
   "cell_type": "code",
   "execution_count": 52,
   "id": "250a2235-58ca-4a90-984b-d5a5054db13d",
   "metadata": {},
   "outputs": [],
   "source": [
    "from prepare import *"
   ]
  },
  {
   "cell_type": "code",
   "execution_count": 53,
   "id": "fbe3ca66-e120-4835-93f2-4f9e601d6cf9",
   "metadata": {},
   "outputs": [
    {
     "name": "stdout",
     "output_type": "stream",
     "text": [
      "Reading from .csv file.\n",
      "Reading from .csv file.\n",
      "Reading from .csv file.\n",
      "<class 'pandas.core.frame.DataFrame'>\n",
      "DatetimeIndex: 913000 entries, 2013-01-01 to 2017-12-31\n",
      "Data columns (total 16 columns):\n",
      " #   Column         Non-Null Count   Dtype  \n",
      "---  ------         --------------   -----  \n",
      " 0   item           913000 non-null  int64  \n",
      " 1   sale_amount    913000 non-null  float64\n",
      " 2   sale_id        913000 non-null  int64  \n",
      " 3   store          913000 non-null  int64  \n",
      " 4   item_brand     913000 non-null  object \n",
      " 5   item_name      913000 non-null  object \n",
      " 6   item_price     913000 non-null  float64\n",
      " 7   item_upc12     913000 non-null  int64  \n",
      " 8   item_upc14     913000 non-null  int64  \n",
      " 9   store_address  913000 non-null  object \n",
      " 10  store_city     913000 non-null  object \n",
      " 11  store_state    913000 non-null  object \n",
      " 12  store_zipcode  913000 non-null  int64  \n",
      " 13  month          913000 non-null  object \n",
      " 14  weekday        913000 non-null  object \n",
      " 15  sales_total    913000 non-null  float64\n",
      "dtypes: float64(3), int64(6), object(7)\n",
      "memory usage: 118.4+ MB\n"
     ]
    }
   ],
   "source": [
    "prepare_data(get_store_sales_data()).info()"
   ]
  },
  {
   "cell_type": "code",
   "execution_count": 54,
   "id": "67fe93ad-4c54-4491-bf03-01f60457cf36",
   "metadata": {},
   "outputs": [
    {
     "data": {
      "image/png": "[encoded data removed]",
      "text/plain": [
       "<Figure size 720x432 with 2 Axes>"
      ]
     },
     "metadata": {
      "needs_background": "light"
     },
     "output_type": "display_data"
    }
   ],
   "source": [
    "plot_distributions(store_sales[['sale_amount', 'item_price']])"
   ]
  },
  {
   "cell_type": "markdown",
   "id": "dde4f5ba-30d5-4834-99cc-c558a64056bc",
   "metadata": {},
   "source": [
    "## OPS Data"
   ]
  },
  {
   "cell_type": "code",
   "execution_count": 55,
   "id": "99030a23-0559-4d1a-a054-40e50dc569da",
   "metadata": {},
   "outputs": [
    {
     "name": "stdout",
     "output_type": "stream",
     "text": [
      "<class 'pandas.core.frame.DataFrame'>\n",
      "RangeIndex: 4383 entries, 0 to 4382\n",
      "Data columns (total 5 columns):\n",
      " #   Column       Non-Null Count  Dtype  \n",
      "---  ------       --------------  -----  \n",
      " 0   Date         4383 non-null   object \n",
      " 1   Consumption  4383 non-null   float64\n",
      " 2   Wind         2920 non-null   float64\n",
      " 3   Solar        2188 non-null   float64\n",
      " 4   Wind+Solar   2187 non-null   float64\n",
      "dtypes: float64(4), object(1)\n",
      "memory usage: 171.3+ KB\n"
     ]
    }
   ],
   "source": [
    "ops_data = get_open_power_systems_data()\n",
    "ops_data.info()"
   ]
  },
  {
   "cell_type": "code",
   "execution_count": 56,
   "id": "6306e7ba-fdd0-438e-a698-b732f9484d0a",
   "metadata": {},
   "outputs": [
    {
     "name": "stdout",
     "output_type": "stream",
     "text": [
      "<class 'pandas.core.frame.DataFrame'>\n",
      "RangeIndex: 4383 entries, 0 to 4382\n",
      "Data columns (total 5 columns):\n",
      " #   Column       Non-Null Count  Dtype  \n",
      "---  ------       --------------  -----  \n",
      " 0   date         4383 non-null   object \n",
      " 1   consumption  4383 non-null   float64\n",
      " 2   wind         2920 non-null   float64\n",
      " 3   solar        2188 non-null   float64\n",
      " 4   wind_solar   2187 non-null   float64\n",
      "dtypes: float64(4), object(1)\n",
      "memory usage: 171.3+ KB\n"
     ]
    }
   ],
   "source": [
    "ops_data.columns = [col.replace('+', '_').lower() for col in ops_data.columns]\n",
    "ops_data.info()"
   ]
  },
  {
   "cell_type": "markdown",
   "id": "93c3af83-f0bc-4424-8705-f0da67ddf425",
   "metadata": {},
   "source": [
    "### 1\n",
    "\n",
    "Convert date column to datetime format."
   ]
  },
  {
   "cell_type": "code",
   "execution_count": 57,
   "id": "79b386e7-b161-47ea-9fb1-b7cc8de54079",
   "metadata": {},
   "outputs": [
    {
     "data": {
      "text/plain": [
       "0    2006-01-01\n",
       "1    2006-01-02\n",
       "2    2006-01-03\n",
       "3    2006-01-04\n",
       "4    2006-01-05\n",
       "Name: date, dtype: object"
      ]
     },
     "execution_count": 57,
     "metadata": {},
     "output_type": "execute_result"
    }
   ],
   "source": [
    "ops_data.date.head()"
   ]
  },
  {
   "cell_type": "code",
   "execution_count": 58,
   "id": "1b1ff5d7-5ffc-4a12-b92b-67b302d5610b",
   "metadata": {},
   "outputs": [
    {
     "data": {
      "text/plain": [
       "0   2006-01-01\n",
       "1   2006-01-02\n",
       "Name: date, dtype: datetime64[ns]"
      ]
     },
     "execution_count": 58,
     "metadata": {},
     "output_type": "execute_result"
    }
   ],
   "source": [
    "ops_data.date = pd.to_datetime(ops_data.date)\n",
    "ops_data.date.head(2)"
   ]
  },
  {
   "cell_type": "markdown",
   "id": "1f743611-7f82-4800-b1b1-864c35e2bda2",
   "metadata": {},
   "source": [
    "### 2\n",
    "\n",
    "Plot the distribution of each of your variables."
   ]
  },
  {
   "cell_type": "code",
   "execution_count": 59,
   "id": "c74b6397-a231-4821-9ad8-0d410106fda0",
   "metadata": {},
   "outputs": [
    {
     "data": {
      "text/plain": [
       "<Figure size 1296x720 with 0 Axes>"
      ]
     },
     "metadata": {},
     "output_type": "display_data"
    },
    {
     "data": {
      "image/png": "[encoded data removed]",
      "text/plain": [
       "<Figure size 432x288 with 6 Axes>"
      ]
     },
     "metadata": {
      "needs_background": "light"
     },
     "output_type": "display_data"
    }
   ],
   "source": [
    "plt.figure(figsize = (18, 10))\n",
    "ops_data.hist()\n",
    "plt.tight_layout();"
   ]
  },
  {
   "cell_type": "markdown",
   "id": "116841c5-5edd-4f43-a520-b05ed2dffdbe",
   "metadata": {},
   "source": [
    "### 3\n",
    "\n",
    "Set the index to be the datetime variable."
   ]
  },
  {
   "cell_type": "code",
   "execution_count": 60,
   "id": "697e2de3-e751-478c-a8f5-df08aa8d3a51",
   "metadata": {},
   "outputs": [
    {
     "name": "stdout",
     "output_type": "stream",
     "text": [
      "<class 'pandas.core.frame.DataFrame'>\n",
      "DatetimeIndex: 4383 entries, 2006-01-01 to 2017-12-31\n",
      "Data columns (total 4 columns):\n",
      " #   Column       Non-Null Count  Dtype  \n",
      "---  ------       --------------  -----  \n",
      " 0   consumption  4383 non-null   float64\n",
      " 1   wind         2920 non-null   float64\n",
      " 2   solar        2188 non-null   float64\n",
      " 3   wind_solar   2187 non-null   float64\n",
      "dtypes: float64(4)\n",
      "memory usage: 171.2 KB\n"
     ]
    }
   ],
   "source": [
    "ops_data = ops_data.set_index('date').sort_index()\n",
    "ops_data.info()"
   ]
  },
  {
   "cell_type": "markdown",
   "id": "7142093b-11f8-4a2f-a548-3815636432cc",
   "metadata": {},
   "source": [
    "### 4\n",
    "\n",
    "Add a month and a year column to your dataframe."
   ]
  },
  {
   "cell_type": "code",
   "execution_count": 61,
   "id": "860838ca-255d-4f21-bb68-86b8f2e2ff60",
   "metadata": {},
   "outputs": [],
   "source": [
    "ops_data['month'] = ops_data.index.strftime('%m-%b')"
   ]
  },
  {
   "cell_type": "code",
   "execution_count": 62,
   "id": "07dd798c-7f11-4c3e-bfdd-030571310487",
   "metadata": {},
   "outputs": [],
   "source": [
    "ops_data['year'] = ops_data.index.year"
   ]
  },
  {
   "cell_type": "code",
   "execution_count": 63,
   "id": "d4c50ded-376b-4bf7-a5c9-928b35f91280",
   "metadata": {},
   "outputs": [
    {
     "name": "stdout",
     "output_type": "stream",
     "text": [
      "<class 'pandas.core.frame.DataFrame'>\n",
      "DatetimeIndex: 4383 entries, 2006-01-01 to 2017-12-31\n",
      "Data columns (total 6 columns):\n",
      " #   Column       Non-Null Count  Dtype  \n",
      "---  ------       --------------  -----  \n",
      " 0   consumption  4383 non-null   float64\n",
      " 1   wind         2920 non-null   float64\n",
      " 2   solar        2188 non-null   float64\n",
      " 3   wind_solar   2187 non-null   float64\n",
      " 4   month        4383 non-null   object \n",
      " 5   year         4383 non-null   int64  \n",
      "dtypes: float64(4), int64(1), object(1)\n",
      "memory usage: 239.7+ KB\n"
     ]
    }
   ],
   "source": [
    "ops_data.info()"
   ]
  },
  {
   "cell_type": "markdown",
   "id": "31088d15-ad33-4757-92cf-a0a653e14dc6",
   "metadata": {},
   "source": [
    "### 5\n",
    "\n",
    "Fill any missing values."
   ]
  },
  {
   "cell_type": "code",
   "execution_count": 64,
   "id": "1beeed7d-aa33-4c87-916f-77c879688bb6",
   "metadata": {},
   "outputs": [
    {
     "data": {
      "text/html": [
       "<div>\n",
       "<style scoped>\n",
       "    .dataframe tbody tr th:only-of-type {\n",
       "        vertical-align: middle;\n",
       "    }\n",
       "\n",
       "    .dataframe tbody tr th {\n",
       "        vertical-align: top;\n",
       "    }\n",
       "\n",
       "    .dataframe thead th {\n",
       "        text-align: right;\n",
       "    }\n",
       "</style>\n",
       "<table border=\"1\" class=\"dataframe\">\n",
       "  <thead>\n",
       "    <tr style=\"text-align: right;\">\n",
       "      <th></th>\n",
       "      <th>consumption</th>\n",
       "      <th>wind</th>\n",
       "      <th>solar</th>\n",
       "      <th>wind_solar</th>\n",
       "      <th>year</th>\n",
       "    </tr>\n",
       "  </thead>\n",
       "  <tbody>\n",
       "    <tr>\n",
       "      <th>count</th>\n",
       "      <td>4383.000000</td>\n",
       "      <td>2920.000000</td>\n",
       "      <td>2188.000000</td>\n",
       "      <td>2187.000000</td>\n",
       "      <td>4383.000000</td>\n",
       "    </tr>\n",
       "    <tr>\n",
       "      <th>mean</th>\n",
       "      <td>1338.675836</td>\n",
       "      <td>164.814173</td>\n",
       "      <td>89.258695</td>\n",
       "      <td>272.663481</td>\n",
       "      <td>2011.500342</td>\n",
       "    </tr>\n",
       "    <tr>\n",
       "      <th>std</th>\n",
       "      <td>165.775710</td>\n",
       "      <td>143.692732</td>\n",
       "      <td>58.550099</td>\n",
       "      <td>146.319884</td>\n",
       "      <td>3.452347</td>\n",
       "    </tr>\n",
       "    <tr>\n",
       "      <th>min</th>\n",
       "      <td>842.395000</td>\n",
       "      <td>5.757000</td>\n",
       "      <td>1.968000</td>\n",
       "      <td>21.478000</td>\n",
       "      <td>2006.000000</td>\n",
       "    </tr>\n",
       "    <tr>\n",
       "      <th>25%</th>\n",
       "      <td>1217.859000</td>\n",
       "      <td>62.353250</td>\n",
       "      <td>35.179250</td>\n",
       "      <td>172.185500</td>\n",
       "      <td>2008.500000</td>\n",
       "    </tr>\n",
       "    <tr>\n",
       "      <th>50%</th>\n",
       "      <td>1367.123000</td>\n",
       "      <td>119.098000</td>\n",
       "      <td>86.407000</td>\n",
       "      <td>240.991000</td>\n",
       "      <td>2012.000000</td>\n",
       "    </tr>\n",
       "    <tr>\n",
       "      <th>75%</th>\n",
       "      <td>1457.761000</td>\n",
       "      <td>217.900250</td>\n",
       "      <td>135.071500</td>\n",
       "      <td>338.988000</td>\n",
       "      <td>2014.500000</td>\n",
       "    </tr>\n",
       "    <tr>\n",
       "      <th>max</th>\n",
       "      <td>1709.568000</td>\n",
       "      <td>826.278000</td>\n",
       "      <td>241.580000</td>\n",
       "      <td>851.556000</td>\n",
       "      <td>2017.000000</td>\n",
       "    </tr>\n",
       "  </tbody>\n",
       "</table>\n",
       "</div>"
      ],
      "text/plain": [
       "       consumption         wind        solar   wind_solar         year\n",
       "count  4383.000000  2920.000000  2188.000000  2187.000000  4383.000000\n",
       "mean   1338.675836   164.814173    89.258695   272.663481  2011.500342\n",
       "std     165.775710   143.692732    58.550099   146.319884     3.452347\n",
       "min     842.395000     5.757000     1.968000    21.478000  2006.000000\n",
       "25%    1217.859000    62.353250    35.179250   172.185500  2008.500000\n",
       "50%    1367.123000   119.098000    86.407000   240.991000  2012.000000\n",
       "75%    1457.761000   217.900250   135.071500   338.988000  2014.500000\n",
       "max    1709.568000   826.278000   241.580000   851.556000  2017.000000"
      ]
     },
     "execution_count": 64,
     "metadata": {},
     "output_type": "execute_result"
    }
   ],
   "source": [
    "ops_data.describe()"
   ]
  },
  {
   "cell_type": "code",
   "execution_count": 65,
   "id": "16905332-3de2-4fbc-8e2a-af27a74440b6",
   "metadata": {},
   "outputs": [
    {
     "data": {
      "text/html": [
       "<div>\n",
       "<style scoped>\n",
       "    .dataframe tbody tr th:only-of-type {\n",
       "        vertical-align: middle;\n",
       "    }\n",
       "\n",
       "    .dataframe tbody tr th {\n",
       "        vertical-align: top;\n",
       "    }\n",
       "\n",
       "    .dataframe thead th {\n",
       "        text-align: right;\n",
       "    }\n",
       "</style>\n",
       "<table border=\"1\" class=\"dataframe\">\n",
       "  <thead>\n",
       "    <tr style=\"text-align: right;\">\n",
       "      <th></th>\n",
       "      <th>consumption</th>\n",
       "      <th>wind</th>\n",
       "      <th>solar</th>\n",
       "      <th>wind_solar</th>\n",
       "      <th>month</th>\n",
       "      <th>year</th>\n",
       "    </tr>\n",
       "    <tr>\n",
       "      <th>date</th>\n",
       "      <th></th>\n",
       "      <th></th>\n",
       "      <th></th>\n",
       "      <th></th>\n",
       "      <th></th>\n",
       "      <th></th>\n",
       "    </tr>\n",
       "  </thead>\n",
       "  <tbody>\n",
       "    <tr>\n",
       "      <th>2017-12-27</th>\n",
       "      <td>1263.94091</td>\n",
       "      <td>394.507</td>\n",
       "      <td>16.530</td>\n",
       "      <td>411.037</td>\n",
       "      <td>12-Dec</td>\n",
       "      <td>2017</td>\n",
       "    </tr>\n",
       "    <tr>\n",
       "      <th>2017-12-28</th>\n",
       "      <td>1299.86398</td>\n",
       "      <td>506.424</td>\n",
       "      <td>14.162</td>\n",
       "      <td>520.586</td>\n",
       "      <td>12-Dec</td>\n",
       "      <td>2017</td>\n",
       "    </tr>\n",
       "    <tr>\n",
       "      <th>2017-12-29</th>\n",
       "      <td>1295.08753</td>\n",
       "      <td>584.277</td>\n",
       "      <td>29.854</td>\n",
       "      <td>614.131</td>\n",
       "      <td>12-Dec</td>\n",
       "      <td>2017</td>\n",
       "    </tr>\n",
       "    <tr>\n",
       "      <th>2017-12-30</th>\n",
       "      <td>1215.44897</td>\n",
       "      <td>721.247</td>\n",
       "      <td>7.467</td>\n",
       "      <td>728.714</td>\n",
       "      <td>12-Dec</td>\n",
       "      <td>2017</td>\n",
       "    </tr>\n",
       "    <tr>\n",
       "      <th>2017-12-31</th>\n",
       "      <td>1107.11488</td>\n",
       "      <td>721.176</td>\n",
       "      <td>19.980</td>\n",
       "      <td>741.156</td>\n",
       "      <td>12-Dec</td>\n",
       "      <td>2017</td>\n",
       "    </tr>\n",
       "  </tbody>\n",
       "</table>\n",
       "</div>"
      ],
      "text/plain": [
       "            consumption     wind   solar  wind_solar   month  year\n",
       "date                                                              \n",
       "2017-12-27   1263.94091  394.507  16.530     411.037  12-Dec  2017\n",
       "2017-12-28   1299.86398  506.424  14.162     520.586  12-Dec  2017\n",
       "2017-12-29   1295.08753  584.277  29.854     614.131  12-Dec  2017\n",
       "2017-12-30   1215.44897  721.247   7.467     728.714  12-Dec  2017\n",
       "2017-12-31   1107.11488  721.176  19.980     741.156  12-Dec  2017"
      ]
     },
     "execution_count": 65,
     "metadata": {},
     "output_type": "execute_result"
    }
   ],
   "source": [
    "ops_data.tail()"
   ]
  },
  {
   "cell_type": "code",
   "execution_count": 66,
   "id": "707ec61c-cda9-4c30-a077-701e249ecfd4",
   "metadata": {},
   "outputs": [
    {
     "data": {
      "text/html": [
       "<div>\n",
       "<style scoped>\n",
       "    .dataframe tbody tr th:only-of-type {\n",
       "        vertical-align: middle;\n",
       "    }\n",
       "\n",
       "    .dataframe tbody tr th {\n",
       "        vertical-align: top;\n",
       "    }\n",
       "\n",
       "    .dataframe thead th {\n",
       "        text-align: right;\n",
       "    }\n",
       "</style>\n",
       "<table border=\"1\" class=\"dataframe\">\n",
       "  <thead>\n",
       "    <tr style=\"text-align: right;\">\n",
       "      <th></th>\n",
       "      <th>consumption</th>\n",
       "      <th>wind</th>\n",
       "      <th>solar</th>\n",
       "      <th>wind_solar</th>\n",
       "      <th>month</th>\n",
       "      <th>year</th>\n",
       "    </tr>\n",
       "    <tr>\n",
       "      <th>date</th>\n",
       "      <th></th>\n",
       "      <th></th>\n",
       "      <th></th>\n",
       "      <th></th>\n",
       "      <th></th>\n",
       "      <th></th>\n",
       "    </tr>\n",
       "  </thead>\n",
       "  <tbody>\n",
       "    <tr>\n",
       "      <th>2006-01-01</th>\n",
       "      <td>1069.184</td>\n",
       "      <td>NaN</td>\n",
       "      <td>NaN</td>\n",
       "      <td>NaN</td>\n",
       "      <td>01-Jan</td>\n",
       "      <td>2006</td>\n",
       "    </tr>\n",
       "    <tr>\n",
       "      <th>2006-01-02</th>\n",
       "      <td>1380.521</td>\n",
       "      <td>NaN</td>\n",
       "      <td>NaN</td>\n",
       "      <td>NaN</td>\n",
       "      <td>01-Jan</td>\n",
       "      <td>2006</td>\n",
       "    </tr>\n",
       "    <tr>\n",
       "      <th>2006-01-03</th>\n",
       "      <td>1442.533</td>\n",
       "      <td>NaN</td>\n",
       "      <td>NaN</td>\n",
       "      <td>NaN</td>\n",
       "      <td>01-Jan</td>\n",
       "      <td>2006</td>\n",
       "    </tr>\n",
       "    <tr>\n",
       "      <th>2006-01-04</th>\n",
       "      <td>1457.217</td>\n",
       "      <td>NaN</td>\n",
       "      <td>NaN</td>\n",
       "      <td>NaN</td>\n",
       "      <td>01-Jan</td>\n",
       "      <td>2006</td>\n",
       "    </tr>\n",
       "    <tr>\n",
       "      <th>2006-01-05</th>\n",
       "      <td>1477.131</td>\n",
       "      <td>NaN</td>\n",
       "      <td>NaN</td>\n",
       "      <td>NaN</td>\n",
       "      <td>01-Jan</td>\n",
       "      <td>2006</td>\n",
       "    </tr>\n",
       "    <tr>\n",
       "      <th>...</th>\n",
       "      <td>...</td>\n",
       "      <td>...</td>\n",
       "      <td>...</td>\n",
       "      <td>...</td>\n",
       "      <td>...</td>\n",
       "      <td>...</td>\n",
       "    </tr>\n",
       "    <tr>\n",
       "      <th>2013-03-30</th>\n",
       "      <td>1092.932</td>\n",
       "      <td>20.545</td>\n",
       "      <td>NaN</td>\n",
       "      <td>NaN</td>\n",
       "      <td>03-Mar</td>\n",
       "      <td>2013</td>\n",
       "    </tr>\n",
       "    <tr>\n",
       "      <th>2013-03-31</th>\n",
       "      <td>1002.856</td>\n",
       "      <td>39.624</td>\n",
       "      <td>NaN</td>\n",
       "      <td>NaN</td>\n",
       "      <td>03-Mar</td>\n",
       "      <td>2013</td>\n",
       "    </tr>\n",
       "    <tr>\n",
       "      <th>2014-03-12</th>\n",
       "      <td>1516.331</td>\n",
       "      <td>NaN</td>\n",
       "      <td>148.507</td>\n",
       "      <td>NaN</td>\n",
       "      <td>03-Mar</td>\n",
       "      <td>2014</td>\n",
       "    </tr>\n",
       "    <tr>\n",
       "      <th>2014-03-29</th>\n",
       "      <td>1243.377</td>\n",
       "      <td>68.398</td>\n",
       "      <td>NaN</td>\n",
       "      <td>NaN</td>\n",
       "      <td>03-Mar</td>\n",
       "      <td>2014</td>\n",
       "    </tr>\n",
       "    <tr>\n",
       "      <th>2014-03-30</th>\n",
       "      <td>1125.085</td>\n",
       "      <td>18.572</td>\n",
       "      <td>NaN</td>\n",
       "      <td>NaN</td>\n",
       "      <td>03-Mar</td>\n",
       "      <td>2014</td>\n",
       "    </tr>\n",
       "  </tbody>\n",
       "</table>\n",
       "<p>2196 rows × 6 columns</p>\n",
       "</div>"
      ],
      "text/plain": [
       "            consumption    wind    solar  wind_solar   month  year\n",
       "date                                                              \n",
       "2006-01-01     1069.184     NaN      NaN         NaN  01-Jan  2006\n",
       "2006-01-02     1380.521     NaN      NaN         NaN  01-Jan  2006\n",
       "2006-01-03     1442.533     NaN      NaN         NaN  01-Jan  2006\n",
       "2006-01-04     1457.217     NaN      NaN         NaN  01-Jan  2006\n",
       "2006-01-05     1477.131     NaN      NaN         NaN  01-Jan  2006\n",
       "...                 ...     ...      ...         ...     ...   ...\n",
       "2013-03-30     1092.932  20.545      NaN         NaN  03-Mar  2013\n",
       "2013-03-31     1002.856  39.624      NaN         NaN  03-Mar  2013\n",
       "2014-03-12     1516.331     NaN  148.507         NaN  03-Mar  2014\n",
       "2014-03-29     1243.377  68.398      NaN         NaN  03-Mar  2014\n",
       "2014-03-30     1125.085  18.572      NaN         NaN  03-Mar  2014\n",
       "\n",
       "[2196 rows x 6 columns]"
      ]
     },
     "execution_count": 66,
     "metadata": {},
     "output_type": "execute_result"
    }
   ],
   "source": [
    "# wind_solar seems to be the sum of wind and solar\n",
    "\n",
    "ops_data[ops_data.wind_solar.isna()]"
   ]
  },
  {
   "cell_type": "code",
   "execution_count": 67,
   "id": "13e9e57c-9f4a-496f-a5f3-081575995a22",
   "metadata": {},
   "outputs": [
    {
     "name": "stdout",
     "output_type": "stream",
     "text": [
      "<class 'pandas.core.frame.DataFrame'>\n",
      "DatetimeIndex: 4383 entries, 2006-01-01 to 2017-12-31\n",
      "Data columns (total 6 columns):\n",
      " #   Column       Non-Null Count  Dtype  \n",
      "---  ------       --------------  -----  \n",
      " 0   consumption  4383 non-null   float64\n",
      " 1   wind         4383 non-null   float64\n",
      " 2   solar        4383 non-null   float64\n",
      " 3   wind_solar   4383 non-null   float64\n",
      " 4   month        4383 non-null   object \n",
      " 5   year         4383 non-null   int64  \n",
      "dtypes: float64(4), int64(1), object(1)\n",
      "memory usage: 239.7+ KB\n"
     ]
    }
   ],
   "source": [
    "# Let's re-engineer the wind_solar column\n",
    "# We'll first set all NaNs to 0\n",
    "ops_data = ops_data.fillna(0)\n",
    "ops_data.info()"
   ]
  },
  {
   "cell_type": "code",
   "execution_count": 68,
   "id": "ba21294f-91f0-4f20-8a5f-b169c671db57",
   "metadata": {},
   "outputs": [],
   "source": [
    "# Now all the NaNs are 0. We can re-engineer the wind_solar column\n",
    "ops_data.wind_solar = ops_data.wind + ops_data.solar"
   ]
  },
  {
   "cell_type": "code",
   "execution_count": 69,
   "id": "1f9b3761-d32e-487e-86b5-edc489a12f08",
   "metadata": {},
   "outputs": [
    {
     "data": {
      "text/html": [
       "<div>\n",
       "<style scoped>\n",
       "    .dataframe tbody tr th:only-of-type {\n",
       "        vertical-align: middle;\n",
       "    }\n",
       "\n",
       "    .dataframe tbody tr th {\n",
       "        vertical-align: top;\n",
       "    }\n",
       "\n",
       "    .dataframe thead th {\n",
       "        text-align: right;\n",
       "    }\n",
       "</style>\n",
       "<table border=\"1\" class=\"dataframe\">\n",
       "  <thead>\n",
       "    <tr style=\"text-align: right;\">\n",
       "      <th></th>\n",
       "      <th>consumption</th>\n",
       "      <th>wind</th>\n",
       "      <th>solar</th>\n",
       "      <th>wind_solar</th>\n",
       "      <th>month</th>\n",
       "      <th>year</th>\n",
       "    </tr>\n",
       "    <tr>\n",
       "      <th>date</th>\n",
       "      <th></th>\n",
       "      <th></th>\n",
       "      <th></th>\n",
       "      <th></th>\n",
       "      <th></th>\n",
       "      <th></th>\n",
       "    </tr>\n",
       "  </thead>\n",
       "  <tbody>\n",
       "    <tr>\n",
       "      <th>2006-01-01</th>\n",
       "      <td>1069.184</td>\n",
       "      <td>0.000</td>\n",
       "      <td>0.0</td>\n",
       "      <td>0.000</td>\n",
       "      <td>01-Jan</td>\n",
       "      <td>2006</td>\n",
       "    </tr>\n",
       "    <tr>\n",
       "      <th>2006-01-02</th>\n",
       "      <td>1380.521</td>\n",
       "      <td>0.000</td>\n",
       "      <td>0.0</td>\n",
       "      <td>0.000</td>\n",
       "      <td>01-Jan</td>\n",
       "      <td>2006</td>\n",
       "    </tr>\n",
       "    <tr>\n",
       "      <th>2006-01-03</th>\n",
       "      <td>1442.533</td>\n",
       "      <td>0.000</td>\n",
       "      <td>0.0</td>\n",
       "      <td>0.000</td>\n",
       "      <td>01-Jan</td>\n",
       "      <td>2006</td>\n",
       "    </tr>\n",
       "    <tr>\n",
       "      <th>2006-01-04</th>\n",
       "      <td>1457.217</td>\n",
       "      <td>0.000</td>\n",
       "      <td>0.0</td>\n",
       "      <td>0.000</td>\n",
       "      <td>01-Jan</td>\n",
       "      <td>2006</td>\n",
       "    </tr>\n",
       "    <tr>\n",
       "      <th>2006-01-05</th>\n",
       "      <td>1477.131</td>\n",
       "      <td>0.000</td>\n",
       "      <td>0.0</td>\n",
       "      <td>0.000</td>\n",
       "      <td>01-Jan</td>\n",
       "      <td>2006</td>\n",
       "    </tr>\n",
       "    <tr>\n",
       "      <th>...</th>\n",
       "      <td>...</td>\n",
       "      <td>...</td>\n",
       "      <td>...</td>\n",
       "      <td>...</td>\n",
       "      <td>...</td>\n",
       "      <td>...</td>\n",
       "    </tr>\n",
       "    <tr>\n",
       "      <th>2011-12-31</th>\n",
       "      <td>1077.625</td>\n",
       "      <td>83.185</td>\n",
       "      <td>0.0</td>\n",
       "      <td>83.185</td>\n",
       "      <td>12-Dec</td>\n",
       "      <td>2011</td>\n",
       "    </tr>\n",
       "    <tr>\n",
       "      <th>2013-03-30</th>\n",
       "      <td>1092.932</td>\n",
       "      <td>20.545</td>\n",
       "      <td>0.0</td>\n",
       "      <td>20.545</td>\n",
       "      <td>03-Mar</td>\n",
       "      <td>2013</td>\n",
       "    </tr>\n",
       "    <tr>\n",
       "      <th>2013-03-31</th>\n",
       "      <td>1002.856</td>\n",
       "      <td>39.624</td>\n",
       "      <td>0.0</td>\n",
       "      <td>39.624</td>\n",
       "      <td>03-Mar</td>\n",
       "      <td>2013</td>\n",
       "    </tr>\n",
       "    <tr>\n",
       "      <th>2014-03-29</th>\n",
       "      <td>1243.377</td>\n",
       "      <td>68.398</td>\n",
       "      <td>0.0</td>\n",
       "      <td>68.398</td>\n",
       "      <td>03-Mar</td>\n",
       "      <td>2014</td>\n",
       "    </tr>\n",
       "    <tr>\n",
       "      <th>2014-03-30</th>\n",
       "      <td>1125.085</td>\n",
       "      <td>18.572</td>\n",
       "      <td>0.0</td>\n",
       "      <td>18.572</td>\n",
       "      <td>03-Mar</td>\n",
       "      <td>2014</td>\n",
       "    </tr>\n",
       "  </tbody>\n",
       "</table>\n",
       "<p>2195 rows × 6 columns</p>\n",
       "</div>"
      ],
      "text/plain": [
       "            consumption    wind  solar  wind_solar   month  year\n",
       "date                                                            \n",
       "2006-01-01     1069.184   0.000    0.0       0.000  01-Jan  2006\n",
       "2006-01-02     1380.521   0.000    0.0       0.000  01-Jan  2006\n",
       "2006-01-03     1442.533   0.000    0.0       0.000  01-Jan  2006\n",
       "2006-01-04     1457.217   0.000    0.0       0.000  01-Jan  2006\n",
       "2006-01-05     1477.131   0.000    0.0       0.000  01-Jan  2006\n",
       "...                 ...     ...    ...         ...     ...   ...\n",
       "2011-12-31     1077.625  83.185    0.0      83.185  12-Dec  2011\n",
       "2013-03-30     1092.932  20.545    0.0      20.545  03-Mar  2013\n",
       "2013-03-31     1002.856  39.624    0.0      39.624  03-Mar  2013\n",
       "2014-03-29     1243.377  68.398    0.0      68.398  03-Mar  2014\n",
       "2014-03-30     1125.085  18.572    0.0      18.572  03-Mar  2014\n",
       "\n",
       "[2195 rows x 6 columns]"
      ]
     },
     "execution_count": 69,
     "metadata": {},
     "output_type": "execute_result"
    }
   ],
   "source": [
    "# Let's verify it worked\n",
    "ops_data[ops_data.solar == 0]"
   ]
  },
  {
   "cell_type": "code",
   "execution_count": 70,
   "id": "03907bdb-822b-4a15-96c1-fdd16e8ee6b8",
   "metadata": {},
   "outputs": [
    {
     "data": {
      "text/html": [
       "<div>\n",
       "<style scoped>\n",
       "    .dataframe tbody tr th:only-of-type {\n",
       "        vertical-align: middle;\n",
       "    }\n",
       "\n",
       "    .dataframe tbody tr th {\n",
       "        vertical-align: top;\n",
       "    }\n",
       "\n",
       "    .dataframe thead th {\n",
       "        text-align: right;\n",
       "    }\n",
       "</style>\n",
       "<table border=\"1\" class=\"dataframe\">\n",
       "  <thead>\n",
       "    <tr style=\"text-align: right;\">\n",
       "      <th></th>\n",
       "      <th>consumption</th>\n",
       "      <th>wind</th>\n",
       "      <th>solar</th>\n",
       "      <th>wind_solar</th>\n",
       "      <th>month</th>\n",
       "      <th>year</th>\n",
       "    </tr>\n",
       "    <tr>\n",
       "      <th>date</th>\n",
       "      <th></th>\n",
       "      <th></th>\n",
       "      <th></th>\n",
       "      <th></th>\n",
       "      <th></th>\n",
       "      <th></th>\n",
       "    </tr>\n",
       "  </thead>\n",
       "  <tbody>\n",
       "    <tr>\n",
       "      <th>2006-01-01</th>\n",
       "      <td>1069.184</td>\n",
       "      <td>0.0</td>\n",
       "      <td>0.000</td>\n",
       "      <td>0.000</td>\n",
       "      <td>01-Jan</td>\n",
       "      <td>2006</td>\n",
       "    </tr>\n",
       "    <tr>\n",
       "      <th>2006-01-02</th>\n",
       "      <td>1380.521</td>\n",
       "      <td>0.0</td>\n",
       "      <td>0.000</td>\n",
       "      <td>0.000</td>\n",
       "      <td>01-Jan</td>\n",
       "      <td>2006</td>\n",
       "    </tr>\n",
       "    <tr>\n",
       "      <th>2006-01-03</th>\n",
       "      <td>1442.533</td>\n",
       "      <td>0.0</td>\n",
       "      <td>0.000</td>\n",
       "      <td>0.000</td>\n",
       "      <td>01-Jan</td>\n",
       "      <td>2006</td>\n",
       "    </tr>\n",
       "    <tr>\n",
       "      <th>2006-01-04</th>\n",
       "      <td>1457.217</td>\n",
       "      <td>0.0</td>\n",
       "      <td>0.000</td>\n",
       "      <td>0.000</td>\n",
       "      <td>01-Jan</td>\n",
       "      <td>2006</td>\n",
       "    </tr>\n",
       "    <tr>\n",
       "      <th>2006-01-05</th>\n",
       "      <td>1477.131</td>\n",
       "      <td>0.0</td>\n",
       "      <td>0.000</td>\n",
       "      <td>0.000</td>\n",
       "      <td>01-Jan</td>\n",
       "      <td>2006</td>\n",
       "    </tr>\n",
       "    <tr>\n",
       "      <th>...</th>\n",
       "      <td>...</td>\n",
       "      <td>...</td>\n",
       "      <td>...</td>\n",
       "      <td>...</td>\n",
       "      <td>...</td>\n",
       "      <td>...</td>\n",
       "    </tr>\n",
       "    <tr>\n",
       "      <th>2009-12-29</th>\n",
       "      <td>1207.905</td>\n",
       "      <td>0.0</td>\n",
       "      <td>0.000</td>\n",
       "      <td>0.000</td>\n",
       "      <td>12-Dec</td>\n",
       "      <td>2009</td>\n",
       "    </tr>\n",
       "    <tr>\n",
       "      <th>2009-12-30</th>\n",
       "      <td>1192.196</td>\n",
       "      <td>0.0</td>\n",
       "      <td>0.000</td>\n",
       "      <td>0.000</td>\n",
       "      <td>12-Dec</td>\n",
       "      <td>2009</td>\n",
       "    </tr>\n",
       "    <tr>\n",
       "      <th>2009-12-31</th>\n",
       "      <td>1106.467</td>\n",
       "      <td>0.0</td>\n",
       "      <td>0.000</td>\n",
       "      <td>0.000</td>\n",
       "      <td>12-Dec</td>\n",
       "      <td>2009</td>\n",
       "    </tr>\n",
       "    <tr>\n",
       "      <th>2011-12-14</th>\n",
       "      <td>1531.311</td>\n",
       "      <td>0.0</td>\n",
       "      <td>0.000</td>\n",
       "      <td>0.000</td>\n",
       "      <td>12-Dec</td>\n",
       "      <td>2011</td>\n",
       "    </tr>\n",
       "    <tr>\n",
       "      <th>2014-03-12</th>\n",
       "      <td>1516.331</td>\n",
       "      <td>0.0</td>\n",
       "      <td>148.507</td>\n",
       "      <td>148.507</td>\n",
       "      <td>03-Mar</td>\n",
       "      <td>2014</td>\n",
       "    </tr>\n",
       "  </tbody>\n",
       "</table>\n",
       "<p>1463 rows × 6 columns</p>\n",
       "</div>"
      ],
      "text/plain": [
       "            consumption  wind    solar  wind_solar   month  year\n",
       "date                                                            \n",
       "2006-01-01     1069.184   0.0    0.000       0.000  01-Jan  2006\n",
       "2006-01-02     1380.521   0.0    0.000       0.000  01-Jan  2006\n",
       "2006-01-03     1442.533   0.0    0.000       0.000  01-Jan  2006\n",
       "2006-01-04     1457.217   0.0    0.000       0.000  01-Jan  2006\n",
       "2006-01-05     1477.131   0.0    0.000       0.000  01-Jan  2006\n",
       "...                 ...   ...      ...         ...     ...   ...\n",
       "2009-12-29     1207.905   0.0    0.000       0.000  12-Dec  2009\n",
       "2009-12-30     1192.196   0.0    0.000       0.000  12-Dec  2009\n",
       "2009-12-31     1106.467   0.0    0.000       0.000  12-Dec  2009\n",
       "2011-12-14     1531.311   0.0    0.000       0.000  12-Dec  2011\n",
       "2014-03-12     1516.331   0.0  148.507     148.507  03-Mar  2014\n",
       "\n",
       "[1463 rows x 6 columns]"
      ]
     },
     "execution_count": 70,
     "metadata": {},
     "output_type": "execute_result"
    }
   ],
   "source": [
    "ops_data[ops_data.wind == 0]"
   ]
  },
  {
   "cell_type": "code",
   "execution_count": 71,
   "id": "c8a1ff8c-56a8-42d8-8d5d-53499530e96c",
   "metadata": {},
   "outputs": [
    {
     "data": {
      "text/html": [
       "<div>\n",
       "<style scoped>\n",
       "    .dataframe tbody tr th:only-of-type {\n",
       "        vertical-align: middle;\n",
       "    }\n",
       "\n",
       "    .dataframe tbody tr th {\n",
       "        vertical-align: top;\n",
       "    }\n",
       "\n",
       "    .dataframe thead th {\n",
       "        text-align: right;\n",
       "    }\n",
       "</style>\n",
       "<table border=\"1\" class=\"dataframe\">\n",
       "  <thead>\n",
       "    <tr style=\"text-align: right;\">\n",
       "      <th></th>\n",
       "      <th>consumption</th>\n",
       "      <th>wind</th>\n",
       "      <th>solar</th>\n",
       "      <th>wind_solar</th>\n",
       "      <th>month</th>\n",
       "      <th>year</th>\n",
       "    </tr>\n",
       "    <tr>\n",
       "      <th>date</th>\n",
       "      <th></th>\n",
       "      <th></th>\n",
       "      <th></th>\n",
       "      <th></th>\n",
       "      <th></th>\n",
       "      <th></th>\n",
       "    </tr>\n",
       "  </thead>\n",
       "  <tbody>\n",
       "    <tr>\n",
       "      <th>2006-01-01</th>\n",
       "      <td>1069.184</td>\n",
       "      <td>0.0</td>\n",
       "      <td>0.0</td>\n",
       "      <td>0.0</td>\n",
       "      <td>01-Jan</td>\n",
       "      <td>2006</td>\n",
       "    </tr>\n",
       "    <tr>\n",
       "      <th>2006-01-02</th>\n",
       "      <td>1380.521</td>\n",
       "      <td>0.0</td>\n",
       "      <td>0.0</td>\n",
       "      <td>0.0</td>\n",
       "      <td>01-Jan</td>\n",
       "      <td>2006</td>\n",
       "    </tr>\n",
       "    <tr>\n",
       "      <th>2006-01-03</th>\n",
       "      <td>1442.533</td>\n",
       "      <td>0.0</td>\n",
       "      <td>0.0</td>\n",
       "      <td>0.0</td>\n",
       "      <td>01-Jan</td>\n",
       "      <td>2006</td>\n",
       "    </tr>\n",
       "    <tr>\n",
       "      <th>2006-01-04</th>\n",
       "      <td>1457.217</td>\n",
       "      <td>0.0</td>\n",
       "      <td>0.0</td>\n",
       "      <td>0.0</td>\n",
       "      <td>01-Jan</td>\n",
       "      <td>2006</td>\n",
       "    </tr>\n",
       "    <tr>\n",
       "      <th>2006-01-05</th>\n",
       "      <td>1477.131</td>\n",
       "      <td>0.0</td>\n",
       "      <td>0.0</td>\n",
       "      <td>0.0</td>\n",
       "      <td>01-Jan</td>\n",
       "      <td>2006</td>\n",
       "    </tr>\n",
       "    <tr>\n",
       "      <th>...</th>\n",
       "      <td>...</td>\n",
       "      <td>...</td>\n",
       "      <td>...</td>\n",
       "      <td>...</td>\n",
       "      <td>...</td>\n",
       "      <td>...</td>\n",
       "    </tr>\n",
       "    <tr>\n",
       "      <th>2009-12-28</th>\n",
       "      <td>1211.791</td>\n",
       "      <td>0.0</td>\n",
       "      <td>0.0</td>\n",
       "      <td>0.0</td>\n",
       "      <td>12-Dec</td>\n",
       "      <td>2009</td>\n",
       "    </tr>\n",
       "    <tr>\n",
       "      <th>2009-12-29</th>\n",
       "      <td>1207.905</td>\n",
       "      <td>0.0</td>\n",
       "      <td>0.0</td>\n",
       "      <td>0.0</td>\n",
       "      <td>12-Dec</td>\n",
       "      <td>2009</td>\n",
       "    </tr>\n",
       "    <tr>\n",
       "      <th>2009-12-30</th>\n",
       "      <td>1192.196</td>\n",
       "      <td>0.0</td>\n",
       "      <td>0.0</td>\n",
       "      <td>0.0</td>\n",
       "      <td>12-Dec</td>\n",
       "      <td>2009</td>\n",
       "    </tr>\n",
       "    <tr>\n",
       "      <th>2009-12-31</th>\n",
       "      <td>1106.467</td>\n",
       "      <td>0.0</td>\n",
       "      <td>0.0</td>\n",
       "      <td>0.0</td>\n",
       "      <td>12-Dec</td>\n",
       "      <td>2009</td>\n",
       "    </tr>\n",
       "    <tr>\n",
       "      <th>2011-12-14</th>\n",
       "      <td>1531.311</td>\n",
       "      <td>0.0</td>\n",
       "      <td>0.0</td>\n",
       "      <td>0.0</td>\n",
       "      <td>12-Dec</td>\n",
       "      <td>2011</td>\n",
       "    </tr>\n",
       "  </tbody>\n",
       "</table>\n",
       "<p>1462 rows × 6 columns</p>\n",
       "</div>"
      ],
      "text/plain": [
       "            consumption  wind  solar  wind_solar   month  year\n",
       "date                                                          \n",
       "2006-01-01     1069.184   0.0    0.0         0.0  01-Jan  2006\n",
       "2006-01-02     1380.521   0.0    0.0         0.0  01-Jan  2006\n",
       "2006-01-03     1442.533   0.0    0.0         0.0  01-Jan  2006\n",
       "2006-01-04     1457.217   0.0    0.0         0.0  01-Jan  2006\n",
       "2006-01-05     1477.131   0.0    0.0         0.0  01-Jan  2006\n",
       "...                 ...   ...    ...         ...     ...   ...\n",
       "2009-12-28     1211.791   0.0    0.0         0.0  12-Dec  2009\n",
       "2009-12-29     1207.905   0.0    0.0         0.0  12-Dec  2009\n",
       "2009-12-30     1192.196   0.0    0.0         0.0  12-Dec  2009\n",
       "2009-12-31     1106.467   0.0    0.0         0.0  12-Dec  2009\n",
       "2011-12-14     1531.311   0.0    0.0         0.0  12-Dec  2011\n",
       "\n",
       "[1462 rows x 6 columns]"
      ]
     },
     "execution_count": 71,
     "metadata": {},
     "output_type": "execute_result"
    }
   ],
   "source": [
    "ops_data[ops_data.wind_solar == 0]"
   ]
  },
  {
   "cell_type": "markdown",
   "id": "c0b61b4f-52ef-4c2b-91e6-c8b0d42829b5",
   "metadata": {},
   "source": [
    "Looks good. I believe it is safe to assume that wherever 0s remain that is truly a 0 value and not such that all these values should provide the total in consumption."
   ]
  },
  {
   "cell_type": "markdown",
   "id": "63b3ee5f-67f8-4123-961f-4e87ca09ab37",
   "metadata": {},
   "source": [
    "### 6\n",
    "\n",
    "Make sure all the work that you have done above is reproducible. That is, you should put the code above into separate functions and be able to re-run the functions and get the same results."
   ]
  },
  {
   "cell_type": "code",
   "execution_count": 72,
   "id": "365ad19c-70a6-4126-8a1b-0cb9dce6dedd",
   "metadata": {},
   "outputs": [
    {
     "name": "stdout",
     "output_type": "stream",
     "text": [
      "<class 'pandas.core.frame.DataFrame'>\n",
      "DatetimeIndex: 4383 entries, 2006-01-01 to 2017-12-31\n",
      "Data columns (total 6 columns):\n",
      " #   Column       Non-Null Count  Dtype  \n",
      "---  ------       --------------  -----  \n",
      " 0   consumption  4383 non-null   float64\n",
      " 1   wind         4383 non-null   float64\n",
      " 2   solar        4383 non-null   float64\n",
      " 3   wind_solar   4383 non-null   float64\n",
      " 4   month        4383 non-null   object \n",
      " 5   year         4383 non-null   int64  \n",
      "dtypes: float64(4), int64(1), object(1)\n",
      "memory usage: 239.7+ KB\n"
     ]
    }
   ],
   "source": [
    "prepare_ops_data(get_open_power_systems_data()).info()"
   ]
  }
 ],
 "metadata": {
  "kernelspec": {
   "display_name": "Python 3 (ipykernel)",
   "language": "python",
   "name": "python3"
  },
  "language_info": {
   "codemirror_mode": {
    "name": "ipython",
    "version": 3
   },
   "file_extension": ".py",
   "mimetype": "text/x-python",
   "name": "python",
   "nbconvert_exporter": "python",
   "pygments_lexer": "ipython3",
   "version": "3.9.7"
  }
 },
 "nbformat": 4,
 "nbformat_minor": 5
}
