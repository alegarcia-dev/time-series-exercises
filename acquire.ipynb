{
 "cells": [
  {
   "cell_type": "code",
   "execution_count": 1,
   "id": "3761c42a-4716-445e-8f5e-48a2d3decd60",
   "metadata": {},
   "outputs": [],
   "source": [
    "import requests\n",
    "\n",
    "import pandas as pd"
   ]
  },
  {
   "cell_type": "markdown",
   "id": "7f0b2ee5-6c91-477d-a8c1-8c3014ce05de",
   "metadata": {},
   "source": [
    "# Data Acquisition Exercises"
   ]
  },
  {
   "cell_type": "markdown",
   "id": "14aced53-8317-4331-b207-bf08fdc7a437",
   "metadata": {},
   "source": [
    "## 1\n",
    "\n",
    "Using the code from the lesson as a guide and the REST API from https://python.zgulde.net/api/v1/items as we did in the lesson, create a dataframe named items that has all of the data for items."
   ]
  },
  {
   "cell_type": "code",
   "execution_count": 9,
   "id": "cc436069-55e1-492b-bb33-2419318b3352",
   "metadata": {},
   "outputs": [
    {
     "name": "stdout",
     "output_type": "stream",
     "text": [
      "\n",
      "The API accepts GET requests for all endpoints, where endpoints are prefixed\n",
      "with\n",
      "\n",
      "    /api/{version}\n",
      "\n",
      "Where version is \"v1\"\n",
      "\n",
      "Valid endpoints:\n",
      "\n",
      "- /stores[/{store_id}]\n",
      "- /items[/{item_id}]\n",
      "- /sales[/{sale_id}]\n",
      "\n",
      "All endpoints accept a `page` parameter that can be used to navigate through\n",
      "the results.\n",
      "\n"
     ]
    }
   ],
   "source": [
    "url = 'https://api.data.codeup.com'\n",
    "endpoint = '/documentation'\n",
    "response = requests.get(url + endpoint)\n",
    "print(response.json()['payload'])"
   ]
  },
  {
   "cell_type": "code",
   "execution_count": 12,
   "id": "97ad2213-0866-4894-bd55-27ec1cf7d2a1",
   "metadata": {},
   "outputs": [
    {
     "data": {
      "text/plain": [
       "dict_keys(['payload', 'status'])"
      ]
     },
     "execution_count": 12,
     "metadata": {},
     "output_type": "execute_result"
    }
   ],
   "source": [
    "endpoint = '/api/v1/items'\n",
    "response = requests.get(url + endpoint)\n",
    "data = response.json()\n",
    "data.keys()"
   ]
  },
  {
   "cell_type": "code",
   "execution_count": 16,
   "id": "dfd917fe-675b-49b5-b1c6-af719e661a3b",
   "metadata": {},
   "outputs": [
    {
     "data": {
      "text/plain": [
       "dict_keys(['items', 'max_page', 'next_page', 'page', 'previous_page'])"
      ]
     },
     "execution_count": 16,
     "metadata": {},
     "output_type": "execute_result"
    }
   ],
   "source": [
    "payload = data['payload']\n",
    "payload.keys()"
   ]
  },
  {
   "cell_type": "code",
   "execution_count": 19,
   "id": "e6b37b67-0f1d-400a-a6b4-c2539b4a44cd",
   "metadata": {},
   "outputs": [
    {
     "data": {
      "text/plain": [
       "'/api/v1/items?page=2'"
      ]
     },
     "execution_count": 19,
     "metadata": {},
     "output_type": "execute_result"
    }
   ],
   "source": [
    "payload['next_page']"
   ]
  },
  {
   "cell_type": "code",
   "execution_count": 49,
   "id": "b3c1619a-7fdc-44ca-9df0-ca4a5058183d",
   "metadata": {},
   "outputs": [],
   "source": [
    "def get_data(url, endpoint, name):\n",
    "    data = pd.DataFrame()\n",
    "    \n",
    "    while True:\n",
    "        print(f'Reading page {endpoint}', end = '\\r')\n",
    "        contents = requests.get(url + endpoint).json()\n",
    "        page_contents = pd.DataFrame(contents['payload'][name])\n",
    "        data = pd.concat([data, page_contents])\n",
    "        \n",
    "        if not (next_page := contents['payload']['next_page']):\n",
    "            break\n",
    "            \n",
    "        endpoint = next_page\n",
    "        \n",
    "    data = data.reset_index().drop(columns = 'index')\n",
    "    print('Loading complete. Returning data.')\n",
    "        \n",
    "    return data"
   ]
  },
  {
   "cell_type": "code",
   "execution_count": 50,
   "id": "927e016b-fcb8-4e8b-b9fb-29a259a086bb",
   "metadata": {},
   "outputs": [
    {
     "name": "stdout",
     "output_type": "stream",
     "text": [
      "Loading complete. Returning data.\n"
     ]
    },
    {
     "data": {
      "text/plain": [
       "(50, 6)"
      ]
     },
     "execution_count": 50,
     "metadata": {},
     "output_type": "execute_result"
    }
   ],
   "source": [
    "items = get_data('https://api.data.codeup.com', '/api/v1/items', 'items')\n",
    "items.shape"
   ]
  },
  {
   "cell_type": "markdown",
   "id": "3d3973d6-8629-4cd3-8fb3-4d4ebac856f5",
   "metadata": {},
   "source": [
    "## 2\n",
    "\n",
    "Do the same thing, but for stores (https://python.zgulde.net/api/v1/stores)"
   ]
  },
  {
   "cell_type": "code",
   "execution_count": 38,
   "id": "a3f73ad1-98ed-4a5e-9669-c0a2a6bc5bba",
   "metadata": {},
   "outputs": [
    {
     "data": {
      "text/plain": [
       "dict_keys(['payload', 'status'])"
      ]
     },
     "execution_count": 38,
     "metadata": {},
     "output_type": "execute_result"
    }
   ],
   "source": [
    "url = 'https://api.data.codeup.com/api/v1/stores'\n",
    "data = requests.get(url).json()\n",
    "data.keys()"
   ]
  },
  {
   "cell_type": "code",
   "execution_count": 40,
   "id": "5d007b68-d251-4b1b-bfa3-f97b33d6689f",
   "metadata": {},
   "outputs": [
    {
     "data": {
      "text/plain": [
       "dict_keys(['max_page', 'next_page', 'page', 'previous_page', 'stores'])"
      ]
     },
     "execution_count": 40,
     "metadata": {},
     "output_type": "execute_result"
    }
   ],
   "source": [
    "data['payload'].keys()"
   ]
  },
  {
   "cell_type": "code",
   "execution_count": 41,
   "id": "ed3ebbc1-fc8a-41cd-9547-9db47df5c1c4",
   "metadata": {},
   "outputs": [
    {
     "data": {
      "text/plain": [
       "1"
      ]
     },
     "execution_count": 41,
     "metadata": {},
     "output_type": "execute_result"
    }
   ],
   "source": [
    "data['payload']['max_page']"
   ]
  },
  {
   "cell_type": "code",
   "execution_count": 51,
   "id": "63102afe-ac0a-41a0-bce4-f344b176b50a",
   "metadata": {},
   "outputs": [
    {
     "name": "stdout",
     "output_type": "stream",
     "text": [
      "Loading complete. Returning data.\n"
     ]
    },
    {
     "data": {
      "text/plain": [
       "(10, 5)"
      ]
     },
     "execution_count": 51,
     "metadata": {},
     "output_type": "execute_result"
    }
   ],
   "source": [
    "stores = get_data('https://api.data.codeup.com', '/api/v1/stores', 'stores')\n",
    "stores.shape"
   ]
  },
  {
   "cell_type": "markdown",
   "id": "aba803ea-37b3-4d85-bd51-8d70b3698f68",
   "metadata": {},
   "source": [
    "## 3\n",
    "\n",
    "Extract the data for sales (https://python.zgulde.net/api/v1/sales). There are a lot of pages of data here, so your code will need to be a little more complex. Your code should continue fetching data from the next page until all of the data is extracted."
   ]
  },
  {
   "cell_type": "code",
   "execution_count": 47,
   "id": "4fa8efb7-5b3c-46aa-985c-779897dd5187",
   "metadata": {},
   "outputs": [
    {
     "name": "stdout",
     "output_type": "stream",
     "text": [
      "Reading page /api/v1/sales?page=183\n"
     ]
    },
    {
     "ename": "TypeError",
     "evalue": "'tuple' object is not callable",
     "output_type": "error",
     "traceback": [
      "\u001b[0;31m---------------------------------------------------------------------------\u001b[0m",
      "\u001b[0;31mTypeError\u001b[0m                                 Traceback (most recent call last)",
      "\u001b[0;32m/var/folders/95/v52kk6ys7s14hmmc3xm7b1xr0000gn/T/ipykernel_1589/3838138737.py\u001b[0m in \u001b[0;36m<module>\u001b[0;34m\u001b[0m\n\u001b[1;32m      2\u001b[0m \u001b[0;34m\u001b[0m\u001b[0m\n\u001b[1;32m      3\u001b[0m \u001b[0msales\u001b[0m \u001b[0;34m=\u001b[0m \u001b[0mget_data\u001b[0m\u001b[0;34m(\u001b[0m\u001b[0;34m'https://api.data.codeup.com'\u001b[0m\u001b[0;34m,\u001b[0m \u001b[0;34m'/api/v1/sales'\u001b[0m\u001b[0;34m,\u001b[0m \u001b[0;34m'sales'\u001b[0m\u001b[0;34m)\u001b[0m\u001b[0;34m\u001b[0m\u001b[0;34m\u001b[0m\u001b[0m\n\u001b[0;32m----> 4\u001b[0;31m \u001b[0msales\u001b[0m\u001b[0;34m.\u001b[0m\u001b[0mshape\u001b[0m\u001b[0;34m(\u001b[0m\u001b[0;34m)\u001b[0m\u001b[0;34m\u001b[0m\u001b[0;34m\u001b[0m\u001b[0m\n\u001b[0m",
      "\u001b[0;31mTypeError\u001b[0m: 'tuple' object is not callable"
     ]
    }
   ],
   "source": [
    "# Let's try the function\n",
    "\n",
    "sales = get_data('https://api.data.codeup.com', '/api/v1/sales', 'sales')"
   ]
  },
  {
   "cell_type": "code",
   "execution_count": 48,
   "id": "cdca9a27-9668-4f02-943a-afcab5540e9f",
   "metadata": {},
   "outputs": [
    {
     "data": {
      "text/plain": [
       "(913000, 5)"
      ]
     },
     "execution_count": 48,
     "metadata": {},
     "output_type": "execute_result"
    }
   ],
   "source": [
    "sales.shape"
   ]
  },
  {
   "cell_type": "markdown",
   "id": "21f6728c-a963-4b46-828a-e26246e7c757",
   "metadata": {},
   "source": [
    "## 4\n",
    "\n",
    "Save the data in your files to local csv files so that it will be faster to access in the future."
   ]
  },
  {
   "cell_type": "code",
   "execution_count": 52,
   "id": "160e4e1e-50a1-4bac-b47e-a5bacf9feb65",
   "metadata": {},
   "outputs": [],
   "source": [
    "items.to_csv('items.csv', index = False)\n",
    "stores.to_csv('stores.csv', index = False)\n",
    "sales.to_csv('sales.csv', index = False)"
   ]
  },
  {
   "cell_type": "markdown",
   "id": "87b56a44-66f7-47fb-bb5b-7e3b9f93cf8e",
   "metadata": {},
   "source": [
    "## 5\n",
    "\n",
    "Combine the data from your three separate dataframes into one large dataframe."
   ]
  },
  {
   "cell_type": "code",
   "execution_count": 53,
   "id": "54cc2c99-75fc-47e1-99c7-0e9b9d01a938",
   "metadata": {},
   "outputs": [
    {
     "name": "stdout",
     "output_type": "stream",
     "text": [
      "<class 'pandas.core.frame.DataFrame'>\n",
      "RangeIndex: 50 entries, 0 to 49\n",
      "Data columns (total 6 columns):\n",
      " #   Column      Non-Null Count  Dtype  \n",
      "---  ------      --------------  -----  \n",
      " 0   item_brand  50 non-null     object \n",
      " 1   item_id     50 non-null     int64  \n",
      " 2   item_name   50 non-null     object \n",
      " 3   item_price  50 non-null     float64\n",
      " 4   item_upc12  50 non-null     object \n",
      " 5   item_upc14  50 non-null     object \n",
      "dtypes: float64(1), int64(1), object(4)\n",
      "memory usage: 2.5+ KB\n"
     ]
    }
   ],
   "source": [
    "items.info()"
   ]
  },
  {
   "cell_type": "code",
   "execution_count": 61,
   "id": "a6cdaeca-21ea-4ec3-a305-81f1d53c45bd",
   "metadata": {},
   "outputs": [
    {
     "name": "stdout",
     "output_type": "stream",
     "text": [
      "<class 'pandas.core.frame.DataFrame'>\n",
      "RangeIndex: 10 entries, 0 to 9\n",
      "Data columns (total 5 columns):\n",
      " #   Column         Non-Null Count  Dtype \n",
      "---  ------         --------------  ----- \n",
      " 0   store_address  10 non-null     object\n",
      " 1   store_city     10 non-null     object\n",
      " 2   store_id       10 non-null     int64 \n",
      " 3   store_state    10 non-null     object\n",
      " 4   store_zipcode  10 non-null     object\n",
      "dtypes: int64(1), object(4)\n",
      "memory usage: 528.0+ bytes\n"
     ]
    }
   ],
   "source": [
    "stores.info()"
   ]
  },
  {
   "cell_type": "code",
   "execution_count": 55,
   "id": "e82ef4c1-ede7-4ebe-acb6-2d48a49193ba",
   "metadata": {},
   "outputs": [
    {
     "name": "stdout",
     "output_type": "stream",
     "text": [
      "<class 'pandas.core.frame.DataFrame'>\n",
      "RangeIndex: 913000 entries, 0 to 912999\n",
      "Data columns (total 5 columns):\n",
      " #   Column       Non-Null Count   Dtype  \n",
      "---  ------       --------------   -----  \n",
      " 0   item         913000 non-null  int64  \n",
      " 1   sale_amount  913000 non-null  float64\n",
      " 2   sale_date    913000 non-null  object \n",
      " 3   sale_id      913000 non-null  int64  \n",
      " 4   store        913000 non-null  int64  \n",
      "dtypes: float64(1), int64(3), object(1)\n",
      "memory usage: 34.8+ MB\n"
     ]
    }
   ],
   "source": [
    "sales.info()"
   ]
  },
  {
   "cell_type": "code",
   "execution_count": 66,
   "id": "5eba4a54-7a04-43a9-a523-53a8d814e96a",
   "metadata": {},
   "outputs": [
    {
     "name": "stdout",
     "output_type": "stream",
     "text": [
      "<class 'pandas.core.frame.DataFrame'>\n",
      "Int64Index: 913000 entries, 0 to 912999\n",
      "Data columns (total 14 columns):\n",
      " #   Column         Non-Null Count   Dtype  \n",
      "---  ------         --------------   -----  \n",
      " 0   item           913000 non-null  int64  \n",
      " 1   sale_amount    913000 non-null  float64\n",
      " 2   sale_date      913000 non-null  object \n",
      " 3   sale_id        913000 non-null  int64  \n",
      " 4   store          913000 non-null  int64  \n",
      " 5   item_brand     913000 non-null  object \n",
      " 6   item_name      913000 non-null  object \n",
      " 7   item_price     913000 non-null  float64\n",
      " 8   item_upc12     913000 non-null  object \n",
      " 9   item_upc14     913000 non-null  object \n",
      " 10  store_address  913000 non-null  object \n",
      " 11  store_city     913000 non-null  object \n",
      " 12  store_state    913000 non-null  object \n",
      " 13  store_zipcode  913000 non-null  object \n",
      "dtypes: float64(2), int64(3), object(9)\n",
      "memory usage: 104.5+ MB\n"
     ]
    }
   ],
   "source": [
    "# item links to item_id and store links to store_id\n",
    "df = sales.merge(items, how = 'inner', left_on = 'item', right_on = 'item_id', validate = 'm:1')\n",
    "df = df.drop(columns = 'item_id')\n",
    "df = df.merge(stores, how = 'inner', left_on = 'store', right_on = 'store_id', validate = 'm:1')\n",
    "df = df.drop(columns = 'store_id')\n",
    "df.info()"
   ]
  },
  {
   "cell_type": "markdown",
   "id": "d2bec8e9-3669-498f-aee4-ea5914086430",
   "metadata": {},
   "source": [
    "## 6\n",
    "\n",
    "Acquire the Open Power Systems Data for Germany, which has been rapidly expanding its renewable energy production in recent years. The data set includes country-wide totals of electricity consumption, wind power production, and solar power production for 2006-2017. You can get the data here: https://raw.githubusercontent.com/jenfly/opsd/master/opsd_germany_daily.csv"
   ]
  },
  {
   "cell_type": "code",
   "execution_count": 67,
   "id": "4e70e31e-e1b5-4d6a-b64c-9807da73e8ab",
   "metadata": {},
   "outputs": [
    {
     "name": "stdout",
     "output_type": "stream",
     "text": [
      "<class 'pandas.core.frame.DataFrame'>\n",
      "RangeIndex: 4383 entries, 0 to 4382\n",
      "Data columns (total 5 columns):\n",
      " #   Column       Non-Null Count  Dtype  \n",
      "---  ------       --------------  -----  \n",
      " 0   Date         4383 non-null   object \n",
      " 1   Consumption  4383 non-null   float64\n",
      " 2   Wind         2920 non-null   float64\n",
      " 3   Solar        2188 non-null   float64\n",
      " 4   Wind+Solar   2187 non-null   float64\n",
      "dtypes: float64(4), object(1)\n",
      "memory usage: 171.3+ KB\n"
     ]
    }
   ],
   "source": [
    "df = pd.read_csv('https://raw.githubusercontent.com/jenfly/opsd/master/opsd_germany_daily.csv')\n",
    "df.info()"
   ]
  },
  {
   "cell_type": "markdown",
   "id": "71481536-670f-461f-9541-d3f958e415e3",
   "metadata": {},
   "source": [
    "## 7\n",
    "\n",
    "Make sure all the work that you have done above is reproducible. That is, you should put the code above into separate functions in the acquire.py file and be able to re-run the functions and get the same data."
   ]
  },
  {
   "cell_type": "code",
   "execution_count": 68,
   "id": "dfd5ade7-2825-4821-b652-b88833d18888",
   "metadata": {},
   "outputs": [],
   "source": [
    "from acquire import *"
   ]
  },
  {
   "cell_type": "code",
   "execution_count": 77,
   "id": "4b08f915-acf1-4c10-84f1-7079271ae6b8",
   "metadata": {},
   "outputs": [
    {
     "name": "stdout",
     "output_type": "stream",
     "text": [
      "<class 'pandas.core.frame.DataFrame'>\n",
      "RangeIndex: 4383 entries, 0 to 4382\n",
      "Data columns (total 5 columns):\n",
      " #   Column       Non-Null Count  Dtype  \n",
      "---  ------       --------------  -----  \n",
      " 0   Date         4383 non-null   object \n",
      " 1   Consumption  4383 non-null   float64\n",
      " 2   Wind         2920 non-null   float64\n",
      " 3   Solar        2188 non-null   float64\n",
      " 4   Wind+Solar   2187 non-null   float64\n",
      "dtypes: float64(4), object(1)\n",
      "memory usage: 171.3+ KB\n"
     ]
    }
   ],
   "source": [
    "get_open_power_systems_data().info()"
   ]
  },
  {
   "cell_type": "code",
   "execution_count": 78,
   "id": "17467783-ad19-482d-b8c2-2fd51927bc36",
   "metadata": {},
   "outputs": [
    {
     "name": "stdout",
     "output_type": "stream",
     "text": [
      "Reading from API.\n",
      "Loading complete. Returning data.\n",
      "<class 'pandas.core.frame.DataFrame'>\n",
      "RangeIndex: 50 entries, 0 to 49\n",
      "Data columns (total 6 columns):\n",
      " #   Column      Non-Null Count  Dtype  \n",
      "---  ------      --------------  -----  \n",
      " 0   item_brand  50 non-null     object \n",
      " 1   item_id     50 non-null     int64  \n",
      " 2   item_name   50 non-null     object \n",
      " 3   item_price  50 non-null     float64\n",
      " 4   item_upc12  50 non-null     object \n",
      " 5   item_upc14  50 non-null     object \n",
      "dtypes: float64(1), int64(1), object(4)\n",
      "memory usage: 2.5+ KB\n"
     ]
    }
   ],
   "source": [
    "load_data('items', use_cache = False).info()"
   ]
  }
 ],
 "metadata": {
  "kernelspec": {
   "display_name": "Python 3 (ipykernel)",
   "language": "python",
   "name": "python3"
  },
  "language_info": {
   "codemirror_mode": {
    "name": "ipython",
    "version": 3
   },
   "file_extension": ".py",
   "mimetype": "text/x-python",
   "name": "python",
   "nbconvert_exporter": "python",
   "pygments_lexer": "ipython3",
   "version": "3.9.7"
  }
 },
 "nbformat": 4,
 "nbformat_minor": 5
}
