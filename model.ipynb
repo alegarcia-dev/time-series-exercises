{
 "cells": [
  {
   "cell_type": "code",
   "execution_count": 2,
   "id": "51863517-a786-45ad-bafb-f1026a25b8bd",
   "metadata": {},
   "outputs": [],
   "source": [
    "import numpy as np\n",
    "import pandas as pd\n",
    "import matplotlib.pyplot as plt\n",
    "import seaborn as sns\n",
    "import statsmodels.api as sm\n",
    "\n",
    "from statsmodels.tsa.api import Holt\n",
    "\n",
    "from sklearn.metrics import mean_squared_error, r2_score\n",
    "\n",
    "from acquire import get_store_sales_data\n",
    "from prepare import prepare_data"
   ]
  },
  {
   "cell_type": "markdown",
   "id": "276c30a3-e805-4c8f-bca6-3a6133373f9c",
   "metadata": {},
   "source": [
    "# Time Series Modeling Exercises\n",
    "\n",
    "## Saas.csv"
   ]
  },
  {
   "cell_type": "code",
   "execution_count": 4,
   "id": "93946749-f8ae-4bd5-be35-3b1c9948a7c7",
   "metadata": {},
   "outputs": [
    {
     "data": {
      "text/plain": [
       "(790458, 5)"
      ]
     },
     "execution_count": 4,
     "metadata": {},
     "output_type": "execute_result"
    }
   ],
   "source": [
    "saas = pd.read_csv('https://ds.codeup.com/saas.csv')\n",
    "saas.shape"
   ]
  },
  {
   "cell_type": "code",
   "execution_count": 5,
   "id": "9337bcb5-25c6-4d6c-8042-63c1ba34e006",
   "metadata": {},
   "outputs": [
    {
     "name": "stdout",
     "output_type": "stream",
     "text": [
      "<class 'pandas.core.frame.DataFrame'>\n",
      "RangeIndex: 790458 entries, 0 to 790457\n",
      "Data columns (total 5 columns):\n",
      " #   Column             Non-Null Count   Dtype  \n",
      "---  ------             --------------   -----  \n",
      " 0   Month_Invoiced     790458 non-null  object \n",
      " 1   Customer_Id        790458 non-null  int64  \n",
      " 2   Invoice_Id         790458 non-null  int64  \n",
      " 3   Subscription_Type  790458 non-null  float64\n",
      " 4   Amount             790458 non-null  float64\n",
      "dtypes: float64(2), int64(2), object(1)\n",
      "memory usage: 30.2+ MB\n"
     ]
    }
   ],
   "source": [
    "saas.info()"
   ]
  },
  {
   "cell_type": "markdown",
   "id": "3180390e-a07d-45b8-b29b-3996fd5b1ef2",
   "metadata": {},
   "source": [
    "### 1\n",
    "\n",
    "Split data (train/validate/test) and resample by any period, except daily, and aggregate using the sum."
   ]
  },
  {
   "cell_type": "code",
   "execution_count": 7,
   "id": "8084dbd2-d935-4a10-8cf6-fee0c2fad401",
   "metadata": {},
   "outputs": [
    {
     "data": {
      "text/html": [
       "<div>\n",
       "<style scoped>\n",
       "    .dataframe tbody tr th:only-of-type {\n",
       "        vertical-align: middle;\n",
       "    }\n",
       "\n",
       "    .dataframe tbody tr th {\n",
       "        vertical-align: top;\n",
       "    }\n",
       "\n",
       "    .dataframe thead th {\n",
       "        text-align: right;\n",
       "    }\n",
       "</style>\n",
       "<table border=\"1\" class=\"dataframe\">\n",
       "  <thead>\n",
       "    <tr style=\"text-align: right;\">\n",
       "      <th></th>\n",
       "      <th>month_invoiced</th>\n",
       "      <th>customer_id</th>\n",
       "      <th>invoice_id</th>\n",
       "      <th>subscription_type</th>\n",
       "      <th>amount</th>\n",
       "    </tr>\n",
       "  </thead>\n",
       "  <tbody>\n",
       "    <tr>\n",
       "      <th>0</th>\n",
       "      <td>2014-01-31</td>\n",
       "      <td>1000000</td>\n",
       "      <td>5000000</td>\n",
       "      <td>0.0</td>\n",
       "      <td>0.0</td>\n",
       "    </tr>\n",
       "  </tbody>\n",
       "</table>\n",
       "</div>"
      ],
      "text/plain": [
       "  month_invoiced  customer_id  invoice_id  subscription_type  amount\n",
       "0     2014-01-31      1000000     5000000                0.0     0.0"
      ]
     },
     "execution_count": 7,
     "metadata": {},
     "output_type": "execute_result"
    }
   ],
   "source": [
    "# Let's do a little bit of prep first.\n",
    "saas.columns = [column.lower() for column in saas.columns]\n",
    "saas.head(1)"
   ]
  },
  {
   "cell_type": "code",
   "execution_count": 10,
   "id": "5a43c7c8-78c1-46cf-8b98-4f216c550fe3",
   "metadata": {},
   "outputs": [
    {
     "name": "stdout",
     "output_type": "stream",
     "text": [
      "<class 'pandas.core.frame.DataFrame'>\n",
      "RangeIndex: 790458 entries, 0 to 790457\n",
      "Data columns (total 5 columns):\n",
      " #   Column             Non-Null Count   Dtype         \n",
      "---  ------             --------------   -----         \n",
      " 0   month_invoiced     790458 non-null  datetime64[ns]\n",
      " 1   customer_id        790458 non-null  int64         \n",
      " 2   invoice_id         790458 non-null  int64         \n",
      " 3   subscription_type  790458 non-null  float64       \n",
      " 4   amount             790458 non-null  float64       \n",
      "dtypes: datetime64[ns](1), float64(2), int64(2)\n",
      "memory usage: 30.2 MB\n"
     ]
    }
   ],
   "source": [
    "saas.month_invoiced = pd.to_datetime(saas.month_invoiced, format = '%Y-%m-%d')\n",
    "saas.info()"
   ]
  },
  {
   "cell_type": "code",
   "execution_count": 11,
   "id": "f1be6721-e1b8-49a8-9e13-745a3f8d284c",
   "metadata": {},
   "outputs": [
    {
     "name": "stdout",
     "output_type": "stream",
     "text": [
      "<class 'pandas.core.frame.DataFrame'>\n",
      "DatetimeIndex: 790458 entries, 2014-01-31 to 2017-12-31\n",
      "Data columns (total 4 columns):\n",
      " #   Column             Non-Null Count   Dtype  \n",
      "---  ------             --------------   -----  \n",
      " 0   customer_id        790458 non-null  int64  \n",
      " 1   invoice_id         790458 non-null  int64  \n",
      " 2   subscription_type  790458 non-null  float64\n",
      " 3   amount             790458 non-null  float64\n",
      "dtypes: float64(2), int64(2)\n",
      "memory usage: 30.2 MB\n"
     ]
    }
   ],
   "source": [
    "saas = saas.set_index('month_invoiced').sort_index()\n",
    "saas.info()"
   ]
  },
  {
   "cell_type": "code",
   "execution_count": 14,
   "id": "1e78d1be-e300-4057-b8f2-33f5936f1483",
   "metadata": {},
   "outputs": [
    {
     "data": {
      "image/png": "[encoded data removed]",
      "text/plain": [
       "<Figure size 432x288 with 1 Axes>"
      ]
     },
     "metadata": {
      "needs_background": "light"
     },
     "output_type": "display_data"
    }
   ],
   "source": [
    "saas.groupby(saas.index).amount.sum().plot();"
   ]
  },
  {
   "cell_type": "code",
   "execution_count": 28,
   "id": "9bddcbbc-e3b2-463f-9c77-b8fc876ec416",
   "metadata": {},
   "outputs": [
    {
     "data": {
      "text/plain": [
       "DatetimeIndex(['2014-01-31', '2014-02-28', '2014-03-31', '2014-04-30',\n",
       "               '2014-05-31', '2014-06-30', '2014-07-31', '2014-08-31',\n",
       "               '2014-09-30', '2014-10-31', '2014-11-30', '2014-12-31',\n",
       "               '2015-01-31', '2015-02-28', '2015-03-31', '2015-04-30',\n",
       "               '2015-05-31', '2015-06-30', '2015-07-31', '2015-08-31',\n",
       "               '2015-09-30', '2015-10-31', '2015-11-30', '2015-12-31',\n",
       "               '2016-01-31', '2016-02-29', '2016-03-31', '2016-04-30',\n",
       "               '2016-05-31', '2016-06-30', '2016-07-31', '2016-08-31',\n",
       "               '2016-09-30', '2016-10-31', '2016-11-30', '2016-12-31',\n",
       "               '2017-01-31', '2017-02-28', '2017-03-31', '2017-04-30',\n",
       "               '2017-05-31', '2017-06-30', '2017-07-31', '2017-08-31',\n",
       "               '2017-09-30', '2017-10-31', '2017-11-30', '2017-12-31'],\n",
       "              dtype='datetime64[ns]', name='month_invoiced', freq=None)"
      ]
     },
     "execution_count": 28,
     "metadata": {},
     "output_type": "execute_result"
    }
   ],
   "source": [
    "saas.index.unique()"
   ]
  },
  {
   "cell_type": "code",
   "execution_count": 26,
   "id": "8cef4f37-50c5-4920-bad1-883e09c3c792",
   "metadata": {},
   "outputs": [],
   "source": [
    "# Now we can split the data. We'll use human based splitting.\n",
    "train = saas.loc[ : '2015-12-31']\n",
    "validate = saas['2016-01-31' : '2016-12-31']\n",
    "test = saas['2017-01-31' : ]"
   ]
  },
  {
   "cell_type": "code",
   "execution_count": 30,
   "id": "f7696e49-3b0d-46eb-9cd0-154b74c8cc63",
   "metadata": {},
   "outputs": [
    {
     "data": {
      "image/png": "[encoded data removed]",
      "text/plain": [
       "<Figure size 432x288 with 1 Axes>"
      ]
     },
     "metadata": {
      "needs_background": "light"
     },
     "output_type": "display_data"
    }
   ],
   "source": [
    "train.resample('M').amount.sum().plot()\n",
    "validate.resample('M').amount.sum().plot()\n",
    "test.resample('M').amount.sum().plot();"
   ]
  },
  {
   "cell_type": "markdown",
   "id": "5c8dcdad-7605-4e2b-b5e3-f1d968dc71dd",
   "metadata": {},
   "source": [
    "### 2\n",
    "\n",
    "Forecast, plot and evaluate using each of the 4 parametric based methods we discussed:\n",
    "\n",
    "- Simple Average"
   ]
  },
  {
   "cell_type": "code",
   "execution_count": null,
   "id": "81386bcd-5470-4bdf-872f-bec4031ee74c",
   "metadata": {},
   "outputs": [],
   "source": []
  },
  {
   "cell_type": "markdown",
   "id": "942ae34f-452c-49aa-a0a4-a917b3dd468e",
   "metadata": {},
   "source": [
    "- Moving Average\n",
    "- Holt's Linear Trend Model\n",
    "- Based on previous year/month/etc., this is up to you."
   ]
  },
  {
   "cell_type": "markdown",
   "id": "f5cad185-ba1a-4836-ad68-639810350fb9",
   "metadata": {},
   "source": [
    "## Optional: Using store item demand"
   ]
  },
  {
   "cell_type": "code",
   "execution_count": 3,
   "id": "93601d67-d147-4cf4-8428-919d4dc777c9",
   "metadata": {},
   "outputs": [
    {
     "name": "stdout",
     "output_type": "stream",
     "text": [
      "Reading from .csv file.\n",
      "Reading from .csv file.\n",
      "Reading from .csv file.\n"
     ]
    },
    {
     "data": {
      "text/plain": [
       "(913000, 16)"
      ]
     },
     "execution_count": 3,
     "metadata": {},
     "output_type": "execute_result"
    }
   ],
   "source": [
    "store_sales = prepare_data(get_store_sales_data())\n",
    "store_sales.shape"
   ]
  },
  {
   "cell_type": "markdown",
   "id": "eaf2166e-665f-4db7-8974-26f34ceb5582",
   "metadata": {},
   "source": [
    "### 1\n",
    "\n",
    "Predict 2018 total monthly sales for a single store and/or item by creating a model.\n",
    "\n",
    "### 2\n",
    "\n",
    "Return a dataframe with the month, store_id, y-hat, and the confidence intervals (y-hat lower, y-hat upper).\n",
    "\n",
    "### 3\n",
    "\n",
    "Plot the 2018 monthly sales predictions."
   ]
  }
 ],
 "metadata": {
  "kernelspec": {
   "display_name": "Python 3 (ipykernel)",
   "language": "python",
   "name": "python3"
  },
  "language_info": {
   "codemirror_mode": {
    "name": "ipython",
    "version": 3
   },
   "file_extension": ".py",
   "mimetype": "text/x-python",
   "name": "python",
   "nbconvert_exporter": "python",
   "pygments_lexer": "ipython3",
   "version": "3.9.7"
  }
 },
 "nbformat": 4,
 "nbformat_minor": 5
}
