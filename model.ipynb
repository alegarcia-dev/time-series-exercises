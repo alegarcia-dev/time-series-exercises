{
 "cells": [
  {
   "cell_type": "code",
   "execution_count": 1,
   "id": "51863517-a786-45ad-bafb-f1026a25b8bd",
   "metadata": {},
   "outputs": [],
   "source": [
    "import numpy as np\n",
    "import pandas as pd\n",
    "import matplotlib.pyplot as plt\n",
    "import seaborn as sns\n",
    "import statsmodels.api as sm\n",
    "\n",
    "from statsmodels.tsa.api import Holt\n",
    "\n",
    "from sklearn.metrics import mean_squared_error, r2_score\n",
    "\n",
    "from acquire import get_store_sales_data\n",
    "from prepare import prepare_data\n",
    "from evaluate import *"
   ]
  },
  {
   "cell_type": "markdown",
   "id": "276c30a3-e805-4c8f-bca6-3a6133373f9c",
   "metadata": {},
   "source": [
    "# Time Series Modeling Exercises\n",
    "\n",
    "## Saas.csv"
   ]
  },
  {
   "cell_type": "code",
   "execution_count": 2,
   "id": "93946749-f8ae-4bd5-be35-3b1c9948a7c7",
   "metadata": {},
   "outputs": [
    {
     "data": {
      "text/plain": [
       "(790458, 5)"
      ]
     },
     "execution_count": 2,
     "metadata": {},
     "output_type": "execute_result"
    }
   ],
   "source": [
    "saas = pd.read_csv('https://ds.codeup.com/saas.csv')\n",
    "saas.shape"
   ]
  },
  {
   "cell_type": "code",
   "execution_count": 3,
   "id": "9337bcb5-25c6-4d6c-8042-63c1ba34e006",
   "metadata": {},
   "outputs": [
    {
     "name": "stdout",
     "output_type": "stream",
     "text": [
      "<class 'pandas.core.frame.DataFrame'>\n",
      "RangeIndex: 790458 entries, 0 to 790457\n",
      "Data columns (total 5 columns):\n",
      " #   Column             Non-Null Count   Dtype  \n",
      "---  ------             --------------   -----  \n",
      " 0   Month_Invoiced     790458 non-null  object \n",
      " 1   Customer_Id        790458 non-null  int64  \n",
      " 2   Invoice_Id         790458 non-null  int64  \n",
      " 3   Subscription_Type  790458 non-null  float64\n",
      " 4   Amount             790458 non-null  float64\n",
      "dtypes: float64(2), int64(2), object(1)\n",
      "memory usage: 30.2+ MB\n"
     ]
    }
   ],
   "source": [
    "saas.info()"
   ]
  },
  {
   "cell_type": "markdown",
   "id": "3180390e-a07d-45b8-b29b-3996fd5b1ef2",
   "metadata": {},
   "source": [
    "### 1\n",
    "\n",
    "Split data (train/validate/test) and resample by any period, except daily, and aggregate using the sum."
   ]
  },
  {
   "cell_type": "code",
   "execution_count": 4,
   "id": "8084dbd2-d935-4a10-8cf6-fee0c2fad401",
   "metadata": {},
   "outputs": [
    {
     "data": {
      "text/html": [
       "<div>\n",
       "<style scoped>\n",
       "    .dataframe tbody tr th:only-of-type {\n",
       "        vertical-align: middle;\n",
       "    }\n",
       "\n",
       "    .dataframe tbody tr th {\n",
       "        vertical-align: top;\n",
       "    }\n",
       "\n",
       "    .dataframe thead th {\n",
       "        text-align: right;\n",
       "    }\n",
       "</style>\n",
       "<table border=\"1\" class=\"dataframe\">\n",
       "  <thead>\n",
       "    <tr style=\"text-align: right;\">\n",
       "      <th></th>\n",
       "      <th>month_invoiced</th>\n",
       "      <th>customer_id</th>\n",
       "      <th>invoice_id</th>\n",
       "      <th>subscription_type</th>\n",
       "      <th>amount</th>\n",
       "    </tr>\n",
       "  </thead>\n",
       "  <tbody>\n",
       "    <tr>\n",
       "      <th>0</th>\n",
       "      <td>2014-01-31</td>\n",
       "      <td>1000000</td>\n",
       "      <td>5000000</td>\n",
       "      <td>0.0</td>\n",
       "      <td>0.0</td>\n",
       "    </tr>\n",
       "  </tbody>\n",
       "</table>\n",
       "</div>"
      ],
      "text/plain": [
       "  month_invoiced  customer_id  invoice_id  subscription_type  amount\n",
       "0     2014-01-31      1000000     5000000                0.0     0.0"
      ]
     },
     "execution_count": 4,
     "metadata": {},
     "output_type": "execute_result"
    }
   ],
   "source": [
    "# Let's do a little bit of prep first.\n",
    "saas.columns = [column.lower() for column in saas.columns]\n",
    "saas.head(1)"
   ]
  },
  {
   "cell_type": "code",
   "execution_count": 5,
   "id": "5a43c7c8-78c1-46cf-8b98-4f216c550fe3",
   "metadata": {},
   "outputs": [
    {
     "name": "stdout",
     "output_type": "stream",
     "text": [
      "<class 'pandas.core.frame.DataFrame'>\n",
      "RangeIndex: 790458 entries, 0 to 790457\n",
      "Data columns (total 5 columns):\n",
      " #   Column             Non-Null Count   Dtype         \n",
      "---  ------             --------------   -----         \n",
      " 0   month_invoiced     790458 non-null  datetime64[ns]\n",
      " 1   customer_id        790458 non-null  int64         \n",
      " 2   invoice_id         790458 non-null  int64         \n",
      " 3   subscription_type  790458 non-null  float64       \n",
      " 4   amount             790458 non-null  float64       \n",
      "dtypes: datetime64[ns](1), float64(2), int64(2)\n",
      "memory usage: 30.2 MB\n"
     ]
    }
   ],
   "source": [
    "saas.month_invoiced = pd.to_datetime(saas.month_invoiced, format = '%Y-%m-%d')\n",
    "saas.info()"
   ]
  },
  {
   "cell_type": "code",
   "execution_count": 6,
   "id": "f1be6721-e1b8-49a8-9e13-745a3f8d284c",
   "metadata": {},
   "outputs": [
    {
     "name": "stdout",
     "output_type": "stream",
     "text": [
      "<class 'pandas.core.frame.DataFrame'>\n",
      "DatetimeIndex: 790458 entries, 2014-01-31 to 2017-12-31\n",
      "Data columns (total 4 columns):\n",
      " #   Column             Non-Null Count   Dtype  \n",
      "---  ------             --------------   -----  \n",
      " 0   customer_id        790458 non-null  int64  \n",
      " 1   invoice_id         790458 non-null  int64  \n",
      " 2   subscription_type  790458 non-null  float64\n",
      " 3   amount             790458 non-null  float64\n",
      "dtypes: float64(2), int64(2)\n",
      "memory usage: 30.2 MB\n"
     ]
    }
   ],
   "source": [
    "saas = saas.set_index('month_invoiced').sort_index()\n",
    "saas.info()"
   ]
  },
  {
   "cell_type": "code",
   "execution_count": 7,
   "id": "1e78d1be-e300-4057-b8f2-33f5936f1483",
   "metadata": {},
   "outputs": [
    {
     "data": {
      "image/png": "[encoded data removed]",
      "text/plain": [
       "<Figure size 432x288 with 1 Axes>"
      ]
     },
     "metadata": {
      "needs_background": "light"
     },
     "output_type": "display_data"
    }
   ],
   "source": [
    "saas.groupby(saas.index).amount.sum().plot();"
   ]
  },
  {
   "cell_type": "code",
   "execution_count": 8,
   "id": "110560c0-57b0-42fc-b4d2-215665e0c333",
   "metadata": {},
   "outputs": [
    {
     "data": {
      "text/html": [
       "<div>\n",
       "<style scoped>\n",
       "    .dataframe tbody tr th:only-of-type {\n",
       "        vertical-align: middle;\n",
       "    }\n",
       "\n",
       "    .dataframe tbody tr th {\n",
       "        vertical-align: top;\n",
       "    }\n",
       "\n",
       "    .dataframe thead th {\n",
       "        text-align: right;\n",
       "    }\n",
       "</style>\n",
       "<table border=\"1\" class=\"dataframe\">\n",
       "  <thead>\n",
       "    <tr style=\"text-align: right;\">\n",
       "      <th></th>\n",
       "      <th>amount</th>\n",
       "    </tr>\n",
       "    <tr>\n",
       "      <th>month_invoiced</th>\n",
       "      <th></th>\n",
       "    </tr>\n",
       "  </thead>\n",
       "  <tbody>\n",
       "    <tr>\n",
       "      <th>2014-01-31</th>\n",
       "      <td>35850.0</td>\n",
       "    </tr>\n",
       "    <tr>\n",
       "      <th>2014-02-28</th>\n",
       "      <td>37190.0</td>\n",
       "    </tr>\n",
       "    <tr>\n",
       "      <th>2014-03-31</th>\n",
       "      <td>38295.0</td>\n",
       "    </tr>\n",
       "    <tr>\n",
       "      <th>2014-04-30</th>\n",
       "      <td>39255.0</td>\n",
       "    </tr>\n",
       "    <tr>\n",
       "      <th>2014-05-31</th>\n",
       "      <td>40355.0</td>\n",
       "    </tr>\n",
       "  </tbody>\n",
       "</table>\n",
       "</div>"
      ],
      "text/plain": [
       "                 amount\n",
       "month_invoiced         \n",
       "2014-01-31      35850.0\n",
       "2014-02-28      37190.0\n",
       "2014-03-31      38295.0\n",
       "2014-04-30      39255.0\n",
       "2014-05-31      40355.0"
      ]
     },
     "execution_count": 8,
     "metadata": {},
     "output_type": "execute_result"
    }
   ],
   "source": [
    "saas = pd.DataFrame(saas.groupby(saas.index).amount.sum())\n",
    "saas.head()"
   ]
  },
  {
   "cell_type": "code",
   "execution_count": 9,
   "id": "8cef4f37-50c5-4920-bad1-883e09c3c792",
   "metadata": {},
   "outputs": [],
   "source": [
    "# Now we can split the data. We'll use human based splitting.\n",
    "train = saas.loc[ : '2015']\n",
    "validate = saas['2016' : '2016']\n",
    "test = saas['2017' : ]"
   ]
  },
  {
   "cell_type": "code",
   "execution_count": 10,
   "id": "f7696e49-3b0d-46eb-9cd0-154b74c8cc63",
   "metadata": {},
   "outputs": [
    {
     "data": {
      "image/png": "[encoded data removed]",
      "text/plain": [
       "<Figure size 432x288 with 1 Axes>"
      ]
     },
     "metadata": {
      "needs_background": "light"
     },
     "output_type": "display_data"
    }
   ],
   "source": [
    "train.amount.plot()\n",
    "validate.amount.plot()\n",
    "test.amount.plot();"
   ]
  },
  {
   "cell_type": "markdown",
   "id": "5c8dcdad-7605-4e2b-b5e3-f1d968dc71dd",
   "metadata": {},
   "source": [
    "### 2\n",
    "\n",
    "Forecast, plot and evaluate using each of the 4 parametric based methods we discussed:\n",
    "\n",
    "- Simple Average"
   ]
  },
  {
   "cell_type": "code",
   "execution_count": 11,
   "id": "81386bcd-5470-4bdf-872f-bec4031ee74c",
   "metadata": {},
   "outputs": [
    {
     "data": {
      "text/plain": [
       "45568.54"
      ]
     },
     "execution_count": 11,
     "metadata": {},
     "output_type": "execute_result"
    }
   ],
   "source": [
    "# Let's get the average total amount for all months\n",
    "simple_avg = round(train.amount.mean(), 2)\n",
    "simple_avg"
   ]
  },
  {
   "cell_type": "code",
   "execution_count": 12,
   "id": "cb8756af-52d8-459c-b3fc-631dbbaef256",
   "metadata": {},
   "outputs": [],
   "source": [
    "predictions = make_static_predictions('amount', simple_avg, validate.index)"
   ]
  },
  {
   "cell_type": "code",
   "execution_count": 13,
   "id": "848b0e53-e5c0-40b7-bffa-49c48f0eb768",
   "metadata": {},
   "outputs": [
    {
     "data": {
      "text/html": [
       "<div>\n",
       "<style scoped>\n",
       "    .dataframe tbody tr th:only-of-type {\n",
       "        vertical-align: middle;\n",
       "    }\n",
       "\n",
       "    .dataframe tbody tr th {\n",
       "        vertical-align: top;\n",
       "    }\n",
       "\n",
       "    .dataframe thead th {\n",
       "        text-align: right;\n",
       "    }\n",
       "</style>\n",
       "<table border=\"1\" class=\"dataframe\">\n",
       "  <thead>\n",
       "    <tr style=\"text-align: right;\">\n",
       "      <th></th>\n",
       "      <th>amount</th>\n",
       "    </tr>\n",
       "    <tr>\n",
       "      <th>month_invoiced</th>\n",
       "      <th></th>\n",
       "    </tr>\n",
       "  </thead>\n",
       "  <tbody>\n",
       "    <tr>\n",
       "      <th>2016-01-31</th>\n",
       "      <td>45568.54</td>\n",
       "    </tr>\n",
       "    <tr>\n",
       "      <th>2016-02-29</th>\n",
       "      <td>45568.54</td>\n",
       "    </tr>\n",
       "    <tr>\n",
       "      <th>2016-03-31</th>\n",
       "      <td>45568.54</td>\n",
       "    </tr>\n",
       "    <tr>\n",
       "      <th>2016-04-30</th>\n",
       "      <td>45568.54</td>\n",
       "    </tr>\n",
       "    <tr>\n",
       "      <th>2016-05-31</th>\n",
       "      <td>45568.54</td>\n",
       "    </tr>\n",
       "  </tbody>\n",
       "</table>\n",
       "</div>"
      ],
      "text/plain": [
       "                  amount\n",
       "month_invoiced          \n",
       "2016-01-31      45568.54\n",
       "2016-02-29      45568.54\n",
       "2016-03-31      45568.54\n",
       "2016-04-30      45568.54\n",
       "2016-05-31      45568.54"
      ]
     },
     "execution_count": 13,
     "metadata": {},
     "output_type": "execute_result"
    }
   ],
   "source": [
    "predictions.head()"
   ]
  },
  {
   "cell_type": "code",
   "execution_count": 14,
   "id": "de2e56b8-2148-40d1-beb8-35ac78bad8e1",
   "metadata": {},
   "outputs": [
    {
     "data": {
      "text/html": [
       "<div>\n",
       "<style scoped>\n",
       "    .dataframe tbody tr th:only-of-type {\n",
       "        vertical-align: middle;\n",
       "    }\n",
       "\n",
       "    .dataframe tbody tr th {\n",
       "        vertical-align: top;\n",
       "    }\n",
       "\n",
       "    .dataframe thead th {\n",
       "        text-align: right;\n",
       "    }\n",
       "</style>\n",
       "<table border=\"1\" class=\"dataframe\">\n",
       "  <thead>\n",
       "    <tr style=\"text-align: right;\">\n",
       "      <th></th>\n",
       "      <th>model_type</th>\n",
       "      <th>target</th>\n",
       "      <th>rmse</th>\n",
       "    </tr>\n",
       "  </thead>\n",
       "  <tbody>\n",
       "    <tr>\n",
       "      <th>0</th>\n",
       "      <td>Simple Average</td>\n",
       "      <td>amount</td>\n",
       "      <td>7063.0</td>\n",
       "    </tr>\n",
       "  </tbody>\n",
       "</table>\n",
       "</div>"
      ],
      "text/plain": [
       "       model_type  target    rmse\n",
       "0  Simple Average  amount  7063.0"
      ]
     },
     "execution_count": 14,
     "metadata": {},
     "output_type": "execute_result"
    }
   ],
   "source": [
    "eval_df = append_eval_df('Simple Average', 'amount', validate, predictions)\n",
    "eval_df"
   ]
  },
  {
   "cell_type": "code",
   "execution_count": 15,
   "id": "04f7acdd-aaf1-4d47-9bd5-68e131eb37fa",
   "metadata": {},
   "outputs": [
    {
     "data": {
      "image/png": "[encoded data removed]",
      "text/plain": [
       "<Figure size 864x288 with 1 Axes>"
      ]
     },
     "metadata": {
      "needs_background": "light"
     },
     "output_type": "display_data"
    }
   ],
   "source": [
    "plot_forecast('amount', train, validate, predictions)"
   ]
  },
  {
   "cell_type": "markdown",
   "id": "af42f646-f498-428e-bf45-deb1f31ec33b",
   "metadata": {},
   "source": [
    "- Moving Average"
   ]
  },
  {
   "cell_type": "code",
   "execution_count": 16,
   "id": "2351d638-9555-4c33-b2ed-fc92128b1a24",
   "metadata": {},
   "outputs": [
    {
     "data": {
      "text/plain": [
       "51403.33"
      ]
     },
     "execution_count": 16,
     "metadata": {},
     "output_type": "execute_result"
    }
   ],
   "source": [
    "# Let's do a 3 month rolling average\n",
    "rolling_avg = round(train.amount.rolling(3).mean()[-1], 2)\n",
    "rolling_avg"
   ]
  },
  {
   "cell_type": "code",
   "execution_count": 17,
   "id": "36db3c23-b1fe-4f1c-a7e7-707f11f8c42f",
   "metadata": {},
   "outputs": [],
   "source": [
    "predictions = make_static_predictions('amount', rolling_avg, validate.index)"
   ]
  },
  {
   "cell_type": "code",
   "execution_count": 18,
   "id": "ff9f497d-34fa-4d78-bf05-a7961cd269be",
   "metadata": {},
   "outputs": [
    {
     "data": {
      "text/html": [
       "<div>\n",
       "<style scoped>\n",
       "    .dataframe tbody tr th:only-of-type {\n",
       "        vertical-align: middle;\n",
       "    }\n",
       "\n",
       "    .dataframe tbody tr th {\n",
       "        vertical-align: top;\n",
       "    }\n",
       "\n",
       "    .dataframe thead th {\n",
       "        text-align: right;\n",
       "    }\n",
       "</style>\n",
       "<table border=\"1\" class=\"dataframe\">\n",
       "  <thead>\n",
       "    <tr style=\"text-align: right;\">\n",
       "      <th></th>\n",
       "      <th>amount</th>\n",
       "    </tr>\n",
       "    <tr>\n",
       "      <th>month_invoiced</th>\n",
       "      <th></th>\n",
       "    </tr>\n",
       "  </thead>\n",
       "  <tbody>\n",
       "    <tr>\n",
       "      <th>2016-01-31</th>\n",
       "      <td>51403.33</td>\n",
       "    </tr>\n",
       "    <tr>\n",
       "      <th>2016-02-29</th>\n",
       "      <td>51403.33</td>\n",
       "    </tr>\n",
       "    <tr>\n",
       "      <th>2016-03-31</th>\n",
       "      <td>51403.33</td>\n",
       "    </tr>\n",
       "    <tr>\n",
       "      <th>2016-04-30</th>\n",
       "      <td>51403.33</td>\n",
       "    </tr>\n",
       "    <tr>\n",
       "      <th>2016-05-31</th>\n",
       "      <td>51403.33</td>\n",
       "    </tr>\n",
       "  </tbody>\n",
       "</table>\n",
       "</div>"
      ],
      "text/plain": [
       "                  amount\n",
       "month_invoiced          \n",
       "2016-01-31      51403.33\n",
       "2016-02-29      51403.33\n",
       "2016-03-31      51403.33\n",
       "2016-04-30      51403.33\n",
       "2016-05-31      51403.33"
      ]
     },
     "execution_count": 18,
     "metadata": {},
     "output_type": "execute_result"
    }
   ],
   "source": [
    "predictions.head()"
   ]
  },
  {
   "cell_type": "code",
   "execution_count": 19,
   "id": "ae93919d-04a8-4277-be52-e35723125dc4",
   "metadata": {},
   "outputs": [
    {
     "data": {
      "text/html": [
       "<div>\n",
       "<style scoped>\n",
       "    .dataframe tbody tr th:only-of-type {\n",
       "        vertical-align: middle;\n",
       "    }\n",
       "\n",
       "    .dataframe tbody tr th {\n",
       "        vertical-align: top;\n",
       "    }\n",
       "\n",
       "    .dataframe thead th {\n",
       "        text-align: right;\n",
       "    }\n",
       "</style>\n",
       "<table border=\"1\" class=\"dataframe\">\n",
       "  <thead>\n",
       "    <tr style=\"text-align: right;\">\n",
       "      <th></th>\n",
       "      <th>model_type</th>\n",
       "      <th>target</th>\n",
       "      <th>rmse</th>\n",
       "    </tr>\n",
       "  </thead>\n",
       "  <tbody>\n",
       "    <tr>\n",
       "      <th>0</th>\n",
       "      <td>Simple Average</td>\n",
       "      <td>amount</td>\n",
       "      <td>7063.0</td>\n",
       "    </tr>\n",
       "    <tr>\n",
       "      <th>1</th>\n",
       "      <td>Moving Average</td>\n",
       "      <td>amount</td>\n",
       "      <td>1315.0</td>\n",
       "    </tr>\n",
       "  </tbody>\n",
       "</table>\n",
       "</div>"
      ],
      "text/plain": [
       "       model_type  target    rmse\n",
       "0  Simple Average  amount  7063.0\n",
       "1  Moving Average  amount  1315.0"
      ]
     },
     "execution_count": 19,
     "metadata": {},
     "output_type": "execute_result"
    }
   ],
   "source": [
    "eval_df = append_eval_df('Moving Average', 'amount', validate, predictions, eval_df)\n",
    "eval_df"
   ]
  },
  {
   "cell_type": "code",
   "execution_count": 20,
   "id": "e21b16dd-bfc8-45a0-b9bd-688970b48501",
   "metadata": {},
   "outputs": [
    {
     "data": {
      "image/png": "[encoded data removed]",
      "text/plain": [
       "<Figure size 864x288 with 1 Axes>"
      ]
     },
     "metadata": {
      "needs_background": "light"
     },
     "output_type": "display_data"
    }
   ],
   "source": [
    "plot_forecast('amount', train, validate, predictions)"
   ]
  },
  {
   "cell_type": "markdown",
   "id": "d073bba0-b214-436a-9c56-90d85a1631a3",
   "metadata": {},
   "source": [
    "- Holt's Linear Trend Model"
   ]
  },
  {
   "cell_type": "code",
   "execution_count": 21,
   "id": "cb578a7e-5e1e-48b2-bad2-d35911a64d7e",
   "metadata": {},
   "outputs": [
    {
     "name": "stderr",
     "output_type": "stream",
     "text": [
      "/usr/local/anaconda3/lib/python3.9/site-packages/statsmodels/tsa/base/tsa_model.py:524: ValueWarning: No frequency information was provided, so inferred frequency M will be used.\n",
      "  warnings.warn('No frequency information was'\n",
      "/usr/local/anaconda3/lib/python3.9/site-packages/statsmodels/tsa/holtwinters/model.py:427: FutureWarning: After 0.13 initialization must be handled at model creation\n",
      "  warnings.warn(\n"
     ]
    }
   ],
   "source": [
    "model = Holt(train.amount, damped_trend = True)"
   ]
  },
  {
   "cell_type": "code",
   "execution_count": 22,
   "id": "39814a87-efa3-4508-93d4-f88282a0eec8",
   "metadata": {},
   "outputs": [],
   "source": [
    "model = model.fit()"
   ]
  },
  {
   "cell_type": "code",
   "execution_count": 23,
   "id": "0f9b3340-273e-4819-b56e-7e3c7f8fdfdb",
   "metadata": {},
   "outputs": [
    {
     "name": "stderr",
     "output_type": "stream",
     "text": [
      "/usr/local/anaconda3/lib/python3.9/site-packages/statsmodels/tsa/base/tsa_model.py:132: FutureWarning: The 'freq' argument in Timestamp is deprecated and will be removed in a future version.\n",
      "  date_key = Timestamp(key, freq=base_index.freq)\n"
     ]
    }
   ],
   "source": [
    "predictions = model.predict(\n",
    "    start = validate.index[0],\n",
    "    end = validate.index[-1]\n",
    ")"
   ]
  },
  {
   "cell_type": "code",
   "execution_count": 24,
   "id": "60f014ef-5f25-42f6-b4b5-c5ce74d139cc",
   "metadata": {},
   "outputs": [
    {
     "data": {
      "text/html": [
       "<div>\n",
       "<style scoped>\n",
       "    .dataframe tbody tr th:only-of-type {\n",
       "        vertical-align: middle;\n",
       "    }\n",
       "\n",
       "    .dataframe tbody tr th {\n",
       "        vertical-align: top;\n",
       "    }\n",
       "\n",
       "    .dataframe thead th {\n",
       "        text-align: right;\n",
       "    }\n",
       "</style>\n",
       "<table border=\"1\" class=\"dataframe\">\n",
       "  <thead>\n",
       "    <tr style=\"text-align: right;\">\n",
       "      <th></th>\n",
       "      <th>amount</th>\n",
       "    </tr>\n",
       "  </thead>\n",
       "  <tbody>\n",
       "    <tr>\n",
       "      <th>2016-01-31</th>\n",
       "      <td>51748.617374</td>\n",
       "    </tr>\n",
       "    <tr>\n",
       "      <th>2016-02-29</th>\n",
       "      <td>51961.994983</td>\n",
       "    </tr>\n",
       "    <tr>\n",
       "      <th>2016-03-31</th>\n",
       "      <td>52173.345509</td>\n",
       "    </tr>\n",
       "    <tr>\n",
       "      <th>2016-04-30</th>\n",
       "      <td>52382.688208</td>\n",
       "    </tr>\n",
       "    <tr>\n",
       "      <th>2016-05-31</th>\n",
       "      <td>52590.042155</td>\n",
       "    </tr>\n",
       "  </tbody>\n",
       "</table>\n",
       "</div>"
      ],
      "text/plain": [
       "                  amount\n",
       "2016-01-31  51748.617374\n",
       "2016-02-29  51961.994983\n",
       "2016-03-31  52173.345509\n",
       "2016-04-30  52382.688208\n",
       "2016-05-31  52590.042155"
      ]
     },
     "execution_count": 24,
     "metadata": {},
     "output_type": "execute_result"
    }
   ],
   "source": [
    "predictions = pd.DataFrame(predictions, columns = ['amount'], index = predictions.index)\n",
    "predictions.head()"
   ]
  },
  {
   "cell_type": "code",
   "execution_count": 25,
   "id": "07ae9d99-a12d-4190-9e2d-0959ee4f6bc0",
   "metadata": {},
   "outputs": [
    {
     "data": {
      "text/html": [
       "<div>\n",
       "<style scoped>\n",
       "    .dataframe tbody tr th:only-of-type {\n",
       "        vertical-align: middle;\n",
       "    }\n",
       "\n",
       "    .dataframe tbody tr th {\n",
       "        vertical-align: top;\n",
       "    }\n",
       "\n",
       "    .dataframe thead th {\n",
       "        text-align: right;\n",
       "    }\n",
       "</style>\n",
       "<table border=\"1\" class=\"dataframe\">\n",
       "  <thead>\n",
       "    <tr style=\"text-align: right;\">\n",
       "      <th></th>\n",
       "      <th>model_type</th>\n",
       "      <th>target</th>\n",
       "      <th>rmse</th>\n",
       "    </tr>\n",
       "  </thead>\n",
       "  <tbody>\n",
       "    <tr>\n",
       "      <th>0</th>\n",
       "      <td>Simple Average</td>\n",
       "      <td>amount</td>\n",
       "      <td>7063.0</td>\n",
       "    </tr>\n",
       "    <tr>\n",
       "      <th>1</th>\n",
       "      <td>Moving Average</td>\n",
       "      <td>amount</td>\n",
       "      <td>1315.0</td>\n",
       "    </tr>\n",
       "    <tr>\n",
       "      <th>2</th>\n",
       "      <td>Holt</td>\n",
       "      <td>amount</td>\n",
       "      <td>346.0</td>\n",
       "    </tr>\n",
       "  </tbody>\n",
       "</table>\n",
       "</div>"
      ],
      "text/plain": [
       "       model_type  target    rmse\n",
       "0  Simple Average  amount  7063.0\n",
       "1  Moving Average  amount  1315.0\n",
       "2            Holt  amount   346.0"
      ]
     },
     "execution_count": 25,
     "metadata": {},
     "output_type": "execute_result"
    }
   ],
   "source": [
    "eval_df = append_eval_df('Holt', 'amount', validate, predictions, eval_df)\n",
    "eval_df"
   ]
  },
  {
   "cell_type": "code",
   "execution_count": 26,
   "id": "e1f277a3-f426-4511-92e1-14a3b6a4a978",
   "metadata": {},
   "outputs": [
    {
     "data": {
      "image/png": "[encoded data removed]",
      "text/plain": [
       "<Figure size 864x288 with 1 Axes>"
      ]
     },
     "metadata": {
      "needs_background": "light"
     },
     "output_type": "display_data"
    }
   ],
   "source": [
    "plot_forecast('amount', train, validate, predictions)"
   ]
  },
  {
   "cell_type": "markdown",
   "id": "d4975d3d-a08e-457c-85ad-a89a4ab65bb4",
   "metadata": {},
   "source": [
    "- Based on previous year/month/etc., this is up to you."
   ]
  },
  {
   "cell_type": "code",
   "execution_count": 27,
   "id": "d42e1b2d-5f28-4fa2-b54a-3b5c1e16b03e",
   "metadata": {},
   "outputs": [
    {
     "data": {
      "text/html": [
       "<div>\n",
       "<style scoped>\n",
       "    .dataframe tbody tr th:only-of-type {\n",
       "        vertical-align: middle;\n",
       "    }\n",
       "\n",
       "    .dataframe tbody tr th {\n",
       "        vertical-align: top;\n",
       "    }\n",
       "\n",
       "    .dataframe thead th {\n",
       "        text-align: right;\n",
       "    }\n",
       "</style>\n",
       "<table border=\"1\" class=\"dataframe\">\n",
       "  <thead>\n",
       "    <tr style=\"text-align: right;\">\n",
       "      <th></th>\n",
       "      <th>amount</th>\n",
       "    </tr>\n",
       "    <tr>\n",
       "      <th>month_invoiced</th>\n",
       "      <th></th>\n",
       "    </tr>\n",
       "  </thead>\n",
       "  <tbody>\n",
       "    <tr>\n",
       "      <th>2015-01-31</th>\n",
       "      <td>55033.75</td>\n",
       "    </tr>\n",
       "    <tr>\n",
       "      <th>2015-02-28</th>\n",
       "      <td>55608.75</td>\n",
       "    </tr>\n",
       "    <tr>\n",
       "      <th>2015-03-31</th>\n",
       "      <td>56113.75</td>\n",
       "    </tr>\n",
       "    <tr>\n",
       "      <th>2015-04-30</th>\n",
       "      <td>56648.75</td>\n",
       "    </tr>\n",
       "    <tr>\n",
       "      <th>2015-05-31</th>\n",
       "      <td>57113.75</td>\n",
       "    </tr>\n",
       "  </tbody>\n",
       "</table>\n",
       "</div>"
      ],
      "text/plain": [
       "                  amount\n",
       "month_invoiced          \n",
       "2015-01-31      55033.75\n",
       "2015-02-28      55608.75\n",
       "2015-03-31      56113.75\n",
       "2015-04-30      56648.75\n",
       "2015-05-31      57113.75"
      ]
     },
     "execution_count": 27,
     "metadata": {},
     "output_type": "execute_result"
    }
   ],
   "source": [
    "# We'll use the previous year\n",
    "predictions = train.loc['2015'] + train.diff(12).mean()\n",
    "predictions.head()"
   ]
  },
  {
   "cell_type": "code",
   "execution_count": 28,
   "id": "4fd5e1c1-59ba-48af-83f4-76a32d8bb415",
   "metadata": {},
   "outputs": [],
   "source": [
    "predictions.index = validate.index"
   ]
  },
  {
   "cell_type": "code",
   "execution_count": 29,
   "id": "ef16aa79-1eca-4e9a-aae7-63eddf699836",
   "metadata": {},
   "outputs": [
    {
     "data": {
      "text/html": [
       "<div>\n",
       "<style scoped>\n",
       "    .dataframe tbody tr th:only-of-type {\n",
       "        vertical-align: middle;\n",
       "    }\n",
       "\n",
       "    .dataframe tbody tr th {\n",
       "        vertical-align: top;\n",
       "    }\n",
       "\n",
       "    .dataframe thead th {\n",
       "        text-align: right;\n",
       "    }\n",
       "</style>\n",
       "<table border=\"1\" class=\"dataframe\">\n",
       "  <thead>\n",
       "    <tr style=\"text-align: right;\">\n",
       "      <th></th>\n",
       "      <th>model_type</th>\n",
       "      <th>target</th>\n",
       "      <th>rmse</th>\n",
       "    </tr>\n",
       "  </thead>\n",
       "  <tbody>\n",
       "    <tr>\n",
       "      <th>0</th>\n",
       "      <td>Simple Average</td>\n",
       "      <td>amount</td>\n",
       "      <td>7063.0</td>\n",
       "    </tr>\n",
       "    <tr>\n",
       "      <th>1</th>\n",
       "      <td>Moving Average</td>\n",
       "      <td>amount</td>\n",
       "      <td>1315.0</td>\n",
       "    </tr>\n",
       "    <tr>\n",
       "      <th>2</th>\n",
       "      <td>Holt</td>\n",
       "      <td>amount</td>\n",
       "      <td>346.0</td>\n",
       "    </tr>\n",
       "    <tr>\n",
       "      <th>3</th>\n",
       "      <td>Previous Cycle</td>\n",
       "      <td>amount</td>\n",
       "      <td>5192.0</td>\n",
       "    </tr>\n",
       "  </tbody>\n",
       "</table>\n",
       "</div>"
      ],
      "text/plain": [
       "       model_type  target    rmse\n",
       "0  Simple Average  amount  7063.0\n",
       "1  Moving Average  amount  1315.0\n",
       "2            Holt  amount   346.0\n",
       "3  Previous Cycle  amount  5192.0"
      ]
     },
     "execution_count": 29,
     "metadata": {},
     "output_type": "execute_result"
    }
   ],
   "source": [
    "eval_df = append_eval_df('Previous Cycle', 'amount', validate, predictions, eval_df)\n",
    "eval_df"
   ]
  },
  {
   "cell_type": "code",
   "execution_count": 30,
   "id": "37ee0815-6a5d-48ef-93c4-545067551c9f",
   "metadata": {},
   "outputs": [
    {
     "data": {
      "image/png": "[encoded data removed]",
      "text/plain": [
       "<Figure size 864x288 with 1 Axes>"
      ]
     },
     "metadata": {
      "needs_background": "light"
     },
     "output_type": "display_data"
    }
   ],
   "source": [
    "plot_forecast('amount', train, validate, predictions)"
   ]
  },
  {
   "cell_type": "markdown",
   "id": "f5cad185-ba1a-4836-ad68-639810350fb9",
   "metadata": {},
   "source": [
    "## Optional: Using store item demand"
   ]
  },
  {
   "cell_type": "code",
   "execution_count": 31,
   "id": "93601d67-d147-4cf4-8428-919d4dc777c9",
   "metadata": {},
   "outputs": [
    {
     "name": "stdout",
     "output_type": "stream",
     "text": [
      "Reading from .csv file.\n",
      "Reading from .csv file.\n",
      "Reading from .csv file.\n"
     ]
    },
    {
     "data": {
      "text/plain": [
       "(913000, 16)"
      ]
     },
     "execution_count": 31,
     "metadata": {},
     "output_type": "execute_result"
    }
   ],
   "source": [
    "store_sales = prepare_data(get_store_sales_data())\n",
    "store_sales.shape"
   ]
  },
  {
   "cell_type": "code",
   "execution_count": 32,
   "id": "af4ab486-c016-46dc-9d42-dfea80d415a0",
   "metadata": {},
   "outputs": [
    {
     "name": "stdout",
     "output_type": "stream",
     "text": [
      "<class 'pandas.core.frame.DataFrame'>\n",
      "DatetimeIndex: 913000 entries, 2013-01-01 to 2017-12-31\n",
      "Data columns (total 16 columns):\n",
      " #   Column         Non-Null Count   Dtype  \n",
      "---  ------         --------------   -----  \n",
      " 0   item           913000 non-null  int64  \n",
      " 1   sale_amount    913000 non-null  float64\n",
      " 2   sale_id        913000 non-null  int64  \n",
      " 3   store          913000 non-null  int64  \n",
      " 4   item_brand     913000 non-null  object \n",
      " 5   item_name      913000 non-null  object \n",
      " 6   item_price     913000 non-null  float64\n",
      " 7   item_upc12     913000 non-null  int64  \n",
      " 8   item_upc14     913000 non-null  int64  \n",
      " 9   store_address  913000 non-null  object \n",
      " 10  store_city     913000 non-null  object \n",
      " 11  store_state    913000 non-null  object \n",
      " 12  store_zipcode  913000 non-null  int64  \n",
      " 13  month          913000 non-null  object \n",
      " 14  weekday        913000 non-null  object \n",
      " 15  sales_total    913000 non-null  float64\n",
      "dtypes: float64(3), int64(6), object(7)\n",
      "memory usage: 118.4+ MB\n"
     ]
    }
   ],
   "source": [
    "store_sales.info()"
   ]
  },
  {
   "cell_type": "code",
   "execution_count": 33,
   "id": "2fd76ad9-619b-4436-a6c0-116792ee6a4c",
   "metadata": {},
   "outputs": [
    {
     "data": {
      "text/plain": [
       "array([ 1,  3, 10,  9,  2,  4,  6,  8,  7,  5])"
      ]
     },
     "execution_count": 33,
     "metadata": {},
     "output_type": "execute_result"
    }
   ],
   "source": [
    "store_sales.store.unique()"
   ]
  },
  {
   "cell_type": "code",
   "execution_count": 34,
   "id": "f0fbc7bd-3a9f-484e-9f00-efc249c1ea76",
   "metadata": {},
   "outputs": [
    {
     "name": "stderr",
     "output_type": "stream",
     "text": [
      "Importing plotly failed. Interactive plots will not work.\n"
     ]
    }
   ],
   "source": [
    "from prophet import Prophet"
   ]
  },
  {
   "cell_type": "markdown",
   "id": "dbf3f3d6-03d7-4363-943e-dd6f39062832",
   "metadata": {},
   "source": [
    "### 1\n",
    "\n",
    "Predict 2018 total monthly sales for a single store and/or item by creating a model with prophet."
   ]
  },
  {
   "cell_type": "code",
   "execution_count": 46,
   "id": "f6b37d49-c308-4b3e-90bf-1b18d64d3147",
   "metadata": {},
   "outputs": [],
   "source": [
    "# We'll predict sales for store 1\n",
    "mask = store_sales.store == 1\n",
    "store_1_sales = store_sales[mask]\n",
    "store_1_daily_sales = pd.DataFrame(store_1_sales.resample('D').sale_amount.sum())"
   ]
  },
  {
   "cell_type": "code",
   "execution_count": 50,
   "id": "aa7602fc-5f36-455a-8438-835d04fdaf06",
   "metadata": {},
   "outputs": [
    {
     "data": {
      "image/png": "[encoded data removed]",
      "text/plain": [
       "<Figure size 432x288 with 1 Axes>"
      ]
     },
     "metadata": {
      "needs_background": "light"
     },
     "output_type": "display_data"
    }
   ],
   "source": [
    "store_1_daily_sales.sale_amount.plot();"
   ]
  },
  {
   "cell_type": "code",
   "execution_count": 74,
   "id": "ac0386af-04ab-4547-acd1-ff627b1732d9",
   "metadata": {},
   "outputs": [],
   "source": [
    "# We'll split by year\n",
    "train = store_1_daily_sales.loc[ : '2015']\n",
    "validate = store_1_daily_sales[store_1_daily_sales.index != '2016-02-29'].loc['2016']\n",
    "test = store_1_daily_sales.loc['2017']"
   ]
  },
  {
   "cell_type": "code",
   "execution_count": 75,
   "id": "cd4fd004-4b99-4c11-9446-57aee0459baa",
   "metadata": {},
   "outputs": [
    {
     "data": {
      "image/png": "[encoded data removed]",
      "text/plain": [
       "<Figure size 432x288 with 1 Axes>"
      ]
     },
     "metadata": {
      "needs_background": "light"
     },
     "output_type": "display_data"
    }
   ],
   "source": [
    "train.sale_amount.plot()\n",
    "validate.sale_amount.plot()\n",
    "test.sale_amount.plot();"
   ]
  },
  {
   "cell_type": "code",
   "execution_count": 76,
   "id": "d8df0598-05d4-485a-9c70-64e6fa7885e2",
   "metadata": {},
   "outputs": [
    {
     "name": "stderr",
     "output_type": "stream",
     "text": [
      "INFO:prophet:Disabling daily seasonality. Run prophet with daily_seasonality=True to override this.\n"
     ]
    },
    {
     "name": "stdout",
     "output_type": "stream",
     "text": [
      "Initial log joint probability = -29.3328\n",
      "    Iter      log prob        ||dx||      ||grad||       alpha      alpha0  # evals  Notes \n",
      "      99       3328.38    0.00358154        656.87     0.08441           1      121   \n",
      "    Iter      log prob        ||dx||      ||grad||       alpha      alpha0  # evals  Notes \n",
      "     138       3330.62   6.05332e-05        120.58   2.976e-07       0.001      202  LS failed, Hessian reset \n",
      "     194       3331.93   0.000110524       194.316   7.734e-07       0.001      313  LS failed, Hessian reset \n",
      "     199       3332.07    0.00335717       170.494           1           1      318   \n",
      "    Iter      log prob        ||dx||      ||grad||       alpha      alpha0  # evals  Notes \n",
      "     299       3333.39    0.00244454        268.63           1           1      442   \n",
      "    Iter      log prob        ||dx||      ||grad||       alpha      alpha0  # evals  Notes \n",
      "     335       3333.53   3.12344e-05       71.6417   4.754e-07       0.001      523  LS failed, Hessian reset \n",
      "     399       3333.64   3.84884e-07  "
     ]
    },
    {
     "data": {
      "text/plain": [
       "<prophet.forecaster.Prophet at 0x7f989aeb31c0>"
      ]
     },
     "execution_count": 76,
     "metadata": {},
     "output_type": "execute_result"
    },
    {
     "name": "stdout",
     "output_type": "stream",
     "text": [
      "     61.5186      0.2029      0.2029      609   \n",
      "    Iter      log prob        ||dx||      ||grad||       alpha      alpha0  # evals  Notes \n",
      "     407       3333.64   1.31611e-07       71.9056      0.3264      0.3264      621   \n",
      "Optimization terminated normally: \n",
      "  Convergence detected: relative gradient magnitude is below tolerance\n"
     ]
    }
   ],
   "source": [
    "model = Prophet()\n",
    "model.fit(pd.DataFrame({\n",
    "    'ds' : train.index,\n",
    "    'y' : train.sale_amount\n",
    "}))"
   ]
  },
  {
   "cell_type": "code",
   "execution_count": 80,
   "id": "ee61e6f8-b908-4981-b762-57228e797975",
   "metadata": {},
   "outputs": [
    {
     "data": {
      "text/html": [
       "<div>\n",
       "<style scoped>\n",
       "    .dataframe tbody tr th:only-of-type {\n",
       "        vertical-align: middle;\n",
       "    }\n",
       "\n",
       "    .dataframe tbody tr th {\n",
       "        vertical-align: top;\n",
       "    }\n",
       "\n",
       "    .dataframe thead th {\n",
       "        text-align: right;\n",
       "    }\n",
       "</style>\n",
       "<table border=\"1\" class=\"dataframe\">\n",
       "  <thead>\n",
       "    <tr style=\"text-align: right;\">\n",
       "      <th></th>\n",
       "      <th>sale_amount</th>\n",
       "    </tr>\n",
       "    <tr>\n",
       "      <th>ds</th>\n",
       "      <th></th>\n",
       "    </tr>\n",
       "  </thead>\n",
       "  <tbody>\n",
       "    <tr>\n",
       "      <th>2013-01-01</th>\n",
       "      <td>1186.444965</td>\n",
       "    </tr>\n",
       "    <tr>\n",
       "      <th>2013-01-02</th>\n",
       "      <td>1196.006001</td>\n",
       "    </tr>\n",
       "    <tr>\n",
       "      <th>2013-01-03</th>\n",
       "      <td>1327.876399</td>\n",
       "    </tr>\n",
       "    <tr>\n",
       "      <th>2013-01-04</th>\n",
       "      <td>1468.131475</td>\n",
       "    </tr>\n",
       "    <tr>\n",
       "      <th>2013-01-05</th>\n",
       "      <td>1620.274115</td>\n",
       "    </tr>\n",
       "  </tbody>\n",
       "</table>\n",
       "</div>"
      ],
      "text/plain": [
       "            sale_amount\n",
       "ds                     \n",
       "2013-01-01  1186.444965\n",
       "2013-01-02  1196.006001\n",
       "2013-01-03  1327.876399\n",
       "2013-01-04  1468.131475\n",
       "2013-01-05  1620.274115"
      ]
     },
     "execution_count": 80,
     "metadata": {},
     "output_type": "execute_result"
    }
   ],
   "source": [
    "future = model.make_future_dataframe(365)\n",
    "results = model.predict(future)\n",
    "predictions = results[['ds', 'yhat']].set_index('ds')\n",
    "predictions.columns = ['sale_amount']\n",
    "predictions.head()"
   ]
  },
  {
   "cell_type": "code",
   "execution_count": 81,
   "id": "3baf7dd3-d8f5-4a6c-b42a-3192a34383e3",
   "metadata": {},
   "outputs": [
    {
     "data": {
      "image/png": "[encoded data removed]",
      "text/plain": [
       "<Figure size 864x288 with 1 Axes>"
      ]
     },
     "metadata": {
      "needs_background": "light"
     },
     "output_type": "display_data"
    }
   ],
   "source": [
    "plot_forecast('sale_amount', train, validate, predictions.loc['2016'])"
   ]
  },
  {
   "cell_type": "code",
   "execution_count": 82,
   "id": "9bc978ec-35a9-44ef-b0e4-a6cfc7718d4f",
   "metadata": {},
   "outputs": [
    {
     "data": {
      "text/plain": [
       "399.0"
      ]
     },
     "execution_count": 82,
     "metadata": {},
     "output_type": "execute_result"
    }
   ],
   "source": [
    "evaluate('sale_amount', validate, predictions.loc['2016'])"
   ]
  },
  {
   "cell_type": "markdown",
   "id": "a1667091-eed2-41de-afd2-b32543eb61f8",
   "metadata": {},
   "source": [
    "### 2\n",
    "\n",
    "Return a dataframe with the month, store_id, y-hat, and the confidence intervals (y-hat lower, y-hat upper)."
   ]
  },
  {
   "cell_type": "code",
   "execution_count": 84,
   "id": "8c566c72-1045-47c1-bdfe-c393582a965a",
   "metadata": {},
   "outputs": [
    {
     "data": {
      "text/html": [
       "<div>\n",
       "<style scoped>\n",
       "    .dataframe tbody tr th:only-of-type {\n",
       "        vertical-align: middle;\n",
       "    }\n",
       "\n",
       "    .dataframe tbody tr th {\n",
       "        vertical-align: top;\n",
       "    }\n",
       "\n",
       "    .dataframe thead th {\n",
       "        text-align: right;\n",
       "    }\n",
       "</style>\n",
       "<table border=\"1\" class=\"dataframe\">\n",
       "  <thead>\n",
       "    <tr style=\"text-align: right;\">\n",
       "      <th></th>\n",
       "      <th>yhat</th>\n",
       "      <th>yhat_lower</th>\n",
       "      <th>yhat_upper</th>\n",
       "    </tr>\n",
       "    <tr>\n",
       "      <th>ds</th>\n",
       "      <th></th>\n",
       "      <th></th>\n",
       "      <th></th>\n",
       "    </tr>\n",
       "  </thead>\n",
       "  <tbody>\n",
       "    <tr>\n",
       "      <th>2013-01-31</th>\n",
       "      <td>1328.171474</td>\n",
       "      <td>1196.274383</td>\n",
       "      <td>1461.790713</td>\n",
       "    </tr>\n",
       "    <tr>\n",
       "      <th>2013-02-28</th>\n",
       "      <td>1476.955210</td>\n",
       "      <td>1345.570566</td>\n",
       "      <td>1608.825994</td>\n",
       "    </tr>\n",
       "    <tr>\n",
       "      <th>2013-03-31</th>\n",
       "      <td>1799.542441</td>\n",
       "      <td>1669.627907</td>\n",
       "      <td>1934.345912</td>\n",
       "    </tr>\n",
       "    <tr>\n",
       "      <th>2013-04-30</th>\n",
       "      <td>2049.814618</td>\n",
       "      <td>1917.498445</td>\n",
       "      <td>2181.810199</td>\n",
       "    </tr>\n",
       "    <tr>\n",
       "      <th>2013-05-31</th>\n",
       "      <td>2227.721772</td>\n",
       "      <td>2095.387707</td>\n",
       "      <td>2360.676863</td>\n",
       "    </tr>\n",
       "    <tr>\n",
       "      <th>2013-06-30</th>\n",
       "      <td>2400.246330</td>\n",
       "      <td>2266.241139</td>\n",
       "      <td>2531.427704</td>\n",
       "    </tr>\n",
       "    <tr>\n",
       "      <th>2013-07-31</th>\n",
       "      <td>2493.326157</td>\n",
       "      <td>2363.418574</td>\n",
       "      <td>2625.167437</td>\n",
       "    </tr>\n",
       "    <tr>\n",
       "      <th>2013-08-31</th>\n",
       "      <td>2240.570477</td>\n",
       "      <td>2109.880331</td>\n",
       "      <td>2372.687815</td>\n",
       "    </tr>\n",
       "    <tr>\n",
       "      <th>2013-09-30</th>\n",
       "      <td>2071.920319</td>\n",
       "      <td>1938.757305</td>\n",
       "      <td>2204.123240</td>\n",
       "    </tr>\n",
       "    <tr>\n",
       "      <th>2013-10-31</th>\n",
       "      <td>1937.586108</td>\n",
       "      <td>1804.391513</td>\n",
       "      <td>2068.621732</td>\n",
       "    </tr>\n",
       "    <tr>\n",
       "      <th>2013-11-30</th>\n",
       "      <td>2091.118167</td>\n",
       "      <td>1958.252040</td>\n",
       "      <td>2222.295204</td>\n",
       "    </tr>\n",
       "    <tr>\n",
       "      <th>2013-12-31</th>\n",
       "      <td>1514.787098</td>\n",
       "      <td>1384.064128</td>\n",
       "      <td>1648.752248</td>\n",
       "    </tr>\n",
       "    <tr>\n",
       "      <th>2014-01-31</th>\n",
       "      <td>1507.635334</td>\n",
       "      <td>1375.187066</td>\n",
       "      <td>1640.422403</td>\n",
       "    </tr>\n",
       "    <tr>\n",
       "      <th>2014-02-28</th>\n",
       "      <td>1701.554968</td>\n",
       "      <td>1571.058967</td>\n",
       "      <td>1832.448164</td>\n",
       "    </tr>\n",
       "    <tr>\n",
       "      <th>2014-03-31</th>\n",
       "      <td>2051.723801</td>\n",
       "      <td>1918.232890</td>\n",
       "      <td>2184.098921</td>\n",
       "    </tr>\n",
       "    <tr>\n",
       "      <th>2014-04-30</th>\n",
       "      <td>2368.320039</td>\n",
       "      <td>2237.444720</td>\n",
       "      <td>2501.142726</td>\n",
       "    </tr>\n",
       "    <tr>\n",
       "      <th>2014-05-31</th>\n",
       "      <td>2577.863689</td>\n",
       "      <td>2446.031111</td>\n",
       "      <td>2710.270745</td>\n",
       "    </tr>\n",
       "    <tr>\n",
       "      <th>2014-06-30</th>\n",
       "      <td>2729.317780</td>\n",
       "      <td>2597.832407</td>\n",
       "      <td>2860.867252</td>\n",
       "    </tr>\n",
       "    <tr>\n",
       "      <th>2014-07-31</th>\n",
       "      <td>2864.786141</td>\n",
       "      <td>2731.922447</td>\n",
       "      <td>2996.267603</td>\n",
       "    </tr>\n",
       "    <tr>\n",
       "      <th>2014-08-31</th>\n",
       "      <td>2599.205378</td>\n",
       "      <td>2466.276092</td>\n",
       "      <td>2731.725059</td>\n",
       "    </tr>\n",
       "    <tr>\n",
       "      <th>2014-09-30</th>\n",
       "      <td>2368.119239</td>\n",
       "      <td>2236.855211</td>\n",
       "      <td>2499.991021</td>\n",
       "    </tr>\n",
       "    <tr>\n",
       "      <th>2014-10-31</th>\n",
       "      <td>2225.499447</td>\n",
       "      <td>2092.581155</td>\n",
       "      <td>2356.304370</td>\n",
       "    </tr>\n",
       "    <tr>\n",
       "      <th>2014-11-30</th>\n",
       "      <td>2341.893630</td>\n",
       "      <td>2210.307909</td>\n",
       "      <td>2473.330825</td>\n",
       "    </tr>\n",
       "    <tr>\n",
       "      <th>2014-12-31</th>\n",
       "      <td>1697.222506</td>\n",
       "      <td>1565.725856</td>\n",
       "      <td>1831.583492</td>\n",
       "    </tr>\n",
       "    <tr>\n",
       "      <th>2015-01-31</th>\n",
       "      <td>1679.718582</td>\n",
       "      <td>1546.531939</td>\n",
       "      <td>1811.562935</td>\n",
       "    </tr>\n",
       "    <tr>\n",
       "      <th>2015-02-28</th>\n",
       "      <td>1824.828472</td>\n",
       "      <td>1693.416354</td>\n",
       "      <td>1956.671496</td>\n",
       "    </tr>\n",
       "    <tr>\n",
       "      <th>2015-03-31</th>\n",
       "      <td>2140.482792</td>\n",
       "      <td>2008.957602</td>\n",
       "      <td>2273.124889</td>\n",
       "    </tr>\n",
       "    <tr>\n",
       "      <th>2015-04-30</th>\n",
       "      <td>2467.200575</td>\n",
       "      <td>2334.975601</td>\n",
       "      <td>2599.843820</td>\n",
       "    </tr>\n",
       "    <tr>\n",
       "      <th>2015-05-31</th>\n",
       "      <td>2686.411952</td>\n",
       "      <td>2552.892232</td>\n",
       "      <td>2820.204126</td>\n",
       "    </tr>\n",
       "    <tr>\n",
       "      <th>2015-06-30</th>\n",
       "      <td>2807.111287</td>\n",
       "      <td>2672.231851</td>\n",
       "      <td>2939.387652</td>\n",
       "    </tr>\n",
       "    <tr>\n",
       "      <th>2015-07-31</th>\n",
       "      <td>2976.174469</td>\n",
       "      <td>2843.169035</td>\n",
       "      <td>3110.651366</td>\n",
       "    </tr>\n",
       "    <tr>\n",
       "      <th>2015-08-31</th>\n",
       "      <td>2686.849199</td>\n",
       "      <td>2552.884610</td>\n",
       "      <td>2818.537461</td>\n",
       "    </tr>\n",
       "    <tr>\n",
       "      <th>2015-09-30</th>\n",
       "      <td>2486.702930</td>\n",
       "      <td>2353.258394</td>\n",
       "      <td>2618.165025</td>\n",
       "    </tr>\n",
       "    <tr>\n",
       "      <th>2015-10-31</th>\n",
       "      <td>2349.580626</td>\n",
       "      <td>2216.704989</td>\n",
       "      <td>2482.096892</td>\n",
       "    </tr>\n",
       "    <tr>\n",
       "      <th>2015-11-30</th>\n",
       "      <td>2431.760484</td>\n",
       "      <td>2299.034615</td>\n",
       "      <td>2563.016875</td>\n",
       "    </tr>\n",
       "    <tr>\n",
       "      <th>2015-12-31</th>\n",
       "      <td>1828.985377</td>\n",
       "      <td>1695.043029</td>\n",
       "      <td>1960.992319</td>\n",
       "    </tr>\n",
       "    <tr>\n",
       "      <th>2016-01-31</th>\n",
       "      <td>1811.587633</td>\n",
       "      <td>1680.783906</td>\n",
       "      <td>1943.142352</td>\n",
       "    </tr>\n",
       "    <tr>\n",
       "      <th>2016-02-29</th>\n",
       "      <td>1931.540147</td>\n",
       "      <td>1799.582965</td>\n",
       "      <td>2063.095092</td>\n",
       "    </tr>\n",
       "    <tr>\n",
       "      <th>2016-03-31</th>\n",
       "      <td>2261.317735</td>\n",
       "      <td>2128.174405</td>\n",
       "      <td>2393.958697</td>\n",
       "    </tr>\n",
       "    <tr>\n",
       "      <th>2016-04-30</th>\n",
       "      <td>2608.889672</td>\n",
       "      <td>2473.112696</td>\n",
       "      <td>2742.821750</td>\n",
       "    </tr>\n",
       "    <tr>\n",
       "      <th>2016-05-31</th>\n",
       "      <td>2772.277208</td>\n",
       "      <td>2636.431179</td>\n",
       "      <td>2909.341184</td>\n",
       "    </tr>\n",
       "    <tr>\n",
       "      <th>2016-06-30</th>\n",
       "      <td>2939.144854</td>\n",
       "      <td>2797.886320</td>\n",
       "      <td>3080.215679</td>\n",
       "    </tr>\n",
       "    <tr>\n",
       "      <th>2016-07-31</th>\n",
       "      <td>3116.398721</td>\n",
       "      <td>2971.346021</td>\n",
       "      <td>3261.271642</td>\n",
       "    </tr>\n",
       "    <tr>\n",
       "      <th>2016-08-31</th>\n",
       "      <td>2761.129781</td>\n",
       "      <td>2608.030599</td>\n",
       "      <td>2912.530061</td>\n",
       "    </tr>\n",
       "    <tr>\n",
       "      <th>2016-09-30</th>\n",
       "      <td>2609.459031</td>\n",
       "      <td>2449.272301</td>\n",
       "      <td>2770.645029</td>\n",
       "    </tr>\n",
       "    <tr>\n",
       "      <th>2016-10-31</th>\n",
       "      <td>2457.614651</td>\n",
       "      <td>2289.519104</td>\n",
       "      <td>2628.392380</td>\n",
       "    </tr>\n",
       "    <tr>\n",
       "      <th>2016-11-30</th>\n",
       "      <td>2529.031179</td>\n",
       "      <td>2351.521551</td>\n",
       "      <td>2712.532145</td>\n",
       "    </tr>\n",
       "    <tr>\n",
       "      <th>2016-12-31</th>\n",
       "      <td>1950.426302</td>\n",
       "      <td>1760.138325</td>\n",
       "      <td>2145.016075</td>\n",
       "    </tr>\n",
       "  </tbody>\n",
       "</table>\n",
       "</div>"
      ],
      "text/plain": [
       "                   yhat   yhat_lower   yhat_upper\n",
       "ds                                               \n",
       "2013-01-31  1328.171474  1196.274383  1461.790713\n",
       "2013-02-28  1476.955210  1345.570566  1608.825994\n",
       "2013-03-31  1799.542441  1669.627907  1934.345912\n",
       "2013-04-30  2049.814618  1917.498445  2181.810199\n",
       "2013-05-31  2227.721772  2095.387707  2360.676863\n",
       "2013-06-30  2400.246330  2266.241139  2531.427704\n",
       "2013-07-31  2493.326157  2363.418574  2625.167437\n",
       "2013-08-31  2240.570477  2109.880331  2372.687815\n",
       "2013-09-30  2071.920319  1938.757305  2204.123240\n",
       "2013-10-31  1937.586108  1804.391513  2068.621732\n",
       "2013-11-30  2091.118167  1958.252040  2222.295204\n",
       "2013-12-31  1514.787098  1384.064128  1648.752248\n",
       "2014-01-31  1507.635334  1375.187066  1640.422403\n",
       "2014-02-28  1701.554968  1571.058967  1832.448164\n",
       "2014-03-31  2051.723801  1918.232890  2184.098921\n",
       "2014-04-30  2368.320039  2237.444720  2501.142726\n",
       "2014-05-31  2577.863689  2446.031111  2710.270745\n",
       "2014-06-30  2729.317780  2597.832407  2860.867252\n",
       "2014-07-31  2864.786141  2731.922447  2996.267603\n",
       "2014-08-31  2599.205378  2466.276092  2731.725059\n",
       "2014-09-30  2368.119239  2236.855211  2499.991021\n",
       "2014-10-31  2225.499447  2092.581155  2356.304370\n",
       "2014-11-30  2341.893630  2210.307909  2473.330825\n",
       "2014-12-31  1697.222506  1565.725856  1831.583492\n",
       "2015-01-31  1679.718582  1546.531939  1811.562935\n",
       "2015-02-28  1824.828472  1693.416354  1956.671496\n",
       "2015-03-31  2140.482792  2008.957602  2273.124889\n",
       "2015-04-30  2467.200575  2334.975601  2599.843820\n",
       "2015-05-31  2686.411952  2552.892232  2820.204126\n",
       "2015-06-30  2807.111287  2672.231851  2939.387652\n",
       "2015-07-31  2976.174469  2843.169035  3110.651366\n",
       "2015-08-31  2686.849199  2552.884610  2818.537461\n",
       "2015-09-30  2486.702930  2353.258394  2618.165025\n",
       "2015-10-31  2349.580626  2216.704989  2482.096892\n",
       "2015-11-30  2431.760484  2299.034615  2563.016875\n",
       "2015-12-31  1828.985377  1695.043029  1960.992319\n",
       "2016-01-31  1811.587633  1680.783906  1943.142352\n",
       "2016-02-29  1931.540147  1799.582965  2063.095092\n",
       "2016-03-31  2261.317735  2128.174405  2393.958697\n",
       "2016-04-30  2608.889672  2473.112696  2742.821750\n",
       "2016-05-31  2772.277208  2636.431179  2909.341184\n",
       "2016-06-30  2939.144854  2797.886320  3080.215679\n",
       "2016-07-31  3116.398721  2971.346021  3261.271642\n",
       "2016-08-31  2761.129781  2608.030599  2912.530061\n",
       "2016-09-30  2609.459031  2449.272301  2770.645029\n",
       "2016-10-31  2457.614651  2289.519104  2628.392380\n",
       "2016-11-30  2529.031179  2351.521551  2712.532145\n",
       "2016-12-31  1950.426302  1760.138325  2145.016075"
      ]
     },
     "execution_count": 84,
     "metadata": {},
     "output_type": "execute_result"
    }
   ],
   "source": [
    "columns = ['yhat', 'yhat_lower', 'yhat_upper']\n",
    "results.set_index('ds').resample('M').mean()[columns]"
   ]
  },
  {
   "cell_type": "markdown",
   "id": "a9d9598f-c28a-41db-a7af-868680cfc3bd",
   "metadata": {},
   "source": [
    "### 3\n",
    "\n",
    "Plot the 2018 monthly sales predictions."
   ]
  },
  {
   "cell_type": "code",
   "execution_count": 86,
   "id": "b1bfb0c4-7890-4167-bbd1-5b28ff92573b",
   "metadata": {},
   "outputs": [
    {
     "data": {
      "text/html": [
       "<div>\n",
       "<style scoped>\n",
       "    .dataframe tbody tr th:only-of-type {\n",
       "        vertical-align: middle;\n",
       "    }\n",
       "\n",
       "    .dataframe tbody tr th {\n",
       "        vertical-align: top;\n",
       "    }\n",
       "\n",
       "    .dataframe thead th {\n",
       "        text-align: right;\n",
       "    }\n",
       "</style>\n",
       "<table border=\"1\" class=\"dataframe\">\n",
       "  <thead>\n",
       "    <tr style=\"text-align: right;\">\n",
       "      <th></th>\n",
       "      <th>sale_amount</th>\n",
       "    </tr>\n",
       "    <tr>\n",
       "      <th>ds</th>\n",
       "      <th></th>\n",
       "    </tr>\n",
       "  </thead>\n",
       "  <tbody>\n",
       "    <tr>\n",
       "      <th>2013-01-01</th>\n",
       "      <td>1186.444965</td>\n",
       "    </tr>\n",
       "    <tr>\n",
       "      <th>2013-01-02</th>\n",
       "      <td>1196.006001</td>\n",
       "    </tr>\n",
       "    <tr>\n",
       "      <th>2013-01-03</th>\n",
       "      <td>1327.876399</td>\n",
       "    </tr>\n",
       "    <tr>\n",
       "      <th>2013-01-04</th>\n",
       "      <td>1468.131475</td>\n",
       "    </tr>\n",
       "    <tr>\n",
       "      <th>2013-01-05</th>\n",
       "      <td>1620.274115</td>\n",
       "    </tr>\n",
       "  </tbody>\n",
       "</table>\n",
       "</div>"
      ],
      "text/plain": [
       "            sale_amount\n",
       "ds                     \n",
       "2013-01-01  1186.444965\n",
       "2013-01-02  1196.006001\n",
       "2013-01-03  1327.876399\n",
       "2013-01-04  1468.131475\n",
       "2013-01-05  1620.274115"
      ]
     },
     "execution_count": 86,
     "metadata": {},
     "output_type": "execute_result"
    }
   ],
   "source": [
    "future = model.make_future_dataframe(730)\n",
    "results = model.predict(future)\n",
    "predictions = results[['ds', 'yhat']].set_index('ds')\n",
    "predictions.columns = ['sale_amount']\n",
    "predictions.head()"
   ]
  },
  {
   "cell_type": "code",
   "execution_count": 88,
   "id": "3f47d12b-8420-4439-8e91-88727a6e22ca",
   "metadata": {},
   "outputs": [
    {
     "data": {
      "image/png": "[encoded data removed]",
      "text/plain": [
       "<Figure size 864x288 with 1 Axes>"
      ]
     },
     "metadata": {
      "needs_background": "light"
     },
     "output_type": "display_data"
    }
   ],
   "source": [
    "plot_forecast('sale_amount', train, validate, test, predictions.loc['2016' : '2017'])"
   ]
  }
 ],
 "metadata": {
  "kernelspec": {
   "display_name": "Python 3 (ipykernel)",
   "language": "python",
   "name": "python3"
  },
  "language_info": {
   "codemirror_mode": {
    "name": "ipython",
    "version": 3
   },
   "file_extension": ".py",
   "mimetype": "text/x-python",
   "name": "python",
   "nbconvert_exporter": "python",
   "pygments_lexer": "ipython3",
   "version": "3.9.7"
  }
 },
 "nbformat": 4,
 "nbformat_minor": 5
}
